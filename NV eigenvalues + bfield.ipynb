{
 "cells": [
  {
   "cell_type": "code",
   "execution_count": 1,
   "metadata": {},
   "outputs": [
    {
     "name": "stdout",
     "output_type": "stream",
     "text": [
      "Populating the interactive namespace from numpy and matplotlib\n"
     ]
    }
   ],
   "source": [
    "%pylab inline\n",
    "import numpy.linalg"
   ]
  },
  {
   "cell_type": "code",
   "execution_count": 2,
   "metadata": {
    "collapsed": true
   },
   "outputs": [],
   "source": [
    "sz = np.array([[1,0,0],[0,0,0], [0,0,-1]])\n",
    "sy = 1/sqrt(2)/1j*np.array([[0,1,0], [-1,0,1], [0,-1,0]])\n",
    "sx = 1/sqrt(2)*np.array([[0,1,0], [1,0,1], [0,1,0]])\n",
    "sz2 = sz*sz\n",
    "sx2 = sx*sx\n",
    "sy2 = sy*sy\n",
    "id3 = np.array([[1,0,0], [0,1,0], [0,0,1]])"
   ]
  },
  {
   "cell_type": "code",
   "execution_count": 3,
   "metadata": {
    "collapsed": true
   },
   "outputs": [],
   "source": [
    "def hami(d, e, bx, by, bz):\n",
    "    hzfs = d*sz2 + e * (sx2-sy2)\n",
    "    helezeeman = 2.8*(bx*sx + by*sy + bz*sz)\n",
    "    return hzfs+helezeeman\n",
    "\n",
    "#transform vector from lab system into the four NV systems:\n",
    "#we just need to find axial and transversal components, \n",
    "#since transversal directions are equal in hamiltonian, and we assume RF polarization to be diagonally polarized\n",
    "def lab2nvs(b):\n",
    "    #the four NV axes in the lab system:\n",
    "    nv_axes = 1/sqrt(3) * np.array([\n",
    "                       [1,1,1],\n",
    "                       [1,-1,-1],\n",
    "                       [-1,-1,1],\n",
    "                       [-1,1,-1]\n",
    "                       ])\n",
    "    #projection onto axes:\n",
    "    axial = dot(nv_axes, b)\n",
    "    transversal = np.sqrt(np.abs(norm(b)**2 - axial**2))\n",
    "    #let's just assign the transversal component to the x axes\n",
    "    b_nvs = vstack([transversal, zeros(4), axial])\n",
    "    return b_nvs"
   ]
  },
  {
   "cell_type": "code",
   "execution_count": 4,
   "metadata": {
    "collapsed": true
   },
   "outputs": [],
   "source": [
    "npoints = 3000\n",
    "bdir = np.array([1,0,0])\n",
    "bnv = lab2nvs(bdir)\n",
    "bdir = bnv[:,0]/scipy.linalg.norm(bnv[:,0])\n",
    "bf = linspace(0, 3000, npoints)\n",
    "evaarray = zeros((3, npoints))\n",
    "evearray = zeros((3, 3, 2*npoints))\n",
    "evearray.dtype = 'complex128'"
   ]
  },
  {
   "cell_type": "code",
   "execution_count": 5,
   "metadata": {
    "collapsed": true
   },
   "outputs": [],
   "source": [
    "bfi = asarray([bdir*bval for bval in bf])\n",
    "sza = array([1,0,-1])\n",
    "thres = 1e-3\n",
    "for i, b in enumerate(bf):\n",
    "    eva, eve = numpy.linalg.eig(hami(2870, 0, bfi[i, 0], bfi[i, 1], bfi[i,2]))\n",
    "    for k, evec in enumerate(eve.transpose()):\n",
    "        eve[k, :] = evec/scipy.linalg.norm(evec)\n",
    "    eva[abs(eva)< thres] = 0\n",
    "    eve[abs(eve)< thres] = 0\n",
    "    evaarray[:, i] = eva.real-min(eva.real)\n",
    "    evearray[:, :, i] =  eve"
   ]
  },
  {
   "cell_type": "code",
   "execution_count": 6,
   "metadata": {},
   "outputs": [
    {
     "data": {
      "text/plain": [
       "Text(0,0.5,'$\\\\omega$ (MHz)')"
      ]
     },
     "execution_count": 6,
     "metadata": {},
     "output_type": "execute_result"
    },
    {
     "data": {
      "image/png": "[encoded data removed]",
      "text/plain": [
       "<matplotlib.figure.Figure at 0x7f1fc09fc518>"
      ]
     },
     "metadata": {},
     "output_type": "display_data"
    }
   ],
   "source": [
    "plt.figure()\n",
    "ms = 0.8\n",
    "cs = zeros((len(bf) , 3, 3))\n",
    "for i, bfi in enumerate(bf):\n",
    "    even = abs(evearray[:,:,i])\n",
    "    evenn = even.transpose()\n",
    "    cs[i, :, :] = evenn\n",
    "plt.scatter(bf, evaarray[0, :], s=ms, c=cs[:,0,:])\n",
    "plt.scatter(bf, evaarray[1, :], s=ms, c=cs[:,1,:])\n",
    "plt.scatter(bf, evaarray[2, :], s=ms, c=cs[:,2,:])\n",
    "xlabel('|B| (Gauss)')\n",
    "ylabel('$\\omega$ (MHz)')"
   ]
  },
  {
   "cell_type": "code",
   "execution_count": null,
   "metadata": {
    "collapsed": true
   },
   "outputs": [],
   "source": []
  }
 ],
 "metadata": {
  "kernelspec": {
   "display_name": "Python 3",
   "language": "python",
   "name": "python3"
  },
  "language_info": {
   "codemirror_mode": {
    "name": "ipython",
    "version": 2
   },
   "file_extension": ".py",
   "mimetype": "text/x-python",
   "name": "python",
   "nbconvert_exporter": "python",
   "pygments_lexer": "ipython2",
   "version": "2.7.12"
  }
 },
 "nbformat": 4,
 "nbformat_minor": 2
}
