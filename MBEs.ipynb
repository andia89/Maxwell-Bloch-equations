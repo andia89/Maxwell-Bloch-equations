{
 "cells": [
  {
   "cell_type": "code",
   "execution_count": 49,
   "metadata": {},
   "outputs": [
    {
     "name": "stdout",
     "output_type": "stream",
     "text": [
      "Populating the interactive namespace from numpy and matplotlib\n"
     ]
    },
    {
     "name": "stderr",
     "output_type": "stream",
     "text": [
      "/usr/local/lib/python3.5/dist-packages/IPython/core/magics/pylab.py:161: UserWarning:\n",
      "\n",
      "pylab import has clobbered these variables: ['Annotation', 'f', 'Figure', 'gamma']\n",
      "`%matplotlib` prevents importing * from pylab and numpy\n",
      "\n"
     ]
    }
   ],
   "source": [
    "%pylab inline\n",
    "import numpy as np\n",
    "from scipy import integrate\n",
    "from scipy.special import gamma\n",
    "from scipy.optimize import fsolve\n",
    "import matplotlib.pyplot as plt\n",
    "import qutip.ipynbtools\n",
    "import scipy.stats\n",
    "import plotly.plotly as py\n",
    "from plotly.graph_objs import *\n",
    "import plotly.tools as tls"
   ]
  },
  {
   "cell_type": "code",
   "execution_count": 50,
   "metadata": {},
   "outputs": [],
   "source": [
    "gcoll = 2*pi*8.31 #HWHM\n",
    "kappa = 4.4*pi*2 #HWHM\n",
    "q = 1.389\n",
    "delta = 0*2*pi\n",
    "deltac = 0*2*pi\n",
    "gperp = 2*pi*0.06 #HWHM\n",
    "gpar = 2*pi*0.00001 #HWHM\n",
    "gammaq = 2*pi*9.4 #FWHM\n",
    "nspins = 10000#5000#20\n",
    "g0 = gcoll/sqrt(nspins)"
   ]
  },
  {
   "cell_type": "code",
   "execution_count": 51,
   "metadata": {
    "collapsed": true
   },
   "outputs": [],
   "source": [
    "def odeintz(func, z0, t, **kwargs):\n",
    "    \"\"\"An odeint-like function for complex valued differential equations.\"\"\"\n",
    "\n",
    "    # Disallow Jacobian-related arguments.\n",
    "    _unsupported_odeint_args = ['Dfun', 'col_deriv', 'ml', 'mu']\n",
    "    bad_args = [arg for arg in kwargs if arg in _unsupported_odeint_args]\n",
    "    if len(bad_args) > 0:\n",
    "        raise ValueError(\"The odeint argument %r is not supported by \"\n",
    "                         \"odeintz.\" % (bad_args[0],))\n",
    "\n",
    "    # Make sure z0 is a numpy array of type np.complex128.\n",
    "    z0 = np.array(z0, dtype=np.complex128, ndmin=1)\n",
    "\n",
    "    def realfunc(x, t, *args):\n",
    "        z = x.view(np.complex128)\n",
    "        dzdt = func(z, t, *args)\n",
    "        # func might return a python list, so convert its return\n",
    "        # value to an array with type np.complex128, and then return\n",
    "        # a np.float64 view of that array.\n",
    "        return np.asarray(dzdt, dtype=np.complex128).view(np.float64)\n",
    "\n",
    "    result = integrate.odeint(realfunc, z0.view(np.float64), t, **kwargs)\n",
    "\n",
    "    if kwargs.get('full_output', False):\n",
    "        z = result[0].view(np.complex128)\n",
    "        infodict = result[1]\n",
    "        return z, infodict\n",
    "    else:\n",
    "        z = result.view(np.complex128)\n",
    "        return z"
   ]
  },
  {
   "cell_type": "code",
   "execution_count": 52,
   "metadata": {},
   "outputs": [],
   "source": [
    "def tsallis(f, q, width):\n",
    "    delta = (width)/2*sqrt(2*q-2)/sqrt(2**q-2)/sqrt(2)\n",
    "    norm = sqrt(q-1)*gamma(1/(q-1))/(sqrt(2*pi)*delta*gamma((3-q)/(2*(q-1))))\n",
    "    val = (1+(q-1)*f**2/delta**2/2)**(1/(1-q))\n",
    "    return norm*val"
   ]
  },
  {
   "cell_type": "code",
   "execution_count": 53,
   "metadata": {},
   "outputs": [],
   "source": [
    "def find_nearest(array,value):\n",
    "    idx = (np.abs(array-value)).argmin()\n",
    "    return idx, array[idx]\n",
    "\n",
    "def cauchy(x, pos, fwhm, ampl):\n",
    "    return 1/((x-pos)**2+0.25*fwhm**2)*0.25*fwhm**2*ampl"
   ]
  },
  {
   "cell_type": "code",
   "execution_count": 54,
   "metadata": {},
   "outputs": [
    {
     "data": {
      "image/png": "[encoded data removed]",
      "text/plain": [
       "<matplotlib.figure.Figure at 0x7f2749c33470>"
      ]
     },
     "metadata": {},
     "output_type": "display_data"
    }
   ],
   "source": [
    "holes = True #set to true if you want to include holes in your simulation\n",
    "inhomo = True #do you want inhomogneous broadening\n",
    "\n",
    "f = np.linspace(-gammaq/2, gammaq/2, 10000 )\n",
    "pdf = tsallis(f, q, gammaq/2/pi)\n",
    "\n",
    "\n",
    "if holes:\n",
    "    frequency_exclude = gcoll/2/pi\n",
    "    exclude_width = 0.8 #FWHM\n",
    "\n",
    "    indf, freq = find_nearest(f, frequency_exclude)\n",
    "    scale = pdf[indf]\n",
    "\n",
    "    toex = cauchy(f, frequency_exclude, exclude_width, -scale)+cauchy(f, -frequency_exclude, exclude_width, -scale)\n",
    "    pdf = pdf+toex\n",
    "\n",
    "pdf = clip(pdf, 0, max(pdf) )   \n",
    "    \n",
    "spdf = sum(pdf)\n",
    "pdf = pdf/spdf    \n",
    "    \n",
    "spins = numpy.random.choice(f, p=pdf, size=nspins) #draw samples according to distribution\n",
    "if inhomo:\n",
    "    figure()\n",
    "    hist(spins, 200);\n",
    "    plot(f, pdf*nspins*spdf)\n",
    "else:\n",
    "    #print(spins)\n",
    "    spins = zeros(shape(spins))"
   ]
  },
  {
   "cell_type": "code",
   "execution_count": 55,
   "metadata": {},
   "outputs": [],
   "source": [
    "def func(a, eta, deltdrive):\n",
    "    spins2 = 2*pi*(spins)+deltdrive\n",
    "    sn = gperp-1j*spins2 \n",
    "    sd = gpar*gperp**2+4*np.abs(a)**2*g0**2*gperp+gpar*spins2**2\n",
    "    s = sn/sd\n",
    "    \n",
    "    ret = 1j*a*deltdrive + eta + a*kappa + a*g0**2*gpar*np.sum(s)\n",
    "    return ret.real, ret.imag\n",
    "\n",
    "def a_steady(eta, deltadrive, init):\n",
    "\n",
    "    def equations(x):\n",
    "        ar, ai = x\n",
    "        return func(ar+1j*ai, eta, deltadrive)\n",
    "    ar, ai = fsolve(equations, init)\n",
    "\n",
    "    return ar, ai"
   ]
  },
  {
   "cell_type": "code",
   "execution_count": 56,
   "metadata": {},
   "outputs": [
    {
     "data": {
      "text/plain": [
       "array([-8.4192096])"
      ]
     },
     "execution_count": 56,
     "metadata": {},
     "output_type": "execute_result"
    },
    {
     "data": {
      "image/png": "[encoded data removed]",
      "text/plain": [
       "<matplotlib.figure.Figure at 0x7f2746a7db38>"
      ]
     },
     "metadata": {},
     "output_type": "display_data"
    }
   ],
   "source": [
    "initsteady = (0.,0.1)\n",
    "fstart = 30\n",
    "deltaarr = linspace(-fstart*2*pi,fstart*2*pi, 2000)\n",
    "etasteady = 0.00001\n",
    "losasteady = np.zeros(shape(deltaarr))\n",
    "\n",
    "newinit = initsteady\n",
    "for i, delt in enumerate(deltaarr):\n",
    "    ar, ai = a_steady(etasteady, delt, newinit)\n",
    "    newinit = (ar, ai)\n",
    "    losasteady[i] = ai**2+ar**2\n",
    "\n",
    "fig = figure()\n",
    "plot(deltaarr/2/pi, losasteady)\n",
    "deltaarr[find(losasteady == max(losasteady))]/2/pi"
   ]
  },
  {
   "cell_type": "code",
   "execution_count": 35,
   "metadata": {},
   "outputs": [],
   "source": [
    "#this is as optimized as possible using numpy slicing so calling this function SHOULD be very fast\n",
    "ret = np.zeros(nspins*2+1, dtype=complex)\n",
    "def mbes(Y, t, eta):\n",
    "    ret[0] = -kappa*Y[0]-1j*deltac*Y[0]+g0*np.sum(Y[1::2])+eta\n",
    "    ret[1::2] = -(gperp+1j*spins*2*pi)*Y[1::2]+g0*Y[2::2]*Y[0]\n",
    "    ret[2::2] = -gpar*(1+Y[2::2])-2*g0*(Y[1::2]*np.conj(Y[0])+np.conj(Y[1::2])*Y[0])\n",
    "    return ret\n",
    "\n",
    "#%%timeit gives\n",
    "#10000 loops, best of 3: 45 µs per loop\n",
    "#for 800 spins it becomes ~70µs. This is probably not the bottleneck"
   ]
  },
  {
   "cell_type": "code",
   "execution_count": 36,
   "metadata": {},
   "outputs": [],
   "source": [
    "\n",
    "\n",
    "def do_calculation(drive, tlistpump, tlistafter, init):\n",
    "\n",
    "    #this should be very fast as well because scipy uses fortran \n",
    "    asolpump = odeintz(mbes, init, tlistpump, args=(drive,))\n",
    "    init2 = asolpump[-1,:]\n",
    "    asoldecay = odeintz(mbes, init2, tlistafter, args=(0,))\n",
    "\n",
    "    return asolpump, asoldecay\n",
    "    #solution is that the first entry is the cavity, and then the first spin (sigma-, sigmaz) then the second etc..."
   ]
  },
  {
   "cell_type": "code",
   "execution_count": 41,
   "metadata": {},
   "outputs": [],
   "source": [
    "pumptime = 400e-3\n",
    "endtime = 1500e-3\n",
    "drive = 0.1\n",
    "\n",
    "numsteps = 1000\n",
    "\n",
    "tp = linspace(0,pumptime,numsteps)\n",
    "tdec = linspace(pumptime, endtime, numsteps)\n",
    "\n",
    "#starting with all spins down\n",
    "init = np.ones(nspins*2+1)*(-1)\n",
    "init[0] = 0\n",
    "init[1::2] = 0\n",
    "\n",
    "asolpump, asoldecay = do_calculation(drive, tp, tdec, init)"
   ]
  },
  {
   "cell_type": "code",
   "execution_count": 42,
   "metadata": {},
   "outputs": [
    {
     "name": "stderr",
     "output_type": "stream",
     "text": [
      "/usr/local/lib/python3.5/dist-packages/numpy/core/numeric.py:531: ComplexWarning:\n",
      "\n",
      "Casting complex values to real discards the imaginary part\n",
      "\n"
     ]
    },
    {
     "data": {
      "text/plain": [
       "<matplotlib.text.Text at 0x7f274b8912b0>"
      ]
     },
     "execution_count": 42,
     "metadata": {},
     "output_type": "execute_result"
    },
    {
     "data": {
      "image/png": "[encoded data removed]",
      "text/plain": [
       "<matplotlib.figure.Figure at 0x7f274b9070f0>"
      ]
     },
     "metadata": {},
     "output_type": "display_data"
    },
    {
     "data": {
      "image/png": "[encoded data removed]",
      "text/plain": [
       "<matplotlib.figure.Figure at 0x7f274b53b710>"
      ]
     },
     "metadata": {},
     "output_type": "display_data"
    },
    {
     "data": {
      "image/png": "[encoded data removed]",
      "text/plain": [
       "<matplotlib.figure.Figure at 0x7f274b7372e8>"
      ]
     },
     "metadata": {},
     "output_type": "display_data"
    }
   ],
   "source": [
    "fig1 = figure()\n",
    "plot(tp*1000, abs(asolpump[:,0])**2, 'k-')\n",
    "plot(tdec*1000, abs(asoldecay[:,0])**2, 'b-')\n",
    "xlabel('Time [ns]')\n",
    "ylabel('$|a|^2$')\n",
    "#py.iplot_mpl(fig1)\n",
    "fig2 = figure()\n",
    "plot(tp*1000, np.sum(asolpump[:, 2::2], axis=1)/nspins, 'k-')\n",
    "plot(tdec*1000, np.sum(asoldecay[:, 2::2], axis=1)/nspins, 'r-')\n",
    "xlabel('Time [ns]')\n",
    "ylabel('$S_z$')\n",
    "#py.iplot_mpl(fig2)\n",
    "fig3 = figure()\n",
    "plot(tp*1000, np.sum(asolpump[:, 1::2], axis=1)/nspins, 'k-')\n",
    "plot(tdec*1000, np.sum(asoldecay[:, 1::2], axis=1)/nspins, 'g-')\n",
    "xlabel('Time [ns]')\n",
    "ylabel('$S_-$')\n",
    "#py.iplot_mpl(fig3)"
   ]
  },
  {
   "cell_type": "code",
   "execution_count": 47,
   "metadata": {},
   "outputs": [
    {
     "data": {
      "text/html": [
       "<div style=\"border: 2px solid grey; width: 600px\">\n",
       "  <div id=\"d03fd869-3e35-40fe-9ea7-bf7a1616eebc\" style=\"background-color: rgba(121,195,106,0.75); width:0%\">&nbsp;</div>\n",
       "</div>\n",
       "<p id=\"57611525-5bb5-4681-8e27-c8021ab46cbc\"></p>\n"
      ],
      "text/plain": [
       "<IPython.core.display.HTML object>"
      ]
     },
     "metadata": {},
     "output_type": "display_data"
    },
    {
     "data": {
      "application/javascript": [
       "$('div#d03fd869-3e35-40fe-9ea7-bf7a1616eebc').width('1%');$('p#57611525-5bb5-4681-8e27-c8021ab46cbc').text('Elapsed time:  10.29s. Est. remaining time: 00:00:10:06.');"
      ],
      "text/plain": [
       "<IPython.core.display.Javascript object>"
      ]
     },
     "metadata": {},
     "output_type": "display_data"
    },
    {
     "data": {
      "application/javascript": [
       "$('div#d03fd869-3e35-40fe-9ea7-bf7a1616eebc').width('3%');$('p#57611525-5bb5-4681-8e27-c8021ab46cbc').text('Elapsed time:  15.25s. Est. remaining time: 00:00:07:22.');"
      ],
      "text/plain": [
       "<IPython.core.display.Javascript object>"
      ]
     },
     "metadata": {},
     "output_type": "display_data"
    },
    {
     "data": {
      "application/javascript": [
       "$('div#d03fd869-3e35-40fe-9ea7-bf7a1616eebc').width('5%');$('p#57611525-5bb5-4681-8e27-c8021ab46cbc').text('Elapsed time:  19.71s. Est. remaining time: 00:00:06:14.');"
      ],
      "text/plain": [
       "<IPython.core.display.Javascript object>"
      ]
     },
     "metadata": {},
     "output_type": "display_data"
    },
    {
     "data": {
      "application/javascript": [
       "$('div#d03fd869-3e35-40fe-9ea7-bf7a1616eebc').width('6%');$('p#57611525-5bb5-4681-8e27-c8021ab46cbc').text('Elapsed time:  24.83s. Est. remaining time: 00:00:05:47.');"
      ],
      "text/plain": [
       "<IPython.core.display.Javascript object>"
      ]
     },
     "metadata": {},
     "output_type": "display_data"
    },
    {
     "data": {
      "application/javascript": [
       "$('div#d03fd869-3e35-40fe-9ea7-bf7a1616eebc').width('8%');$('p#57611525-5bb5-4681-8e27-c8021ab46cbc').text('Elapsed time:  29.54s. Est. remaining time: 00:00:05:24.');"
      ],
      "text/plain": [
       "<IPython.core.display.Javascript object>"
      ]
     },
     "metadata": {},
     "output_type": "display_data"
    },
    {
     "data": {
      "application/javascript": [
       "$('div#d03fd869-3e35-40fe-9ea7-bf7a1616eebc').width('10%');$('p#57611525-5bb5-4681-8e27-c8021ab46cbc').text('Elapsed time:  34.64s. Est. remaining time: 00:00:05:11.');"
      ],
      "text/plain": [
       "<IPython.core.display.Javascript object>"
      ]
     },
     "metadata": {},
     "output_type": "display_data"
    },
    {
     "data": {
      "application/javascript": [
       "$('div#d03fd869-3e35-40fe-9ea7-bf7a1616eebc').width('11%');$('p#57611525-5bb5-4681-8e27-c8021ab46cbc').text('Elapsed time:  39.39s. Est. remaining time: 00:00:04:58.');"
      ],
      "text/plain": [
       "<IPython.core.display.Javascript object>"
      ]
     },
     "metadata": {},
     "output_type": "display_data"
    },
    {
     "data": {
      "application/javascript": [
       "$('div#d03fd869-3e35-40fe-9ea7-bf7a1616eebc').width('13%');$('p#57611525-5bb5-4681-8e27-c8021ab46cbc').text('Elapsed time:  44.13s. Est. remaining time: 00:00:04:46.');"
      ],
      "text/plain": [
       "<IPython.core.display.Javascript object>"
      ]
     },
     "metadata": {},
     "output_type": "display_data"
    },
    {
     "data": {
      "application/javascript": [
       "$('div#d03fd869-3e35-40fe-9ea7-bf7a1616eebc').width('15%');$('p#57611525-5bb5-4681-8e27-c8021ab46cbc').text('Elapsed time:  48.72s. Est. remaining time: 00:00:04:36.');"
      ],
      "text/plain": [
       "<IPython.core.display.Javascript object>"
      ]
     },
     "metadata": {},
     "output_type": "display_data"
    },
    {
     "data": {
      "application/javascript": [
       "$('div#d03fd869-3e35-40fe-9ea7-bf7a1616eebc').width('16%');$('p#57611525-5bb5-4681-8e27-c8021ab46cbc').text('Elapsed time:  53.57s. Est. remaining time: 00:00:04:27.');"
      ],
      "text/plain": [
       "<IPython.core.display.Javascript object>"
      ]
     },
     "metadata": {},
     "output_type": "display_data"
    },
    {
     "data": {
      "application/javascript": [
       "$('div#d03fd869-3e35-40fe-9ea7-bf7a1616eebc').width('18%');$('p#57611525-5bb5-4681-8e27-c8021ab46cbc').text('Elapsed time:  58.01s. Est. remaining time: 00:00:04:18.');"
      ],
      "text/plain": [
       "<IPython.core.display.Javascript object>"
      ]
     },
     "metadata": {},
     "output_type": "display_data"
    },
    {
     "data": {
      "application/javascript": [
       "$('div#d03fd869-3e35-40fe-9ea7-bf7a1616eebc').width('20%');$('p#57611525-5bb5-4681-8e27-c8021ab46cbc').text('Elapsed time:  63.15s. Est. remaining time: 00:00:04:12.');"
      ],
      "text/plain": [
       "<IPython.core.display.Javascript object>"
      ]
     },
     "metadata": {},
     "output_type": "display_data"
    },
    {
     "data": {
      "application/javascript": [
       "$('div#d03fd869-3e35-40fe-9ea7-bf7a1616eebc').width('21%');$('p#57611525-5bb5-4681-8e27-c8021ab46cbc').text('Elapsed time:  67.60s. Est. remaining time: 00:00:04:04.');"
      ],
      "text/plain": [
       "<IPython.core.display.Javascript object>"
      ]
     },
     "metadata": {},
     "output_type": "display_data"
    },
    {
     "data": {
      "application/javascript": [
       "$('div#d03fd869-3e35-40fe-9ea7-bf7a1616eebc').width('23%');$('p#57611525-5bb5-4681-8e27-c8021ab46cbc').text('Elapsed time:  72.91s. Est. remaining time: 00:00:03:59.');"
      ],
      "text/plain": [
       "<IPython.core.display.Javascript object>"
      ]
     },
     "metadata": {},
     "output_type": "display_data"
    },
    {
     "data": {
      "application/javascript": [
       "$('div#d03fd869-3e35-40fe-9ea7-bf7a1616eebc').width('25%');$('p#57611525-5bb5-4681-8e27-c8021ab46cbc').text('Elapsed time:  79.19s. Est. remaining time: 00:00:03:57.');"
      ],
      "text/plain": [
       "<IPython.core.display.Javascript object>"
      ]
     },
     "metadata": {},
     "output_type": "display_data"
    },
    {
     "data": {
      "application/javascript": [
       "$('div#d03fd869-3e35-40fe-9ea7-bf7a1616eebc').width('26%');$('p#57611525-5bb5-4681-8e27-c8021ab46cbc').text('Elapsed time:  86.34s. Est. remaining time: 00:00:03:57.');"
      ],
      "text/plain": [
       "<IPython.core.display.Javascript object>"
      ]
     },
     "metadata": {},
     "output_type": "display_data"
    },
    {
     "data": {
      "application/javascript": [
       "$('div#d03fd869-3e35-40fe-9ea7-bf7a1616eebc').width('28%');$('p#57611525-5bb5-4681-8e27-c8021ab46cbc').text('Elapsed time:  92.81s. Est. remaining time: 00:00:03:54.');"
      ],
      "text/plain": [
       "<IPython.core.display.Javascript object>"
      ]
     },
     "metadata": {},
     "output_type": "display_data"
    },
    {
     "data": {
      "application/javascript": [
       "$('div#d03fd869-3e35-40fe-9ea7-bf7a1616eebc').width('30%');$('p#57611525-5bb5-4681-8e27-c8021ab46cbc').text('Elapsed time:  99.11s. Est. remaining time: 00:00:03:51.');"
      ],
      "text/plain": [
       "<IPython.core.display.Javascript object>"
      ]
     },
     "metadata": {},
     "output_type": "display_data"
    },
    {
     "data": {
      "application/javascript": [
       "$('div#d03fd869-3e35-40fe-9ea7-bf7a1616eebc').width('31%');$('p#57611525-5bb5-4681-8e27-c8021ab46cbc').text('Elapsed time: 104.45s. Est. remaining time: 00:00:03:45.');"
      ],
      "text/plain": [
       "<IPython.core.display.Javascript object>"
      ]
     },
     "metadata": {},
     "output_type": "display_data"
    },
    {
     "data": {
      "application/javascript": [
       "$('div#d03fd869-3e35-40fe-9ea7-bf7a1616eebc').width('33%');$('p#57611525-5bb5-4681-8e27-c8021ab46cbc').text('Elapsed time: 109.41s. Est. remaining time: 00:00:03:38.');"
      ],
      "text/plain": [
       "<IPython.core.display.Javascript object>"
      ]
     },
     "metadata": {},
     "output_type": "display_data"
    },
    {
     "data": {
      "application/javascript": [
       "$('div#d03fd869-3e35-40fe-9ea7-bf7a1616eebc').width('35%');$('p#57611525-5bb5-4681-8e27-c8021ab46cbc').text('Elapsed time: 113.79s. Est. remaining time: 00:00:03:31.');"
      ],
      "text/plain": [
       "<IPython.core.display.Javascript object>"
      ]
     },
     "metadata": {},
     "output_type": "display_data"
    },
    {
     "data": {
      "application/javascript": [
       "$('div#d03fd869-3e35-40fe-9ea7-bf7a1616eebc').width('36%');$('p#57611525-5bb5-4681-8e27-c8021ab46cbc').text('Elapsed time: 118.23s. Est. remaining time: 00:00:03:24.');"
      ],
      "text/plain": [
       "<IPython.core.display.Javascript object>"
      ]
     },
     "metadata": {},
     "output_type": "display_data"
    },
    {
     "data": {
      "application/javascript": [
       "$('div#d03fd869-3e35-40fe-9ea7-bf7a1616eebc').width('38%');$('p#57611525-5bb5-4681-8e27-c8021ab46cbc').text('Elapsed time: 122.50s. Est. remaining time: 00:00:03:17.');"
      ],
      "text/plain": [
       "<IPython.core.display.Javascript object>"
      ]
     },
     "metadata": {},
     "output_type": "display_data"
    },
    {
     "data": {
      "application/javascript": [
       "$('div#d03fd869-3e35-40fe-9ea7-bf7a1616eebc').width('40%');$('p#57611525-5bb5-4681-8e27-c8021ab46cbc').text('Elapsed time: 126.95s. Est. remaining time: 00:00:03:10.');"
      ],
      "text/plain": [
       "<IPython.core.display.Javascript object>"
      ]
     },
     "metadata": {},
     "output_type": "display_data"
    },
    {
     "data": {
      "application/javascript": [
       "$('div#d03fd869-3e35-40fe-9ea7-bf7a1616eebc').width('41%');$('p#57611525-5bb5-4681-8e27-c8021ab46cbc').text('Elapsed time: 131.74s. Est. remaining time: 00:00:03:04.');"
      ],
      "text/plain": [
       "<IPython.core.display.Javascript object>"
      ]
     },
     "metadata": {},
     "output_type": "display_data"
    },
    {
     "data": {
      "application/javascript": [
       "$('div#d03fd869-3e35-40fe-9ea7-bf7a1616eebc').width('43%');$('p#57611525-5bb5-4681-8e27-c8021ab46cbc').text('Elapsed time: 136.44s. Est. remaining time: 00:00:02:58.');"
      ],
      "text/plain": [
       "<IPython.core.display.Javascript object>"
      ]
     },
     "metadata": {},
     "output_type": "display_data"
    },
    {
     "data": {
      "application/javascript": [
       "$('div#d03fd869-3e35-40fe-9ea7-bf7a1616eebc').width('45%');$('p#57611525-5bb5-4681-8e27-c8021ab46cbc').text('Elapsed time: 141.02s. Est. remaining time: 00:00:02:52.');"
      ],
      "text/plain": [
       "<IPython.core.display.Javascript object>"
      ]
     },
     "metadata": {},
     "output_type": "display_data"
    },
    {
     "data": {
      "application/javascript": [
       "$('div#d03fd869-3e35-40fe-9ea7-bf7a1616eebc').width('46%');$('p#57611525-5bb5-4681-8e27-c8021ab46cbc').text('Elapsed time: 145.43s. Est. remaining time: 00:00:02:46.');"
      ],
      "text/plain": [
       "<IPython.core.display.Javascript object>"
      ]
     },
     "metadata": {},
     "output_type": "display_data"
    },
    {
     "data": {
      "application/javascript": [
       "$('div#d03fd869-3e35-40fe-9ea7-bf7a1616eebc').width('48%');$('p#57611525-5bb5-4681-8e27-c8021ab46cbc').text('Elapsed time: 150.02s. Est. remaining time: 00:00:02:40.');"
      ],
      "text/plain": [
       "<IPython.core.display.Javascript object>"
      ]
     },
     "metadata": {},
     "output_type": "display_data"
    },
    {
     "data": {
      "application/javascript": [
       "$('div#d03fd869-3e35-40fe-9ea7-bf7a1616eebc').width('50%');$('p#57611525-5bb5-4681-8e27-c8021ab46cbc').text('Elapsed time: 154.99s. Est. remaining time: 00:00:02:34.');"
      ],
      "text/plain": [
       "<IPython.core.display.Javascript object>"
      ]
     },
     "metadata": {},
     "output_type": "display_data"
    },
    {
     "data": {
      "application/javascript": [
       "$('div#d03fd869-3e35-40fe-9ea7-bf7a1616eebc').width('51%');$('p#57611525-5bb5-4681-8e27-c8021ab46cbc').text('Elapsed time: 159.44s. Est. remaining time: 00:00:02:29.');"
      ],
      "text/plain": [
       "<IPython.core.display.Javascript object>"
      ]
     },
     "metadata": {},
     "output_type": "display_data"
    },
    {
     "data": {
      "application/javascript": [
       "$('div#d03fd869-3e35-40fe-9ea7-bf7a1616eebc').width('53%');$('p#57611525-5bb5-4681-8e27-c8021ab46cbc').text('Elapsed time: 164.17s. Est. remaining time: 00:00:02:23.');"
      ],
      "text/plain": [
       "<IPython.core.display.Javascript object>"
      ]
     },
     "metadata": {},
     "output_type": "display_data"
    },
    {
     "data": {
      "application/javascript": [
       "$('div#d03fd869-3e35-40fe-9ea7-bf7a1616eebc').width('55%');$('p#57611525-5bb5-4681-8e27-c8021ab46cbc').text('Elapsed time: 169.17s. Est. remaining time: 00:00:02:18.');"
      ],
      "text/plain": [
       "<IPython.core.display.Javascript object>"
      ]
     },
     "metadata": {},
     "output_type": "display_data"
    },
    {
     "data": {
      "application/javascript": [
       "$('div#d03fd869-3e35-40fe-9ea7-bf7a1616eebc').width('56%');$('p#57611525-5bb5-4681-8e27-c8021ab46cbc').text('Elapsed time: 175.13s. Est. remaining time: 00:00:02:13.');"
      ],
      "text/plain": [
       "<IPython.core.display.Javascript object>"
      ]
     },
     "metadata": {},
     "output_type": "display_data"
    },
    {
     "data": {
      "application/javascript": [
       "$('div#d03fd869-3e35-40fe-9ea7-bf7a1616eebc').width('58%');$('p#57611525-5bb5-4681-8e27-c8021ab46cbc').text('Elapsed time: 181.91s. Est. remaining time: 00:00:02:09.');"
      ],
      "text/plain": [
       "<IPython.core.display.Javascript object>"
      ]
     },
     "metadata": {},
     "output_type": "display_data"
    },
    {
     "data": {
      "application/javascript": [
       "$('div#d03fd869-3e35-40fe-9ea7-bf7a1616eebc').width('60%');$('p#57611525-5bb5-4681-8e27-c8021ab46cbc').text('Elapsed time: 189.42s. Est. remaining time: 00:00:02:06.');"
      ],
      "text/plain": [
       "<IPython.core.display.Javascript object>"
      ]
     },
     "metadata": {},
     "output_type": "display_data"
    },
    {
     "data": {
      "application/javascript": [
       "$('div#d03fd869-3e35-40fe-9ea7-bf7a1616eebc').width('61%');$('p#57611525-5bb5-4681-8e27-c8021ab46cbc').text('Elapsed time: 196.41s. Est. remaining time: 00:00:02:02.');"
      ],
      "text/plain": [
       "<IPython.core.display.Javascript object>"
      ]
     },
     "metadata": {},
     "output_type": "display_data"
    },
    {
     "data": {
      "application/javascript": [
       "$('div#d03fd869-3e35-40fe-9ea7-bf7a1616eebc').width('63%');$('p#57611525-5bb5-4681-8e27-c8021ab46cbc').text('Elapsed time: 203.15s. Est. remaining time: 00:00:01:57.');"
      ],
      "text/plain": [
       "<IPython.core.display.Javascript object>"
      ]
     },
     "metadata": {},
     "output_type": "display_data"
    },
    {
     "data": {
      "application/javascript": [
       "$('div#d03fd869-3e35-40fe-9ea7-bf7a1616eebc').width('65%');$('p#57611525-5bb5-4681-8e27-c8021ab46cbc').text('Elapsed time: 209.66s. Est. remaining time: 00:00:01:52.');"
      ],
      "text/plain": [
       "<IPython.core.display.Javascript object>"
      ]
     },
     "metadata": {},
     "output_type": "display_data"
    },
    {
     "data": {
      "application/javascript": [
       "$('div#d03fd869-3e35-40fe-9ea7-bf7a1616eebc').width('66%');$('p#57611525-5bb5-4681-8e27-c8021ab46cbc').text('Elapsed time: 214.61s. Est. remaining time: 00:00:01:47.');"
      ],
      "text/plain": [
       "<IPython.core.display.Javascript object>"
      ]
     },
     "metadata": {},
     "output_type": "display_data"
    },
    {
     "data": {
      "application/javascript": [
       "$('div#d03fd869-3e35-40fe-9ea7-bf7a1616eebc').width('68%');$('p#57611525-5bb5-4681-8e27-c8021ab46cbc').text('Elapsed time: 219.25s. Est. remaining time: 00:00:01:41.');"
      ],
      "text/plain": [
       "<IPython.core.display.Javascript object>"
      ]
     },
     "metadata": {},
     "output_type": "display_data"
    },
    {
     "data": {
      "application/javascript": [
       "$('div#d03fd869-3e35-40fe-9ea7-bf7a1616eebc').width('70%');$('p#57611525-5bb5-4681-8e27-c8021ab46cbc').text('Elapsed time: 224.00s. Est. remaining time: 00:00:01:35.');"
      ],
      "text/plain": [
       "<IPython.core.display.Javascript object>"
      ]
     },
     "metadata": {},
     "output_type": "display_data"
    },
    {
     "data": {
      "application/javascript": [
       "$('div#d03fd869-3e35-40fe-9ea7-bf7a1616eebc').width('71%');$('p#57611525-5bb5-4681-8e27-c8021ab46cbc').text('Elapsed time: 228.79s. Est. remaining time: 00:00:01:30.');"
      ],
      "text/plain": [
       "<IPython.core.display.Javascript object>"
      ]
     },
     "metadata": {},
     "output_type": "display_data"
    },
    {
     "data": {
      "application/javascript": [
       "$('div#d03fd869-3e35-40fe-9ea7-bf7a1616eebc').width('73%');$('p#57611525-5bb5-4681-8e27-c8021ab46cbc').text('Elapsed time: 233.67s. Est. remaining time: 00:00:01:24.');"
      ],
      "text/plain": [
       "<IPython.core.display.Javascript object>"
      ]
     },
     "metadata": {},
     "output_type": "display_data"
    },
    {
     "data": {
      "application/javascript": [
       "$('div#d03fd869-3e35-40fe-9ea7-bf7a1616eebc').width('75%');$('p#57611525-5bb5-4681-8e27-c8021ab46cbc').text('Elapsed time: 238.26s. Est. remaining time: 00:00:01:19.');"
      ],
      "text/plain": [
       "<IPython.core.display.Javascript object>"
      ]
     },
     "metadata": {},
     "output_type": "display_data"
    },
    {
     "data": {
      "application/javascript": [
       "$('div#d03fd869-3e35-40fe-9ea7-bf7a1616eebc').width('76%');$('p#57611525-5bb5-4681-8e27-c8021ab46cbc').text('Elapsed time: 242.98s. Est. remaining time: 00:00:01:13.');"
      ],
      "text/plain": [
       "<IPython.core.display.Javascript object>"
      ]
     },
     "metadata": {},
     "output_type": "display_data"
    },
    {
     "data": {
      "application/javascript": [
       "$('div#d03fd869-3e35-40fe-9ea7-bf7a1616eebc').width('78%');$('p#57611525-5bb5-4681-8e27-c8021ab46cbc').text('Elapsed time: 247.49s. Est. remaining time: 00:00:01:08.');"
      ],
      "text/plain": [
       "<IPython.core.display.Javascript object>"
      ]
     },
     "metadata": {},
     "output_type": "display_data"
    },
    {
     "data": {
      "application/javascript": [
       "$('div#d03fd869-3e35-40fe-9ea7-bf7a1616eebc').width('80%');$('p#57611525-5bb5-4681-8e27-c8021ab46cbc').text('Elapsed time: 252.19s. Est. remaining time: 00:00:01:03.');"
      ],
      "text/plain": [
       "<IPython.core.display.Javascript object>"
      ]
     },
     "metadata": {},
     "output_type": "display_data"
    },
    {
     "data": {
      "application/javascript": [
       "$('div#d03fd869-3e35-40fe-9ea7-bf7a1616eebc').width('81%');$('p#57611525-5bb5-4681-8e27-c8021ab46cbc').text('Elapsed time: 256.70s. Est. remaining time: 00:00:00:57.');"
      ],
      "text/plain": [
       "<IPython.core.display.Javascript object>"
      ]
     },
     "metadata": {},
     "output_type": "display_data"
    },
    {
     "data": {
      "application/javascript": [
       "$('div#d03fd869-3e35-40fe-9ea7-bf7a1616eebc').width('83%');$('p#57611525-5bb5-4681-8e27-c8021ab46cbc').text('Elapsed time: 261.36s. Est. remaining time: 00:00:00:52.');"
      ],
      "text/plain": [
       "<IPython.core.display.Javascript object>"
      ]
     },
     "metadata": {},
     "output_type": "display_data"
    },
    {
     "data": {
      "application/javascript": [
       "$('div#d03fd869-3e35-40fe-9ea7-bf7a1616eebc').width('85%');$('p#57611525-5bb5-4681-8e27-c8021ab46cbc').text('Elapsed time: 265.74s. Est. remaining time: 00:00:00:46.');"
      ],
      "text/plain": [
       "<IPython.core.display.Javascript object>"
      ]
     },
     "metadata": {},
     "output_type": "display_data"
    },
    {
     "data": {
      "application/javascript": [
       "$('div#d03fd869-3e35-40fe-9ea7-bf7a1616eebc').width('86%');$('p#57611525-5bb5-4681-8e27-c8021ab46cbc').text('Elapsed time: 270.20s. Est. remaining time: 00:00:00:41.');"
      ],
      "text/plain": [
       "<IPython.core.display.Javascript object>"
      ]
     },
     "metadata": {},
     "output_type": "display_data"
    },
    {
     "data": {
      "application/javascript": [
       "$('div#d03fd869-3e35-40fe-9ea7-bf7a1616eebc').width('88%');$('p#57611525-5bb5-4681-8e27-c8021ab46cbc').text('Elapsed time: 274.71s. Est. remaining time: 00:00:00:36.');"
      ],
      "text/plain": [
       "<IPython.core.display.Javascript object>"
      ]
     },
     "metadata": {},
     "output_type": "display_data"
    },
    {
     "data": {
      "application/javascript": [
       "$('div#d03fd869-3e35-40fe-9ea7-bf7a1616eebc').width('90%');$('p#57611525-5bb5-4681-8e27-c8021ab46cbc').text('Elapsed time: 279.27s. Est. remaining time: 00:00:00:31.');"
      ],
      "text/plain": [
       "<IPython.core.display.Javascript object>"
      ]
     },
     "metadata": {},
     "output_type": "display_data"
    },
    {
     "data": {
      "application/javascript": [
       "$('div#d03fd869-3e35-40fe-9ea7-bf7a1616eebc').width('91%');$('p#57611525-5bb5-4681-8e27-c8021ab46cbc').text('Elapsed time: 283.67s. Est. remaining time: 00:00:00:25.');"
      ],
      "text/plain": [
       "<IPython.core.display.Javascript object>"
      ]
     },
     "metadata": {},
     "output_type": "display_data"
    },
    {
     "data": {
      "application/javascript": [
       "$('div#d03fd869-3e35-40fe-9ea7-bf7a1616eebc').width('93%');$('p#57611525-5bb5-4681-8e27-c8021ab46cbc').text('Elapsed time: 287.99s. Est. remaining time: 00:00:00:20.');"
      ],
      "text/plain": [
       "<IPython.core.display.Javascript object>"
      ]
     },
     "metadata": {},
     "output_type": "display_data"
    },
    {
     "data": {
      "application/javascript": [
       "$('div#d03fd869-3e35-40fe-9ea7-bf7a1616eebc').width('95%');$('p#57611525-5bb5-4681-8e27-c8021ab46cbc').text('Elapsed time: 292.36s. Est. remaining time: 00:00:00:15.');"
      ],
      "text/plain": [
       "<IPython.core.display.Javascript object>"
      ]
     },
     "metadata": {},
     "output_type": "display_data"
    },
    {
     "data": {
      "application/javascript": [
       "$('div#d03fd869-3e35-40fe-9ea7-bf7a1616eebc').width('96%');$('p#57611525-5bb5-4681-8e27-c8021ab46cbc').text('Elapsed time: 296.86s. Est. remaining time: 00:00:00:10.');"
      ],
      "text/plain": [
       "<IPython.core.display.Javascript object>"
      ]
     },
     "metadata": {},
     "output_type": "display_data"
    },
    {
     "data": {
      "application/javascript": [
       "$('div#d03fd869-3e35-40fe-9ea7-bf7a1616eebc').width('98%');$('p#57611525-5bb5-4681-8e27-c8021ab46cbc').text('Elapsed time: 301.31s. Est. remaining time: 00:00:00:05.');"
      ],
      "text/plain": [
       "<IPython.core.display.Javascript object>"
      ]
     },
     "metadata": {},
     "output_type": "display_data"
    },
    {
     "data": {
      "application/javascript": [
       "$('div#d03fd869-3e35-40fe-9ea7-bf7a1616eebc').width('100%');$('p#57611525-5bb5-4681-8e27-c8021ab46cbc').text('Elapsed time: 301.31s');"
      ],
      "text/plain": [
       "<IPython.core.display.Javascript object>"
      ]
     },
     "metadata": {},
     "output_type": "display_data"
    }
   ],
   "source": [
    "#tlistpump, asolpump, tlistafter, asoldecay = do_calculation(pumptime, endtime, drive)\n",
    "drive = 3000\n",
    "pumptime = 100e-3\n",
    "numsteps = 1000\n",
    "\n",
    "\n",
    "tall = linspace(0, endtime, numsteps)\n",
    "\n",
    "\n",
    "drivelist = linspace(0, drive, 100)\n",
    "pumptimelist = linspace(40e-3, pumptime, 60)\n",
    "\n",
    "\n",
    "pulselength = True #change if you want to simulate different pulselengths / drive powers\n",
    "\n",
    "p = qutip.ipynbtools.HTMLProgressBar()\n",
    "if pulselength:\n",
    "    p.start(iterations=len(pumptimelist))\n",
    "    p.N = len(pumptimelist)\n",
    "    los = zeros((len(pumptimelist), numsteps, 3), dtype=complex128)\n",
    "    for i, pl in enumerate(pumptimelist):\n",
    "        tp = tall[:int(ceil(pl/endtime*numsteps))]\n",
    "        tdec = tall[int(ceil(pl/endtime*numsteps)):]\n",
    "        losp, losdec = do_calculation(drive, tp, tdec, init)\n",
    "        # i can for now only keep the collective operators otherwise I don't have enough RAM\n",
    "        los[i,:len(tp), 0] = losp[:,0]\n",
    "        los[i,len(tp):, 0] = losdec[:,0]\n",
    "        los[i,:len(tp),1] = mean(losp[:, 1::2], axis=1)\n",
    "        los[i,len(tp):,1] = mean(losdec[:, 1::2], axis=1)\n",
    "        los[i,:len(tp),2] = mean(losp[:, 2::2], axis=1)\n",
    "        los[i,len(tp):,2] = mean(losdec[:, 2::2], axis=1)\n",
    "        p.update(i)\n",
    "    p.finished()\n",
    "\n",
    "else:\n",
    "    p.start(iterations=len(drivelist))\n",
    "    p.N = len(drivelist)\n",
    "    los = zeros((len(drivelist), numsteps, 3), dtype=complex128)\n",
    "    for i, dri in enumerate(drivelist):\n",
    "        tp = tall[:int(ceil(pumptime/endtime*numsteps))]\n",
    "        tdec = tall[int(ceil(pumptime/endtime*numsteps)):]\n",
    "        losp, losdec = do_calculation(dri, tp, tdec, init)\n",
    "        # i can for now only keep the collective operators otherwise I don't have enough RAM\n",
    "        los[i,:len(tp), 0] = losp[:,0]\n",
    "        los[i,len(tp):, 0] = losdec[:,0]\n",
    "        los[i,:len(tp),1] = mean(losp[:, 1::2], axis=1)\n",
    "        los[i,len(tp):,1] = mean(losdec[:, 1::2], axis=1)\n",
    "        los[i,:len(tp),2] = mean(losp[:, 2::2], axis=1)\n",
    "        los[i,len(tp):,2] = mean(losdec[:, 2::2], axis=1)\n",
    "        p.update(i)\n",
    "    p.finished()"
   ]
  },
  {
   "cell_type": "code",
   "execution_count": 48,
   "metadata": {},
   "outputs": [
    {
     "name": "stderr",
     "output_type": "stream",
     "text": [
      "/usr/local/lib/python3.5/dist-packages/numpy/core/numeric.py:531: ComplexWarning:\n",
      "\n",
      "Casting complex values to real discards the imaginary part\n",
      "\n"
     ]
    },
    {
     "data": {
      "text/plain": [
       "[<matplotlib.lines.Line2D at 0x7f2749ce7be0>]"
      ]
     },
     "execution_count": 48,
     "metadata": {},
     "output_type": "execute_result"
    },
    {
     "data": {
      "image/png": "[encoded data removed]",
      "text/plain": [
       "<matplotlib.figure.Figure at 0x7f2746da0c88>"
      ]
     },
     "metadata": {},
     "output_type": "display_data"
    },
    {
     "data": {
      "image/png": "[encoded data removed]",
      "text/plain": [
       "<matplotlib.figure.Figure at 0x7f2749dc3898>"
      ]
     },
     "metadata": {},
     "output_type": "display_data"
    },
    {
     "data": {
      "image/png": "[encoded data removed]",
      "text/plain": [
       "<matplotlib.figure.Figure at 0x7f2749dc6320>"
      ]
     },
     "metadata": {},
     "output_type": "display_data"
    }
   ],
   "source": [
    "cavampl = abs(los[:, :, 0])**2\n",
    "\n",
    "if pulselength:\n",
    "    pcolor(tall*1000, pumptimelist*1000, cavampl)\n",
    "    ylabel('PulseLength [ns]')\n",
    "else:\n",
    "    pcolor(tall*1000, drivelist, cavampl)\n",
    "    ylabel('Drive Amplitude [a.u.]')\n",
    "xlabel('Time [ns]')\n",
    "#clim([0,200])\n",
    "figure()\n",
    "plot(tall*1000, cavampl[13,:])\n",
    "figure()\n",
    "plot(tall*1000, los[13, : ,2])"
   ]
  },
  {
   "cell_type": "code",
   "execution_count": null,
   "metadata": {
    "collapsed": true
   },
   "outputs": [],
   "source": []
  }
 ],
 "metadata": {
  "kernelspec": {
   "display_name": "Python 3",
   "language": "python",
   "name": "python3"
  },
  "language_info": {
   "codemirror_mode": {
    "name": "ipython",
    "version": 3
   },
   "file_extension": ".py",
   "mimetype": "text/x-python",
   "name": "python",
   "nbconvert_exporter": "python",
   "pygments_lexer": "ipython3",
   "version": "3.8.2"
  }
 },
 "nbformat": 4,
 "nbformat_minor": 1
}
