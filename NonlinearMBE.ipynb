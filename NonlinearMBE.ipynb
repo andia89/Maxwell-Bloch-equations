{
 "cells": [
  {
   "cell_type": "code",
   "execution_count": 1,
   "id": "d4940d27-1578-4ab2-95c0-6c280e50f5b9",
   "metadata": {},
   "outputs": [],
   "source": [
    "using QuantumCumulants\n",
    "using Symbolics\n",
    "using SymbolicUtils\n"
   ]
  },
  {
   "cell_type": "code",
   "execution_count": 2,
   "id": "bdac6786-b104-4300-ab4d-d7d4dba34129",
   "metadata": {},
   "outputs": [
    {
     "data": {
      "text/plain": [
       "ℋ(cavity) ⊗ ℋ(atom1) ⊗ ℋ(cavity)"
      ]
     },
     "execution_count": 2,
     "metadata": {},
     "output_type": "execute_result"
    }
   ],
   "source": [
    "# Parameters\n",
    "N = 1 #number of atoms\n",
    "M = 2\n",
    "kappa,Δ1,Δ2, q, gamma_par, etap, gamma_perp, kerr = cnumbers(\"κ Δ_c Δ_3 η γ_{∥} η_p γ_{⊥} χ\")\n",
    "\n",
    "wf, G, kappa_f = cnumbers(\"Δ_f G κ_f\")\n",
    "\n",
    "\n",
    "g(j) = cnumbers(Symbol(\"g_{$j}\"))[1]\n",
    "Δs(j) = cnumbers(Symbol(\"Δ_{$j}\"))[1]\n",
    "\n",
    "# Hilbertspace\n",
    "hf = FockSpace(:cavity)\n",
    "hf3 = FockSpace(:cavity)\n",
    "ha = ⊗([NLevelSpace(Symbol(:atom,i),2) for i=1:N]...)\n",
    "h = hf  ⊗ ha ⊗ hf3"
   ]
  },
  {
   "cell_type": "code",
   "execution_count": 31,
   "id": "1544b5ca-c08a-4b2e-803e-59e39a1762a7",
   "metadata": {},
   "outputs": [
    {
     "data": {
      "text/plain": [
       "sigmam (generic function with 1 method)"
      ]
     },
     "execution_count": 31,
     "metadata": {},
     "output_type": "execute_result"
    }
   ],
   "source": [
    "# Operators\n",
    "a = Destroy(h,:a, 1)\n",
    "b = Destroy(h, :b, N+2)\n",
    "sigma(i,j,k) = Transition(h,Symbol(\"σ_{$k}\"),i,j,k+1)\n",
    "sigmaz(k) = sigma(2,2,k)-sigma(1,1,k)\n",
    "sigmap(k) = sigma(2,1,k)\n",
    "sigmam(k) = sigma(1,2,k)"
   ]
  },
  {
   "cell_type": "code",
   "execution_count": 32,
   "id": "245ba34b-3a4a-44d2-a893-08151b5105f3",
   "metadata": {},
   "outputs": [
    {
     "data": {
      "text/latex": [
       "$\\Delta_{c} a^\\dagger a + \\Delta_{3} b^\\dagger b + 1 i \\eta b^\\dagger -1 i \\eta b + \\frac{-1}{2} \\Delta_{{1}} + \\frac{1}{2} \\Delta_{{1}} {\\sigma_{1}}^{{22}} + \\frac{1}{2} \\Delta_{{1}} {\\sigma_{1}}^{{22}} + 1 i g_{{1}} a^\\dagger {\\sigma_{1}}^{{12}} -1 i g_{{1}} a {\\sigma_{1}}^{{21}} -1 \\chi a^\\dagger a b^\\dagger b$"
      ],
      "text/plain": [
       "(Δ_c*(a′*a)+Δ_3*(b′*b)+(0 + 1im)*η*(b′)+(0 - 1im)*η*(b)+(-1//2)*var\"Δ_{1}\"+(1//2)*var\"Δ_{1}\"*(σ_{1}22)+(1//2)*var\"Δ_{1}\"*(σ_{1}22)+(0 + 1im)*var\"g_{1}\"*(a′*σ_{1}12)+(0 - 1im)*var\"g_{1}\"*(a*σ_{1}21)+-χ*(a′*a*b′*b))"
      ]
     },
     "execution_count": 32,
     "metadata": {},
     "output_type": "execute_result"
    }
   ],
   "source": [
    "H = Δ1*a'a+Δ2*b'b+1im*q*(b'-b)\n",
    "for j=1:N\n",
    "    H += Δs(j)/2*sigmaz(j)+1im*g(j)*(a'*sigmam(j)-a*sigmap(j))\n",
    "end\n",
    "#filter resonator\n",
    "H += -kerr*a'a*b'b"
   ]
  },
  {
   "cell_type": "code",
   "execution_count": 33,
   "id": "451432f5-cbec-4ee3-b27c-eddb42b950b6",
   "metadata": {},
   "outputs": [],
   "source": [
    "# Collapse operators\n",
    "\n",
    "rates = Any[2*kappa]\n",
    "rates = append!(rates, [gamma_par*(n+1) for i=1:N])\n",
    "rates = append!(rates, [n*gamma_par+etap for i=1:N])\n",
    "rates = append!(rates, [gamma_perp/2 for i=1:N])\n",
    "#filter resonator\n",
    "rates = append!(rates, [2*kappa_f])\n",
    "\n",
    "\n",
    "\n",
    "J = Any[a]\n",
    "J = append!(J, [sigmam(i) for i=1:N])\n",
    "J = append!(J, [sigmap(i) for i=1:N])\n",
    "J = append!(J, [sigmaz(i) for i=1:N])\n",
    "#filter resonator\n",
    "J = append!(J, [b]);"
   ]
  },
  {
   "cell_type": "code",
   "execution_count": 40,
   "id": "8f52cf4a-933e-4ae8-976c-74ae2e6ce8ea",
   "metadata": {},
   "outputs": [
    {
     "data": {
      "text/latex": [
       "\\begin{align}\n",
       "\\frac{d}{dt} \\langle a\\rangle  =& g_{{1}} \\langle\\sigma_{1}^-\\rangle -1 i \\Delta_{c} \\langle a\\rangle  -1 \\kappa \\langle a\\rangle  + 1 i \\chi \\langle b^\\dagger\\rangle  \\langle a  b\\rangle  + 1 i \\chi \\langle a\\rangle  \\langle b^\\dagger  b\\rangle  + 1 i \\chi \\langle b\\rangle  \\langle a  b^\\dagger\\rangle  -2 i \\chi \\langle b^\\dagger\\rangle  \\langle a\\rangle  \\langle b\\rangle \n",
       "\\end{align}\n"
      ],
      "text/plain": [
       "∂ₜ(⟨a⟩) = var\"g_{1}\"*var\"⟨σ{₁}⁻⟩\" + (0 - 1im)*Δ_c*⟨a⟩ + -κ*⟨a⟩ + (0 + 1im)*χ*⟨b′⟩*⟨a*b⟩ + (0 + 1im)*χ*⟨a⟩*⟨b′*b⟩ + (0 + 1im)*χ*⟨b⟩*⟨a*b′⟩ + (0 - 2im)*χ*⟨b′⟩*⟨a⟩*⟨b⟩\n"
      ]
     },
     "execution_count": 40,
     "metadata": {},
     "output_type": "execute_result"
    }
   ],
   "source": [
    "subdict = Dict([])\n",
    "\n",
    "vec = [\"\\u2081\", \"\\u2082\", \"\\u2083\", \"\\u2084\", \"\\u2085\", \"\\u2086\", \"\\u2087\", \"\\u2088\", \"\\u2089\"]\n",
    "\n",
    "\n",
    "for i=1:N\n",
    "    subs = vec[i]\n",
    "    sm = \"σ{$subs}⁻\"\n",
    "    sp = \"σ{$subs}⁺\"\n",
    "    sz = \"σ{$subs}ᶻ\"\n",
    "    \n",
    "    #subdict1 = merge!(subdict1, Dict([(i)=>0]))\n",
    "    #subdict1 = merge!(subdict1, Dict([(q)=>Symbol(\"0\")]))\n",
    "    \n",
    "    for k=1:N\n",
    "        subsk = vec[k]\n",
    "        smk = \"σ{$subsk}⁻\"\n",
    "        spk = \"σ{$subsk}⁺\"\n",
    "        szk = \"σ{$subsk}ᶻ\"\n",
    "        \n",
    "        subdict = merge!(subdict, Dict([average(sigmam(k)*sigmap(i))=>Parameter(Symbol(\"⟨\"*smk*sp*\"⟩\"))]))\n",
    "        subdict = merge!(subdict, Dict([average(sigmap(k)*sigmap(i))=>Parameter(Symbol(\"⟨\"*spk*sp*\"⟩\"))]))\n",
    "        subdict = merge!(subdict, Dict([average(sigmap(k)*sigmam(i))=>Parameter(Symbol(\"⟨\"*spk*sm*\"⟩\"))]))\n",
    "        subdict = merge!(subdict, Dict([average(sigmam(k)*sigmam(i))=>Parameter(Symbol(\"⟨\"*smk*sm*\"⟩\"))]))\n",
    "       \n",
    "        subdict = merge!(subdict, Dict([average(sigma(2,2,k)*sigmap(i))=>Parameter(Symbol(\"⟨\"*szk*sp*\"⟩\"))/2+Parameter(Symbol(\"⟨\"*sp*\"⟩\"))/2]))\n",
    "        subdict = merge!(subdict, Dict([average(sigma(2,2,k)*sigmam(i))=>Parameter(Symbol(\"⟨\"*szk*sm*\"⟩\"))/2+Parameter(Symbol(\"⟨\"*sm*\"⟩\"))/2]))\n",
    "        \n",
    "        subdict = merge!(subdict, Dict([average(sigmap(k)*sigma(2,2,i))=>Parameter(Symbol(\"⟨\"*spk*sz*\"⟩\"))/2+Parameter(Symbol(\"⟨\"*spk*\"⟩\"))/2]))\n",
    "        subdict = merge!(subdict, Dict([average(sigmam(k)*sigma(2,2,i))=>Parameter(Symbol(\"⟨\"*smk*sz*\"⟩\"))/2+Parameter(Symbol(\"⟨\"*smk*\"⟩\"))/2]))\n",
    "        \n",
    "        subdict = merge!(subdict, Dict([average(sigma(2,2,k)*sigma(2,2,i))=>1/4*(Parameter(Symbol(\"⟨\"*szk*sz*\"⟩\"))+Parameter(Symbol(\"⟨\"*sz*\"⟩\"))+Parameter(Symbol(\"⟨\"*szk*\"⟩\"))+1)]))\n",
    "    end\n",
    "    \n",
    "    subdict = merge!(subdict, Dict([average(sigmam(i))=>Parameter(Symbol(\"⟨\"*sm*\"⟩\"))]))\n",
    "    subdict = merge!(subdict, Dict([average(sigmap(i))=>Parameter(Symbol(\"⟨\"*sp*\"⟩\"))]))\n",
    "    subdict = merge!(subdict, Dict([average(sigma(2,2,i))=>(Parameter(Symbol(\"⟨\"*sz*\"⟩\"))/2)+1/2]))\n",
    "    \n",
    "    \n",
    "    \n",
    "    \n",
    "end\n",
    "eqns = meanfield(a,H,J;rates=rates,order=M, simplify=true)\n",
    "\n",
    "#careful here, this applies the approximations from the paper\n",
    "#eqns = SymbolicUtils.simplify(Symbolics.substitute(eqns, subdict1), expand=true)\n",
    "\n",
    "eq_n = SymbolicUtils.simplify(Symbolics.substitute(eqns, subdict), expand=true)"
   ]
  },
  {
   "cell_type": "code",
   "execution_count": null,
   "id": "c2fe4928-661d-4ac6-8149-039957255a46",
   "metadata": {},
   "outputs": [],
   "source": []
  }
 ],
 "metadata": {
  "kernelspec": {
   "display_name": "Julia 1.7.2",
   "language": "julia",
   "name": "julia-1.7"
  },
  "language_info": {
   "file_extension": ".jl",
   "mimetype": "application/julia",
   "name": "julia",
   "version": "1.7.2"
  }
 },
 "nbformat": 4,
 "nbformat_minor": 5
}
