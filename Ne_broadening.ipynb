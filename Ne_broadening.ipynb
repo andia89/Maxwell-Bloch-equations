{
 "cells": [
  {
   "cell_type": "code",
   "execution_count": 1,
   "id": "d2d2bec8-5ee8-4745-8063-6a956656643c",
   "metadata": {},
   "outputs": [],
   "source": [
    "%matplotlib widget\n",
    "import numpy as np\n",
    "import matplotlib.pyplot as plt\n",
    "import matplotlib\n",
    "import scipy\n",
    "import matplotlib.mlab as mlab\n",
    "import scipy.stats\n",
    "from _helper_functions import tsallis"
   ]
  },
  {
   "cell_type": "code",
   "execution_count": 2,
   "id": "5d4a048b-d947-414d-a2bb-c4ca370aba6e",
   "metadata": {},
   "outputs": [],
   "source": [
    "a = 4.429e-10  # lattice parameter\n",
    "cellsize = 120\n",
    "density = 40e-6  # density of spin impurities\n",
    "# this is very arbitrary\n",
    "clear_sphere = 0.28e-10  # an area around our atom where we don't allow any impurities"
   ]
  },
  {
   "cell_type": "code",
   "execution_count": 3,
   "id": "422219b7-bae8-45f9-867a-6dede34686f3",
   "metadata": {},
   "outputs": [],
   "source": [
    "# create Ne crystal lattice\n",
    "pos = []\n",
    "for i in range(cellsize+1):\n",
    "    for j in range(cellsize+1):\n",
    "        for k in range(cellsize+1):\n",
    "            pos.append([a*i, a*j, a*k])\n",
    "for i in range(cellsize+1):\n",
    "    for j in range(cellsize):\n",
    "        for k in range(cellsize):\n",
    "            pos.append([a*i, 0.5*a+a*j, 0.5*a+a*k])\n",
    "for j in range(cellsize+1):\n",
    "    for i in range(cellsize):\n",
    "        for k in range(cellsize):\n",
    "            pos.append([0.5*a+a*i, a*j, 0.5*a+a*k])\n",
    "for k in range(cellsize+1):\n",
    "    for i in range(cellsize):\n",
    "        for j in range(cellsize):\n",
    "            pos.append([0.5*a+a*i, 0.5*a+a*j, a*k])\n",
    "pos = np.asarray(pos)\n",
    "#pos = pos[pos[:, 2].argsort()]\n",
    "#pos = pos[pos[:, 1].argsort()]\n",
    "#pos = pos[pos[:, 0].argsort()]\n",
    "un = np.sort(np.unique(pos[:, 0]))\n",
    "val = un[int(len(un)/2)]\n",
    "idxs = np.where((pos[:, 0] == val) & (pos[:, 1] == val))[0]\n",
    "atomidx = idxs[int(len(idxs)/2)]\n",
    "\n",
    "atom = pos[atomidx, :]\n",
    "pos_cleaned = np.delete(pos, atomidx, axis=0)"
   ]
  },
  {
   "cell_type": "code",
   "execution_count": 4,
   "id": "67c95e79-d5f8-4a3c-afed-4fe54493a4a3",
   "metadata": {},
   "outputs": [],
   "source": [
    "len_ne_atoms = len(pos_cleaned)\n",
    "number_spin_atoms = int(len_ne_atoms*density)\n",
    "impurity_idx = np.random.choice(range(len_ne_atoms), number_spin_atoms)\n",
    "pos_cleaned2 = np.delete(pos_cleaned, impurity_idx, axis=0)\n",
    "impurities = pos_cleaned[impurity_idx, :]\n",
    "\n",
    "distances = np.linalg.norm((impurities-atom), axis=1)\n",
    "idxs = np.where(distances < clear_sphere)\n",
    "impurities = np.delete(impurities, idxs, axis=0)"
   ]
  },
  {
   "cell_type": "code",
   "execution_count": 5,
   "id": "9b5e3d8d-3277-4396-959e-f11213add9fe",
   "metadata": {},
   "outputs": [
    {
     "data": {
      "application/vnd.jupyter.widget-view+json": {
       "model_id": "9e4a456758284fefa6f1348abc5d801b",
       "version_major": 2,
       "version_minor": 0
      },
      "text/plain": [
       "Canvas(toolbar=Toolbar(toolitems=[('Home', 'Reset original view', 'home', 'home'), ('Back', 'Back to previous …"
      ]
     },
     "metadata": {},
     "output_type": "display_data"
    }
   ],
   "source": [
    "plt.close('all')\n",
    "matplotlib.interactive(False)\n",
    "\n",
    "fig = plt.figure()\n",
    "ax = fig.add_subplot(projection='3d')\n",
    "#ax.scatter(pos_cleaned2[:, 0], pos_cleaned2[:, 1], pos_cleaned2[:, 2])\n",
    "ax.scatter(atom[0], atom[1], atom[2])\n",
    "ax.scatter(impurities[:, 0], impurities[:, 1], impurities[:, 2])\n",
    "plt.show()"
   ]
  },
  {
   "cell_type": "code",
   "execution_count": 6,
   "id": "453c72de-ff83-4548-87c5-4497b9064f69",
   "metadata": {},
   "outputs": [],
   "source": [
    "def calculate_dipole_interaction(s1, s2, pos1, pos2):\n",
    "    \"\"\"\n",
    "    s1 is the spin of particle one (for the ground state of Rb85 would be -5/2)\n",
    "    s2 of particle 2\n",
    "    pos1, pos2 are the position vectors\n",
    "    we assume the spins pointing in the z-direction, due to an external magnetic field\n",
    "    \"\"\"\n",
    "    fac = -5.192e-20\n",
    "    distvec = pos2-pos1\n",
    "    norm = np.linalg.norm(distvec, axis=1)\n",
    "\n",
    "    return (s1*distvec[:, 2]*s2*distvec[:, 2]*3-s1*s2)*fac/norm**3"
   ]
  },
  {
   "cell_type": "code",
   "execution_count": 13,
   "id": "e46de55b-3ace-4d72-9f87-8979bcc94433",
   "metadata": {},
   "outputs": [],
   "source": [
    "max_magnetic_moment = 5/2\n",
    "\n",
    "magnetic_moments_rb85 = np.arange(-max_magnetic_moment,\n",
    "                                  max_magnetic_moment+1/2, 1/2)\n",
    "\n",
    "realizations = 5000\n",
    "configurations = 100\n",
    "\n",
    "shifts = np.zeros((configurations, realizations))\n",
    "for i in range(configurations):\n",
    "    impurity_idx = np.random.choice(range(len_ne_atoms), number_spin_atoms)\n",
    "    impurities = pos_cleaned[impurity_idx, :]\n",
    "\n",
    "    distances = np.linalg.norm((impurities-atom), axis=1)\n",
    "    idxs = np.where(distances < clear_sphere)\n",
    "    impurities = np.delete(impurities, idxs, axis=0)\n",
    "\n",
    "    for k in range(realizations):\n",
    "        mag_moments_imp = np.random.choice(\n",
    "            magnetic_moments_rb85, len(impurities))\n",
    "        shifts[i, k] = np.sum(calculate_dipole_interaction(-max_magnetic_moment,\n",
    "                                                           mag_moments_imp, atom, impurities))"
   ]
  },
  {
   "cell_type": "code",
   "execution_count": 15,
   "id": "f9291a80-2820-417c-8367-3995eea30cf1",
   "metadata": {},
   "outputs": [
    {
     "data": {
      "application/vnd.jupyter.widget-view+json": {
       "model_id": "42cd2c04f9604581a631a229a25ceaaa",
       "version_major": 2,
       "version_minor": 0
      },
      "text/plain": [
       "Canvas(toolbar=Toolbar(toolitems=[('Home', 'Reset original view', 'home', 'home'), ('Back', 'Back to previous …"
      ]
     },
     "metadata": {},
     "output_type": "display_data"
    },
    {
     "name": "stdout",
     "output_type": "stream",
     "text": [
      "Average FWHM: 4.49 MHz\n"
     ]
    }
   ],
   "source": [
    "plt.close('all')\n",
    "matplotlib.interactive(False)\n",
    "\n",
    "fwhms = []\n",
    "binsum = 0\n",
    "binrange = np.arange(-30, 30, 0.2)\n",
    "for shift in shifts:\n",
    "    (mu, sigma) = scipy.stats.norm.fit(shift*1e-6)\n",
    "    fwhms.append(2*np.sqrt(2*np.log(2))*sigma)\n",
    "    n, bins, patches = plt.hist(shift*1e-6, bins=binrange, density=1)\n",
    "\n",
    "    y = scipy.stats.norm.pdf(bins, mu, sigma)\n",
    "    binsum += n\n",
    "    #l = plt.plot(bins, y, 'r--', linewidth=2)\n",
    "\n",
    "binsum = binsum/len(shifts)\n",
    "\n",
    "popt, pcov = scipy.optimize.curve_fit(\n",
    "    tsallis, binrange[:-1], binsum, p0=[1.5, 5])\n",
    "\n",
    "plt.plot(binrange[:-1], binsum)\n",
    "plt.plot(binrange[:-1], tsallis(binrange[:-1], *popt))\n",
    "\n",
    "plt.xlabel(\"Frequency (MHz)\")\n",
    "plt.ylabel(\"Occurence\")\n",
    "plt.show()\n",
    "print(\"Average FWHM: %.2f MHz\" % (popt[1]))"
   ]
  }
 ],
 "metadata": {
  "kernelspec": {
   "display_name": "Python 3 (ipykernel)",
   "language": "python",
   "name": "python3"
  },
  "language_info": {
   "codemirror_mode": {
    "name": "ipython",
    "version": 3
   },
   "file_extension": ".py",
   "mimetype": "text/x-python",
   "name": "python",
   "nbconvert_exporter": "python",
   "pygments_lexer": "ipython3",
   "version": "3.9.7"
  }
 },
 "nbformat": 4,
 "nbformat_minor": 5
}
