{
 "cells": [
  {
   "cell_type": "code",
   "execution_count": 57,
   "metadata": {},
   "outputs": [],
   "source": [
    "%matplotlib widget\n",
    "import matplotlib.pyplot as plt\n",
    "import matplotlib\n",
    "from scipy.linalg import norm, eig\n",
    "from scipy.optimize import minimize\n",
    "import numpy as np"
   ]
  },
  {
   "cell_type": "code",
   "execution_count": 3,
   "metadata": {},
   "outputs": [],
   "source": [
    "sx = 1/np.sqrt(2)*np.array([[0, 1, 0], [1, 0, 1], [0, 1, 0]])\n",
    "sx2 = 1/2.*np.array([[0, 1], [1, 0]])\n",
    "sy = 1/np.sqrt(2)*np.array([[0, -complex(0, 1), 0],\n",
    "                            [complex(0, 1), 0, -complex(0, 1)], [0, complex(0, 1), 0]])\n",
    "sy2 = 1/2.*np.array([[0, -complex(0, 1)], [complex(0, 1), 0]])\n",
    "sz2 = 1/2.*np.array([[1, 0], [0, -1]])\n",
    "sz = np.array([[1, 0, 0], [0, 0, 0], [0, 0, -1]])\n",
    "id3 = np.identity(3)\n",
    "id2 = np.identity(2)\n",
    "\n",
    "M = sx+sy"
   ]
  },
  {
   "cell_type": "code",
   "execution_count": 4,
   "metadata": {},
   "outputs": [],
   "source": [
    "def hamiltonian_full(bx, by, bz):\n",
    "    hzfs = d * (np.linalg.matrix_power(sz, 2) - 2/3.*id3) + e * \\\n",
    "        (np.linalg.matrix_power(sx, 2) - np.linalg.matrix_power(sy, 2))\n",
    "    h_ele_zeeman = 2.8*(bx*sx + by*sy + bz*sz)\n",
    "    h = hzfs+h_ele_zeeman\n",
    "    #h = hzfs + h_ele_zeeman\n",
    "    return h"
   ]
  },
  {
   "cell_type": "code",
   "execution_count": 5,
   "metadata": {},
   "outputs": [],
   "source": [
    "def lorentzian(t, pos, ampl, width):\n",
    "    return ampl*width**2/((t-pos)**2+width**2)"
   ]
  },
  {
   "cell_type": "code",
   "execution_count": 30,
   "metadata": {},
   "outputs": [],
   "source": [
    "# diagonalize and find transitions\n",
    "def find_transitions(b):\n",
    "    eva, eve = eig(hamiltonian_full(*b))\n",
    "    #eva = eva.real\n",
    "    eva = eva-min(eva)\n",
    "    trans = np.zeros(np.shape(M))\n",
    "    for i, ev in enumerate(eve):\n",
    "        for j, ev2 in enumerate(eve):\n",
    "            trans[i][j] = abs(\n",
    "                np.dot(np.asmatrix(ev).H.T, np.dot(M, np.asmatrix(ev2).T)))\n",
    "\n",
    "    # for i, t1 in enumerate(trans):\n",
    "    #    for j, t2 in enumerate(t1):\n",
    "    #        if t2 < 0.1:\n",
    "    #            trans[i][j] = 0\n",
    "    tr = []\n",
    "    for i, tr1 in enumerate(trans):\n",
    "        for j, tr2 in enumerate(tr1):\n",
    "            if tr2 > 0.5:\n",
    "                tr.append((tr2, abs(eva[i]-eva[j])))\n",
    "\n",
    "    tr = np.unique(tr, axis=0)\n",
    "    t = tr[tr > 1]\n",
    "    return max(t)"
   ]
  },
  {
   "cell_type": "code",
   "execution_count": 7,
   "metadata": {},
   "outputs": [],
   "source": [
    "# transform vector from lab system into the four NV systems:\n",
    "# we just need to find axial and transversal components,\n",
    "# since transversal directions are equal in hamiltonian, and we assume RF polarization to be diagonally polarized\n",
    "def lab2nvs(b):\n",
    "    # the four NV axes in the lab system:\n",
    "    nv_axes = 1/np.sqrt(3) * np.array([\n",
    "        [1, 1, 1],\n",
    "        [1, -1, -1],\n",
    "        [-1, -1, 1],\n",
    "        [-1, 1, -1]\n",
    "    ])\n",
    "    # projection onto axes:\n",
    "    axial = np.dot(nv_axes, b)\n",
    "    transversal = np.sqrt(np.abs(norm(b)**2 - axial**2))\n",
    "    # let's just assign the transversal component to the x axes\n",
    "    b_nvs = np.vstack([transversal, np.zeros(4), axial])\n",
    "    return b_nvs"
   ]
  },
  {
   "cell_type": "code",
   "execution_count": 108,
   "metadata": {},
   "outputs": [],
   "source": [
    "def find_magnetic_field(fr, bf):\n",
    "    bdir = bf/norm(bf)\n",
    "    def minfun(bnorm): return np.abs(fr-find_transitions(bnorm*bdir))\n",
    "    res = minimize(minfun, 165)\n",
    "    return float(res.x)"
   ]
  },
  {
   "cell_type": "code",
   "execution_count": 25,
   "metadata": {},
   "outputs": [
    {
     "name": "stdout",
     "output_type": "stream",
     "text": [
      "[42.8  0.   0. ]\n"
     ]
    }
   ],
   "source": [
    "# parameters: MHz, Gauss\n",
    "e = 0\n",
    "d = 2880.\n",
    "a = -3.05\n",
    "n_z = -4.316e-4\n",
    "fr = 3220\n",
    "bdir = np.array([1, 0, 0])\n",
    "bdir = bdir/norm(bdir)\n",
    "b = 42.8 * bdir   # b vector in lab system, in Gauss\n",
    "print(b)"
   ]
  },
  {
   "cell_type": "code",
   "execution_count": 32,
   "metadata": {},
   "outputs": [
    {
     "name": "stdout",
     "output_type": "stream",
     "text": [
      "[[2954.15353169]\n",
      " [2954.15353169]\n",
      " [2954.15353169]\n",
      " [2954.15353169]]\n"
     ]
    }
   ],
   "source": [
    "# solve for all four NV directions\n",
    "b_nvs = lab2nvs(b)\n",
    "tr = []\n",
    "for i in range(np.shape(b_nvs)[1]):\n",
    "    t = find_transitions(b_nvs[:, i])\n",
    "    tr.append(t)\n",
    "\n",
    "tr_all = np.vstack(tr)\n",
    "print(tr_all)"
   ]
  },
  {
   "cell_type": "code",
   "execution_count": 27,
   "metadata": {},
   "outputs": [
    {
     "data": {
      "application/vnd.jupyter.widget-view+json": {
       "model_id": "728b2d5657b24f3faaa7a7ffa16dda3d",
       "version_major": 2,
       "version_minor": 0
      },
      "text/plain": [
       "Canvas(toolbar=Toolbar(toolitems=[('Home', 'Reset original view', 'home', 'home'), ('Back', 'Back to previous …"
      ]
     },
     "metadata": {},
     "output_type": "display_data"
    }
   ],
   "source": [
    "t1 = np.linspace(min(tr_all[:, 0])-10, max(tr_all[:, 0])+10, 10000)\n",
    "# t1 = linspace(2700, 'max(tr_all[:,1])+10, 10000)\n",
    "plt.close('all')\n",
    "matplotlib.interactive(False)\n",
    "plt.figure()\n",
    "col = ['r', 'g', 'b', 'y']\n",
    "for i, t in enumerate(tr_all):\n",
    "    for l in t:\n",
    "        plt.plot(t1, lorentzian(t1, l, -l/t.shape[0], 1), col[i])\n",
    "plt.xlim((min(t1), max(t1)))\n",
    "plt.ylim((plt.ylim()[0], 0))\n",
    "plt.xlabel('Frequency [MHz]')\n",
    "#plt.title('B = %s' % str(b))\n",
    "plt.show()"
   ]
  },
  {
   "cell_type": "code",
   "execution_count": 116,
   "metadata": {},
   "outputs": [],
   "source": [
    "factor_coils = 1  # how much stronger / weaker the field is compared to what we think\n",
    "# the angle between the field we think we apply and the field we do apply\n",
    "angle_plane = np.pi/2\n",
    "angle_z = np.pi/2  # the angle between the field we ...\n",
    "b_dir_assumed = [np.cos(angle_plane)*np.sin(angle_z),\n",
    "                 np.sin(angle_plane)*np.sin(angle_z), np.cos(angle_z)]"
   ]
  },
  {
   "cell_type": "code",
   "execution_count": null,
   "metadata": {},
   "outputs": [],
   "source": [
    "def get_lines(phi, theta, factor, fr):\n",
    "    "
   ]
  }
 ],
 "metadata": {
  "kernelspec": {
   "display_name": "Python 3",
   "language": "python",
   "name": "python3"
  },
  "language_info": {
   "codemirror_mode": {
    "name": "ipython",
    "version": 3
   },
   "file_extension": ".py",
   "mimetype": "text/x-python",
   "name": "python",
   "nbconvert_exporter": "python",
   "pygments_lexer": "ipython3",
   "version": "3.9.7"
  }
 },
 "nbformat": 4,
 "nbformat_minor": 4
}
