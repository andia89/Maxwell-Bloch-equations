{
 "cells": [
  {
   "cell_type": "code",
   "execution_count": 1,
   "metadata": {},
   "outputs": [],
   "source": [
    "%load_ext autoreload\n",
    "%autoreload 2\n",
    "%matplotlib inline\n",
    "import matplotlib\n",
    "import numpy as np\n",
    "from scipy.stats import logistic\n",
    "from scipy.optimize import basinhopping\n",
    "from scipy import interpolate\n",
    "from IPython.display import clear_output, Javascript, Markdown\n",
    "import matplotlib.colors as colors\n",
    "import matplotlib.pyplot as plt\n",
    "from scipy.optimize import minimize\n",
    "import scipy.io\n",
    "import gc\n",
    "import datetime\n",
    "import time\n",
    "import mat73\n",
    "import random\n",
    "import matplotlib\n",
    "import _spin_params as spin_pars\n",
    "from _create_pdf import create_spins, create_spins_inhomo_g\n",
    "from _helper_functions import prepare_solution, remake_julia_problem, clean_julia, format_julia_sol_2ndorder, solve_julia_problem, tsallis, cauchy, find_nearest, odeintz, find_nearest_sorted_left, find_nearest_sorted, smooth_data\n",
    "from _steady_state import a_steady, a_steady_with_sz\n",
    "from _mbes import mbes, mbes_soc, mbes_no_cavity, mbes_soc_no_cavity\n",
    "from _do_calculation import solve_mbes, solve_mbes_without_cavity, get_pulses_from_cavity_field, solve_mbes_wait, solve_mbes_only_decay, solve_mbes_general\n",
    "from _do_calculation import setup_mbes, test_mbes_2ndorder, setup_mbes_2ndorder, solve_mbes_2ndorder, solve_mbes_general, solve_mbes, solve_mbes_without_cavity, get_pulses_from_cavity_field, solve_mbes_wait, solve_mbes_only_decay, solve_obes\n",
    "from _mbes import mbes, mbes_soc, mbes_soc_no_cavity, mbes_soc_det, obes_soc, mbes_2ndorder\n",
    "from julia import Main\n",
    "# matplotlib.pyplot.switch_backend('nbagg')\n",
    "%qtconsole"
   ]
  },
  {
   "cell_type": "code",
   "execution_count": null,
   "metadata": {},
   "outputs": [],
   "source": [
    "gcoll = spin_pars.gcoll\n",
    "q = spin_pars.q\n",
    "quali = spin_pars.quali\n",
    "fr = spin_pars.fr\n",
    "kappa = np.pi*fr/quali  # HWHM\n",
    "delta = spin_pars.delta  # detuning cavity to spin central frequency ws-wc\n",
    "deltac = spin_pars.deltac  # detuning drive to cavity wc-wp\n",
    "gperp = spin_pars.gperp  # HWHM\n",
    "gpar = spin_pars.gpar  # 0.001 #HWHM\n",
    "gammaq = spin_pars.gammaq\n",
    "nbins = spin_pars.nbins  # 701#5000#20\n",
    "nbins = 351\n",
    "g_number = spin_pars.g_number  # how many bins for inhomogeneous coupling\n",
    "#g0 = gcoll/sqrt(nspins)\n",
    "print(kappa)"
   ]
  },
  {
   "cell_type": "code",
   "execution_count": 3,
   "metadata": {},
   "outputs": [],
   "source": [
    "def pulse_rwa(t, args):\n",
    "    wgrund = args[0]\n",
    "    fcomps = args[1]\n",
    "    pulse = 0\n",
    "    for i in range(len(fcomps)):\n",
    "        pulse = pulse+(fcomps[i])*np.sin((i+1)*wgrund*t)\n",
    "    return pulse\n",
    "\n",
    "\n",
    "def pulse_rwa_gauss(t, args):\n",
    "    wgrund = args[0]\n",
    "    fcomps = args[1]\n",
    "    nfcomps = len(fcomps)\n",
    "    tend = np.pi/wgrund\n",
    "\n",
    "    width = 2*tend/(nfcomps+5)\n",
    "    t0 = 3*width/2\n",
    "    pulse = 0\n",
    "    for i in range(len(fcomps)):\n",
    "        pulse += fcomps[i]*np.exp(-4*(t-t0)**2*np.log(2)/width**2)\n",
    "        t0 += 0.5*width\n",
    "    pulse *= logistic.cdf(t, loc=0.01, scale=.002) * \\\n",
    "        (1-logistic.cdf(t, loc=tend-0.01, scale=.002))\n",
    "    pulse *= 0.46971947398573455\n",
    "    return pulse\n",
    "\n",
    "\n",
    "def pulse_rwa_gauss_const(t, args):\n",
    "    wgrund = args[0]\n",
    "    fcomps = args[1]\n",
    "    maxampl = args[2]\n",
    "    nfcomps = len(fcomps)\n",
    "    tend = np.pi/wgrund\n",
    "\n",
    "    #xint = np.linspace(0, tend, nfcomps)\n",
    "\n",
    "    #spline = interpolate.BSpline(xint, fcomps, 2)\n",
    "    spline = 0\n",
    "    for i in range(len(fcomps)):\n",
    "        spline += (fcomps[i])*np.sin((i+1)*wgrund*t)\n",
    "\n",
    "    #spline = spline/nfcomps\n",
    "    pulsei = 0\n",
    "    pulseq = 0\n",
    "    pulse = 0\n",
    "    pulse = maxampl*logistic.cdf(t, loc=0.02, scale=0.004) * \\\n",
    "        (1-logistic.cdf(t, loc=tend-0.02, scale=0.004))\n",
    "\n",
    "    pulsei = pulse*np.cos(spline)\n",
    "    pulseq = pulse*np.sin(spline)\n",
    "\n",
    "    return pulsei, pulseq"
   ]
  },
  {
   "cell_type": "code",
   "execution_count": 4,
   "metadata": {},
   "outputs": [],
   "source": [
    "def g_inhomo_function(x, sigma):\n",
    "    return np.exp(-x**2/sigma**2)\n",
    "\n",
    "\n",
    "x_start = 5\n",
    "x_stop = 20  # µm\n",
    "x = np.linspace(x_start, x_stop, g_number)\n",
    "sigma = 5\n",
    "g_temp = g_inhomo_function(x, sigma)\n",
    "g_list = g_temp/np.sum(g_temp)"
   ]
  },
  {
   "cell_type": "code",
   "execution_count": 5,
   "metadata": {},
   "outputs": [
    {
     "data": {
      "image/png": "[encoded data removed]",
      "text/plain": [
       "<Figure size 432x288 with 1 Axes>"
      ]
     },
     "metadata": {
      "needs_background": "light"
     },
     "output_type": "display_data"
    },
    {
     "name": "stdout",
     "output_type": "stream",
     "text": [
      "Cooperativity is: 9.264745\n"
     ]
    }
   ],
   "source": [
    "plt.close('all')\n",
    "matplotlib.interactive(False)\n",
    "spins, gs, pdf = create_spins_inhomo_g(\n",
    "    gcoll, g_list, q, delta, gammaq, nbins, holes=False, inhomo=True, hyperfine=True)\n",
    "plt.figure()\n",
    "plt.plot(spins[:len(pdf)], pdf/max(pdf))\n",
    "plt.xlabel('$\\Delta f$ (MHz)')\n",
    "plt.ylabel('weight')\n",
    "plt.show()\n",
    "# %qtconsole\n",
    "coop = gcoll**2/kappa*np.sum(pdf/(gperp+1j*2*np.pi*spins))\n",
    "print(\"Cooperativity is: %f\" % coop.real)"
   ]
  },
  {
   "cell_type": "code",
   "execution_count": 6,
   "metadata": {},
   "outputs": [
    {
     "data": {
      "image/png": "[encoded data removed]",
      "text/plain": [
       "<Figure size 432x288 with 1 Axes>"
      ]
     },
     "metadata": {
      "needs_background": "light"
     },
     "output_type": "display_data"
    }
   ],
   "source": [
    "plt.close('all')\n",
    "matplotlib.interactive(False)\n",
    "\n",
    "initsteady = (0.001, 0.001)\n",
    "fstart = 50\n",
    "deltaarr = np.linspace(-fstart*2*np.pi, fstart*2*np.pi, 2000)\n",
    "etasteady = 0.00001\n",
    "losasteady = np.zeros(np.shape(deltaarr))\n",
    "losareal = np.zeros(np.shape(deltaarr))\n",
    "losaimag = np.zeros(np.shape(deltaarr))\n",
    "\n",
    "newinit = initsteady\n",
    "for i, delt in enumerate(deltaarr):\n",
    "    ar, ai = a_steady(etasteady, delt, gs, spins, gpar, gperp, kappa, newinit)\n",
    "    newinit = (ar, ai)\n",
    "    losasteady[i] = ai**2+ar**2\n",
    "    losareal[i] = ar\n",
    "    losaimag[i] = ai\n",
    "\n",
    "fig = plt.figure()\n",
    "plt.xlabel('$\\Delta f$ (MHz)')\n",
    "plt.ylabel('|A|² (dB)')\n",
    "plt.plot(deltaarr/2/np.pi, 10*np.log10(losasteady/0.0000000001))\n",
    "plt.show()\n",
    "#deltaarr[find(losasteady == max(losasteady))]/2/pi"
   ]
  },
  {
   "cell_type": "markdown",
   "metadata": {},
   "source": [
    "# SOC pulses"
   ]
  },
  {
   "cell_type": "code",
   "execution_count": 7,
   "metadata": {},
   "outputs": [],
   "source": [
    "pumptime = 52e-3  # 5*np.pi/gcoll\n",
    "decaytime = 500e-3\n",
    "dt = 0.0005\n",
    "numsteps = int(pumptime/dt)\n",
    "tlist = np.arange(0, pumptime+dt, dt)\n",
    "tlistdecay = np.arange(0, decaytime+dt, dt)\n",
    "\n",
    "\n",
    "# test time it takes to calculate\n",
    "\n",
    "\n",
    "init = np.ones(len(spins)*2+1)*(-1)\n",
    "init[0] = 0\n",
    "init[1:len(spins)+1] = 0"
   ]
  },
  {
   "cell_type": "markdown",
   "metadata": {},
   "source": [
    "### Simulate Driving"
   ]
  },
  {
   "cell_type": "code",
   "execution_count": 8,
   "metadata": {},
   "outputs": [],
   "source": [
    "filepath = \"\"\"/mnt/samba2/experiments/Quantum InterConnect/Cryogenics/Dilution Fridge/Measurements/20210713_DCR_e-diamond_17/timeResolved/ScanPumpAttn1/SCRIPT_1/scan_pumpAttn_rectPulse_50ns_1-2.mat\"\"\"\n",
    "try:\n",
    "    data_ps = mat73.loadmat(filepath)\n",
    "except TypeError:\n",
    "    data_ps = scipy.io.loadmat(filepath, simplify_cells=True)\n",
    "scan_values_ps = data_ps['scan_values']\n",
    "\n",
    "iq_data_ps = np.zeros(\n",
    "    (len(data_ps['IQdata_scan']), *np.shape(data_ps['IQdata_scan'][0])))\n",
    "\n",
    "for i in range(len(data_ps['IQdata_scan'])):\n",
    "    iq_data_ps[i, :, :] = data_ps['IQdata_scan'][i]\n",
    "\n",
    "pl_idx = 4000\n",
    "idx_s = 1800+165\n",
    "p_end = -16\n",
    "\n",
    "hori = float(data_ps['pars']['acqiris']['acqirisStruct']\n",
    "             ['horizontal']['sampInterval'])*1e9\n",
    "\n",
    "idx = find_nearest(-scan_values_ps, p_end)\n",
    "\n",
    "a2plot = (iq_data_ps[:idx, idx_s:pl_idx, 0]**2 +\n",
    "          iq_data_ps[:idx, idx_s:pl_idx, 1]**2)\n",
    "aplotr = iq_data_ps[:idx, idx_s:pl_idx, 0]\n",
    "aploti = iq_data_ps[:idx, idx_s:pl_idx, 1]\n",
    "t = np.linspace(0, len(a2plot[0])*hori, len(a2plot[0]))\n",
    "ilist_exp, qlist_exp = data_ps['measPars_scan'][0]['pump']['waveform']\n",
    "tpump = np.arange(0, len(ilist_exp)*dt, dt)"
   ]
  },
  {
   "cell_type": "code",
   "execution_count": 35,
   "metadata": {},
   "outputs": [],
   "source": [
    "pin = np.arange(-23.5, -16.5, 0.5)\n",
    "aref = 940\n",
    "testphase = -np.pi/2*1.1\n",
    "# %qtconsole\n",
    "alos = np.zeros((len(pin), len(tlist)+len(tlistdecay)))\n",
    "alosr = np.zeros(alos.shape)\n",
    "alosi = np.zeros(alos.shape)\n",
    "szlos = np.zeros(np.shape(alos))\n",
    "szall = np.zeros((len(pin), len(tlist)+len(tlistdecay), nbins))\n",
    "small = np.zeros(np.shape(szall))\n",
    "smlos = np.zeros(np.shape(alos))\n",
    "setup_mbes(\n",
    "    mbes, init, pdf, tlist, tlistdecay, aref, kappa, deltac, gs, gperp, spins, gpar)\n",
    "for ctr, p in enumerate(pin):\n",
    "    dr = aref*10**(p/20.)\n",
    "    remake_julia_problem(params=(dr,))\n",
    "    sol = solve_julia_problem(tlist, tlistdecay)\n",
    "    asolpump = prepare_solution(sol[:len(tlist)], init, pdf, tlist)\n",
    "    asoldecay = prepare_solution(sol[-len(tlistdecay):], init, pdf, tlistdecay)\n",
    "    # asolpump, asoldecay, infodict = solve_mbes(\n",
    "    #    mbes, init, pdf, tlist, tlistdecay, dr, kappa, deltac, gs, gperp, spins, gpar)\n",
    "    alos[ctr, :] = np.hstack((abs(asolpump[:, 0])**2, abs(asoldecay[:, 0])**2))\n",
    "    alosr[ctr, :] = np.hstack((asolpump[:, 0].real, asoldecay[:, 0].real))\n",
    "    alosi[ctr, :] = np.hstack((asolpump[:, 0].imag, asoldecay[:, 0].imag))\n",
    "    szlos[ctr, :] = np.hstack((np.real(np.sum(asolpump[:, 2::2], axis=1)), np.real(\n",
    "        np.sum(asoldecay[:, 2::2], axis=1))))\n",
    "    szall[ctr, :, :] = np.vstack(\n",
    "        (np.real(asolpump[:, 2::2]), np.real(asoldecay[:, 2::2])))\n",
    "    small[ctr, :, :] = np.vstack(\n",
    "        (np.real(asolpump[:, 1::2]), np.real(asoldecay[:, 1::2])))\n",
    "    smlos[ctr, :] = np.hstack((np.real(np.sum(asolpump[:, 1::2], axis=1)), np.real(\n",
    "        np.sum(asoldecay[:, 1::2], axis=1))))\n",
    "clean_julia()\n",
    "Main.problem = None\n",
    "clean_julia()"
   ]
  },
  {
   "cell_type": "code",
   "execution_count": 36,
   "metadata": {},
   "outputs": [
    {
     "data": {
      "image/png": "[encoded data removed]",
      "text/plain": [
       "<Figure size 720x360 with 2 Axes>"
      ]
     },
     "metadata": {
      "needs_background": "light"
     },
     "output_type": "display_data"
    }
   ],
   "source": [
    "plt.close('all')\n",
    "matplotlib.interactive(False)\n",
    "tplot = np.linspace(0, 1000*(pumptime+decaytime), len(tlist)+len(tlistdecay))\n",
    "fig, (ax1, ax2) = plt.subplots(1, 2, figsize=(10, 5))\n",
    "ax1.pcolor(tplot, pin, alos, shading=\"auto\")\n",
    "ax1.set_xlabel('Time (ns)')\n",
    "ax1.set_ylabel('Input power (dB)')\n",
    "\n",
    "ax2.pcolor(t[:1000], -scan_values_ps[:idx], a2plot[:, :1000], shading='auto')\n",
    "ax2.set_xlabel('Time (ns)')\n",
    "ax2.set_ylabel('Input power (dB)')\n",
    "maxAmpl = abs(asolpump).max()\n",
    "plt.show()"
   ]
  },
  {
   "cell_type": "code",
   "execution_count": 37,
   "metadata": {},
   "outputs": [
    {
     "name": "stdout",
     "output_type": "stream",
     "text": [
      "Done with 14 from 14\r"
     ]
    }
   ],
   "source": [
    "init2nd = np.zeros(5*(len(spins)*(len(spins)-1))//2+len(spins)*5+3)\n",
    "init2nd[(nbins*4+3):(nbins*5+3)] = -1.\n",
    "init2nd[(nbins*5+3)+2*nbins*(nbins-1):(nbins*5+3) +\n",
    "        2*nbins*(nbins-1)+nbins*(nbins-1)//2] = 1.\n",
    "initpump = np.asarray(init2nd, dtype=np.complex128)\n",
    "alos2nd = np.zeros((len(pin), len(tlist)+len(tlistdecay)))\n",
    "gc.collect()\n",
    "for ctr, p in enumerate(pin):\n",
    "    dr = aref*10**(p/20.)\n",
    "    setup_mbes_2ndorder(mbes_2ndorder, initpump, pdf, tlist, tlistdecay,\n",
    "                        gs, dr, kappa, gperp, gpar, spins, deltac)\n",
    "    sol = solve_julia_problem(tlist, tlistdecay)\n",
    "    pumplos, decaylos = format_julia_sol_2ndorder(\n",
    "        sol, tlist, tlistdecay, init2nd, pdf)\n",
    "    alos2nd[ctr, :] = np.hstack(\n",
    "        (abs(pumplos[:, 0])**2, abs(decaylos[:, 0])**2))\n",
    "    print(\"Done with %i from %i\" % (ctr+1, len(pin)), end=\"\\r\")\n",
    "    clean_julia()\n",
    "gc.collect()\n",
    "clean_julia()\n",
    "Main.problem = None\n",
    "clean_julia()"
   ]
  },
  {
   "cell_type": "code",
   "execution_count": 38,
   "metadata": {},
   "outputs": [
    {
     "data": {
      "image/png": "[encoded data removed]",
      "text/plain": [
       "<Figure size 360x360 with 1 Axes>"
      ]
     },
     "metadata": {
      "needs_background": "light"
     },
     "output_type": "display_data"
    }
   ],
   "source": [
    "plt.close('all')\n",
    "matplotlib.interactive(False)\n",
    "target_p = -18\n",
    "ratio = 3.2\n",
    "pretime = -20\n",
    "\n",
    "idx_sim = find_nearest(pin, target_p)\n",
    "idx_exp = find_nearest(-scan_values_ps, target_p)\n",
    "\n",
    "fig, (ax1) = plt.subplots(1, 1, figsize=(5, 5))\n",
    "ax1.plot(t+pretime, smooth_data(a2plot[idx_exp], 5)*ratio)\n",
    "ax1.plot(tplot, alos[idx_sim])\n",
    "ax1.plot(tplot, alos2nd[idx_sim+1])\n",
    "ax1.set_xlabel(\"Time (µs)\")\n",
    "ax1.set_ylabel(\"$a^2$\")\n",
    "plt.show()\n",
    "\n",
    "# %qtconsole\n",
    "#ax4.plot(tplot+pretime, szlos[idx_sim])\n",
    "# %qtconsole"
   ]
  },
  {
   "cell_type": "code",
   "execution_count": 39,
   "metadata": {},
   "outputs": [
    {
     "data": {
      "image/png": "[encoded data removed]",
      "text/plain": [
       "<Figure size 1080x360 with 2 Axes>"
      ]
     },
     "metadata": {
      "needs_background": "light"
     },
     "output_type": "display_data"
    }
   ],
   "source": [
    "plt.close('all')\n",
    "matplotlib.interactive(False)\n",
    "\n",
    "tplot = np.linspace(0, 1000*(pumptime+decaytime), len(tlist)+len(tlistdecay))\n",
    "fig, (ax1, ax2) = plt.subplots(1, 2, figsize=(15, 5))\n",
    "ax1.pcolor(tplot, pin, alos2nd, shading=\"auto\")\n",
    "ax1.set_xlabel('Time (ns)')\n",
    "ax1.set_ylabel('Input power (dB)')\n",
    "\n",
    "ax2.pcolor(t, -scan_values_ps[:idx], a2plot, shading='auto')\n",
    "ax2.set_xlabel('Time (ns)')\n",
    "ax2.set_ylabel('Input power (dB)')\n",
    "maxAmpl = abs(asolpump).max()\n",
    "plt.show()"
   ]
  },
  {
   "cell_type": "code",
   "execution_count": null,
   "metadata": {},
   "outputs": [],
   "source": []
  }
 ],
 "metadata": {
  "kernelspec": {
   "display_name": "Python 3 (ipykernel)",
   "language": "python",
   "name": "python3"
  },
  "language_info": {
   "codemirror_mode": {
    "name": "ipython",
    "version": 3
   },
   "file_extension": ".py",
   "mimetype": "text/x-python",
   "name": "python",
   "nbconvert_exporter": "python",
   "pygments_lexer": "ipython3",
   "version": "3.10.4"
  }
 },
 "nbformat": 4,
 "nbformat_minor": 4
}
