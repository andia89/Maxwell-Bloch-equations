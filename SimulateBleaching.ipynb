{
 "cells": [
  {
   "cell_type": "code",
   "execution_count": 222,
   "metadata": {},
   "outputs": [
    {
     "name": "stdout",
     "output_type": "stream",
     "text": [
      "The autoreload extension is already loaded. To reload it, use:\n",
      "  %reload_ext autoreload\n"
     ]
    }
   ],
   "source": [
    "%load_ext autoreload\n",
    "%autoreload 2\n",
    "%matplotlib inline\n",
    "from _do_calculation import solve_mbes_general, solve_mbes, solve_mbes_without_cavity, get_pulses_from_cavity_field, solve_mbes_wait, solve_mbes_only_decay, solve_obes\n",
    "from _mbes import mbes, mbes_soc, mbes_soc_no_cavity, mbes_soc_det, obes_soc, mbes_masing\n",
    "import matplotlib\n",
    "# matplotlib.use('NbAgg')\n",
    "import numpy as np\n",
    "from scipy.stats import logistic\n",
    "from scipy.optimize import basinhopping\n",
    "from scipy.special import erf\n",
    "from scipy import interpolate\n",
    "from IPython.display import clear_output, Javascript, Markdown\n",
    "import matplotlib.colors as colors\n",
    "import matplotlib.pyplot as plt\n",
    "import scipy.io\n",
    "import gc\n",
    "import datetime\n",
    "import time\n",
    "import random\n",
    "import matplotlib\n",
    "from _create_pdf import create_spins, create_spins_inhomo_g\n",
    "from _helper_functions import get_thermal_photons, tsallis, cauchy, find_nearest, odeintz, find_nearest_sorted_left\n",
    "from _steady_state import cav_steady, a_steady, a_steady_maser, a_steady_maser_temp, sz_steady_maser_from_a2, sz_steady_maser_from_a2_temp,  a2_steady_maser\n",
    "from importlib import reload\n",
    "import _spin_params as spin_pars\n",
    "import _sys_helpers\n",
    "_sys_helpers.copy_connection_file()\n",
    "# matplotlib.pyplot.switch_backend('nbagg')"
   ]
  },
  {
   "cell_type": "code",
   "execution_count": 243,
   "metadata": {},
   "outputs": [
    {
     "name": "stdout",
     "output_type": "stream",
     "text": [
      "4.143362827573153\n"
     ]
    }
   ],
   "source": [
    "gcoll = spin_pars.gcoll\n",
    "q = spin_pars.q\n",
    "quali = spin_pars.quali\n",
    "fr = spin_pars.fr\n",
    "kappa = np.pi*fr/quali  # HWHM\n",
    "delta = spin_pars.delta  # detuning cavity to spin central frequency ws-wc\n",
    "deltac = spin_pars.deltac  # detuning drive to cavity wc-wp\n",
    "gperp = spin_pars.gperp  # HWHM\n",
    "gpar = spin_pars.gpar  # 0.001 #HWHM\n",
    "gammaq = spin_pars.gammaq\n",
    "nbins = spin_pars.nbins  # 701#5000#20\n",
    "nbins = 22001\n",
    "g_number = spin_pars.g_number  # how many bins for inhomogeneous coupling\n",
    "#g0 = gcoll/sqrt(nspins)\n",
    "print(kappa)"
   ]
  },
  {
   "cell_type": "code",
   "execution_count": 244,
   "metadata": {},
   "outputs": [],
   "source": [
    "def pulse_rwa(t, args):\n",
    "    wgrund = args[0]\n",
    "    fcomps = args[1]\n",
    "    pulse = 0\n",
    "    for i in range(len(fcomps)):\n",
    "        pulse = pulse+(fcomps[i])*np.sin((i+1)*wgrund*t)\n",
    "    return pulse\n",
    "\n",
    "\n",
    "def pulse_rwa_gauss(t, args):\n",
    "    wgrund = args[0]\n",
    "    fcomps = args[1]\n",
    "    nfcomps = len(fcomps)\n",
    "    tend = np.pi/wgrund\n",
    "\n",
    "    width = 2*tend/(nfcomps+5)\n",
    "    t0 = 3*width/2\n",
    "    pulse = 0\n",
    "    for i in range(len(fcomps)):\n",
    "        pulse += fcomps[i]*np.exp(-4*(t-t0)**2*np.log(2)/width**2)\n",
    "        t0 += 0.5*width\n",
    "    pulse *= logistic.cdf(t, loc=0.01, scale=.002) * \\\n",
    "        (1-logistic.cdf(t, loc=tend-0.01, scale=.002))\n",
    "    pulse *= 0.46971947398573455\n",
    "    return pulse\n",
    "\n",
    "\n",
    "def pulse_rwa_gauss_const(t, args):\n",
    "    wgrund = args[0]\n",
    "    fcomps = args[1]\n",
    "    maxampl = args[2]\n",
    "    tend = np.pi/wgrund\n",
    "\n",
    "    spline = 0\n",
    "    for i in range(len(fcomps)):\n",
    "        spline += (fcomps[i])*np.sin((i+1)*wgrund*t)\n",
    "    pulsei = 0\n",
    "    pulseq = 0\n",
    "    pulse = 0\n",
    "    pulse = maxampl*logistic.cdf(t, loc=0.02, scale=0.004) * \\\n",
    "        (1-logistic.cdf(t, loc=tend-0.02, scale=0.004))\n",
    "\n",
    "    pulsei = pulse*np.cos(spline)\n",
    "    pulseq = pulse*np.sin(spline)\n",
    "\n",
    "    return pulsei, pulseq"
   ]
  },
  {
   "cell_type": "code",
   "execution_count": 245,
   "metadata": {},
   "outputs": [],
   "source": [
    "def g_inhomo_function(x, sigma):\n",
    "    return np.exp(-x**2/sigma**2)\n",
    "\n",
    "\n",
    "x_start = 5\n",
    "x_stop = 20  # µm\n",
    "x = np.linspace(x_start, x_stop, g_number)\n",
    "sigma = 5\n",
    "g_temp = g_inhomo_function(x, sigma)\n",
    "g_list = g_temp/np.sum(g_temp)"
   ]
  },
  {
   "cell_type": "code",
   "execution_count": 246,
   "metadata": {},
   "outputs": [
    {
     "data": {
      "image/png": "[encoded data removed]",
      "text/plain": [
       "<Figure size 432x288 with 1 Axes>"
      ]
     },
     "metadata": {
      "needs_background": "light"
     },
     "output_type": "display_data"
    },
    {
     "name": "stdout",
     "output_type": "stream",
     "text": [
      "Cooperativity is: 8.276906\n"
     ]
    }
   ],
   "source": [
    "plt.close('all')\n",
    "matplotlib.interactive(False)\n",
    "spins, gs, pdf = create_spins_inhomo_g(\n",
    "    gcoll, g_list, q, delta, gammaq, nbins, holes=False, inhomo=True, hyperfine=True)\n",
    "plt.figure()\n",
    "plt.plot(spins[:len(pdf)], pdf/max(pdf))\n",
    "plt.xlabel('$\\Delta f$ (MHz)')\n",
    "plt.ylabel('weight')\n",
    "plt.show()\n",
    "# %qtconsole\n",
    "coop = gcoll**2/kappa*np.sum(pdf/(gperp+1j*2*np.pi*spins))\n",
    "print(\"Cooperativity is: %f\" % coop.real)"
   ]
  },
  {
   "cell_type": "code",
   "execution_count": 247,
   "metadata": {},
   "outputs": [
    {
     "data": {
      "image/png": "[encoded data removed]",
      "text/plain": [
       "<Figure size 432x288 with 1 Axes>"
      ]
     },
     "metadata": {
      "needs_background": "light"
     },
     "output_type": "display_data"
    }
   ],
   "source": [
    "plt.close('all')\n",
    "matplotlib.interactive(False)\n",
    "\n",
    "initsteady = (0.001, 0.001)\n",
    "fstart = 50\n",
    "deltaarr = np.linspace(-fstart*2*np.pi, fstart*2*np.pi, 2000)\n",
    "etasteady = 0.01\n",
    "losasteady = np.zeros(np.shape(deltaarr))\n",
    "losareal = np.zeros(np.shape(deltaarr))\n",
    "losaimag = np.zeros(np.shape(deltaarr))\n",
    "\n",
    "newinit = initsteady\n",
    "for i, delt in enumerate(deltaarr):\n",
    "\n",
    "    ar, ai = a_steady(etasteady, delt, gs, spins, gpar, gperp, kappa, newinit)\n",
    "    newinit = (ar, ai)\n",
    "    losasteady[i] = ai**2+ar**2\n",
    "    losareal[i] = ar\n",
    "    losaimag[i] = ai\n",
    "\n",
    "fig = plt.figure()\n",
    "plt.xlabel('$\\Delta f$ (MHz)')\n",
    "plt.ylabel('|A|² (dB)')\n",
    "plt.plot(deltaarr/2/np.pi, 10*np.log10(losasteady))\n",
    "\n",
    "ar, ai = cav_steady((fr*2*np.pi+deltaarr), fr*2*np.pi,  etasteady, kappa)\n",
    "losasteady = ai**2+ar**2\n",
    "\n",
    "\n",
    "plt.plot(deltaarr/2/np.pi, 10*np.log10(losasteady), '')\n",
    "\n",
    "plt.show()"
   ]
  },
  {
   "cell_type": "markdown",
   "metadata": {},
   "source": [
    "# Power Scan Steady State Resonant"
   ]
  },
  {
   "cell_type": "code",
   "execution_count": 312,
   "metadata": {},
   "outputs": [
    {
     "data": {
      "image/png": "[encoded data removed]",
      "text/plain": [
       "<Figure size 432x288 with 1 Axes>"
      ]
     },
     "metadata": {
      "needs_background": "light"
     },
     "output_type": "display_data"
    },
    {
     "name": "stdout",
     "output_type": "stream",
     "text": [
      "2013075576076097.8\n",
      "8.266555645753396e-14\n"
     ]
    }
   ],
   "source": [
    "plt.close('all')\n",
    "matplotlib.interactive(False)\n",
    "\n",
    "powers = np.arange(-30, 30, 0.1)\n",
    "detuning = 0\n",
    "drs = 10**(powers/20.)\n",
    "\n",
    "initsteady = (0.001, 0.001)\n",
    "losasteady_p = np.zeros(np.shape(powers))\n",
    "losareal_p = np.zeros(np.shape(powers))\n",
    "losaimag_p = np.zeros(np.shape(powers))\n",
    "\n",
    "newinit = (losareal[int(len(losareal)/2)], losaimag[int(len(losareal)/2)])\n",
    "for i, dr in enumerate(drs):\n",
    "\n",
    "    ar, ai = a_steady(dr, detuning, gs, spins, gpar, gperp, kappa, newinit)\n",
    "    losasteady_p[i] = ai**2+ar**2\n",
    "    losareal_p[i] = ar\n",
    "    losaimag_p[i] = ai\n",
    "    newinit = (ar, ai)\n",
    "\n",
    "fig = plt.figure()\n",
    "plt.xlabel('Power (dBm)')\n",
    "plt.ylabel('|T|²')\n",
    "\n",
    "data = scipy.io.loadmat(\n",
    "    \"/mnt/samba2/experiments/Quantum InterConnect/Cryogenics/Dilution Fridge/Measurements/20220223_DCR_n-diamond_33/vnaPowerScans/powerScan_S12_onres_7_mfile-v6\", simplify_cells=True)\n",
    "\n",
    "datax = data[\"measPars\"][\"vna\"][\"measPower\"]\n",
    "datay = np.array([trace['realpart']**2+trace['imagpart']\n",
    "                 ** 2 for trace in data['traces']])\n",
    "\n",
    "\n",
    "pows = powers-27\n",
    "\n",
    "\n",
    "plt.plot(pows, 10*np.log10(losasteady_p/drs**2))\n",
    "\n",
    "plt.plot(datax, 10*np.log10(datay)+64)\n",
    "\n",
    "\n",
    "val1 = 10*np.log10(1/kappa**2)\n",
    "val2 = 10*np.log10(1/(kappa+kappa*coop.real)**2)\n",
    "mean = (val1+val2)/2\n",
    "\n",
    "plt.plot([pows[0], pows[-1]], [val1, val1], '--', color=(0.3, 0.3, 0.3))\n",
    "plt.plot([pows[0], pows[-1]], [val2, val2], '--', color=(0.3, 0.3, 0.3))\n",
    "\n",
    "\n",
    "idx = find_nearest(10*np.log10(losasteady_p/drs**2), mean)\n",
    "\n",
    "plt.plot(pows[idx], 10*np.log10(losasteady_p[idx]/drs[idx]**2), 'rx')\n",
    "\n",
    "plt.show()\n",
    "\n",
    "eta2 = (drs[idx]*1e3)**2/nbins*spin_pars.nreal\n",
    "print(eta2)\n",
    "k1 = 25e3\n",
    "print(eta2*scipy.constants.Planck*fr*1e6/(2*k1))\n",
    "\n",
    "# scipy.io.savemat(\"/home/andreas/wenz_daten.mat\", {'power_sim': pows, 'y_sim': 10*np.log10(\n",
    "#    losasteady_p/drs**2), 'power_data': datax, 'y_data': 10*np.log10(datay)+64})"
   ]
  },
  {
   "cell_type": "code",
   "execution_count": 257,
   "metadata": {},
   "outputs": [],
   "source": [
    "%qtconsole"
   ]
  },
  {
   "cell_type": "code",
   "execution_count": null,
   "metadata": {},
   "outputs": [],
   "source": []
  }
 ],
 "metadata": {
  "kernelspec": {
   "display_name": "Python 3 (ipykernel)",
   "language": "python",
   "name": "python3"
  },
  "language_info": {
   "codemirror_mode": {
    "name": "ipython",
    "version": 3
   },
   "file_extension": ".py",
   "mimetype": "text/x-python",
   "name": "python",
   "nbconvert_exporter": "python",
   "pygments_lexer": "ipython3",
   "version": "3.10.4"
  },
  "toc-autonumbering": false,
  "toc-showcode": true,
  "toc-showmarkdowntxt": true
 },
 "nbformat": 4,
 "nbformat_minor": 4
}
