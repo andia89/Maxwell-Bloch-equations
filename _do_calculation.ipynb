{
 "cells": [
  {
   "cell_type": "code",
   "execution_count": 1,
   "metadata": {},
   "outputs": [
    {
     "name": "stdout",
     "output_type": "stream",
     "text": [
      "Importing Jupyter notebook from _helper_functions.ipynb\n",
      "Importing Jupyter notebook from _mbes.ipynb\n"
     ]
    }
   ],
   "source": [
    "%matplotlib inline\n",
    "import numpy as np\n",
    "import nbimporter\n",
    "from _helper_functions import find_nearest_sorted, odeintz\n",
    "from _mbes import mbes, mbes_soc, mbes_soc_func, mbes_simulate_losses"
   ]
  },
  {
   "cell_type": "code",
   "execution_count": 2,
   "metadata": {},
   "outputs": [],
   "source": [
    "def solve_mbes(mbes_func, init, pdf, tlistpump, tlistdecay, *args):\n",
    "    #mbes_func: MBE functions to solve (defined in _mbes)\n",
    "    #init: inital state\n",
    "    #pdf: pdf for spins, necessary for normalizing the solutions\n",
    "    #tlistpump: timelist for which the pump tone is turned on\n",
    "    #tlistdecay: timelist for which the decay is computed (keep None if you don't want any decay)\n",
    "    #*args: function arguments to pass to the MBE functions \n",
    "      \n",
    "    solpump, infodict = odeintz(mbes_func, init, tlistpump, args=(*args, ), full_output=True)\n",
    "    \n",
    "    if tlistdecay is not None:\n",
    "        init2 = solpump[-1,:].copy()\n",
    "        #make sure that the last six arguments correspond to the one defined in the mbes function in _mbes\n",
    "        soldecay = odeintz(mbes, init2, tlistdecay, args=(0, *args[-6:]))\n",
    "        \n",
    "        solpump[:,2::2] = solpump[:,2::2]*pdf\n",
    "        solpump[:,1::2] = solpump[:,1::2]*pdf\n",
    "        soldecay[:,2::2] = soldecay[:,2::2]*pdf\n",
    "        soldecay[:,1::2] = soldecay[:,1::2]*pdf\n",
    "        return solpump, soldecay, infodict\n",
    "    else:\n",
    "        solpump[:,2::2] = solpump[:,2::2]*pdf\n",
    "        solpump[:,1::2] = solpump[:,1::2]*pdf\n",
    "        return solpump, infodict"
   ]
  }
 ],
 "metadata": {
  "kernelspec": {
   "display_name": "Python 3",
   "language": "python",
   "name": "python3"
  },
  "language_info": {
   "codemirror_mode": {
    "name": "ipython",
    "version": 3
   },
   "file_extension": ".py",
   "mimetype": "text/x-python",
   "name": "python",
   "nbconvert_exporter": "python",
   "pygments_lexer": "ipython3",
   "version": "3.5.2"
  }
 },
 "nbformat": 4,
 "nbformat_minor": 1
}
