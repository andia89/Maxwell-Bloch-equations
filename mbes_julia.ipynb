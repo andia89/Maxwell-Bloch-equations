{
 "cells": [
  {
   "cell_type": "code",
   "execution_count": 1,
   "id": "d4940d27-1578-4ab2-95c0-6c280e50f5b9",
   "metadata": {},
   "outputs": [],
   "source": [
    "using QuantumCumulants\n",
    "using Symbolics\n",
    "using SymbolicUtils\n",
    "using ModelingToolkit, OrdinaryDiffEq\n",
    "using MAT"
   ]
  },
  {
   "cell_type": "code",
   "execution_count": 2,
   "id": "92e10729-0e48-41bc-961b-5e4d4a929e1e",
   "metadata": {},
   "outputs": [
    {
     "data": {
      "text/plain": [
       "0.0006283185307179586"
      ]
     },
     "execution_count": 2,
     "metadata": {},
     "output_type": "execute_result"
    }
   ],
   "source": [
    "file = matopen(\"/home/andreas/julia.mat\")\n",
    "gs = read(file, \"coupl\")\n",
    "spins = read(file, \"spins\")\n",
    "kappa = read(file, \"kappa\")\n",
    "deltac = read(file, \"deltac\")\n",
    "gperp = read(file, \"gperp\")\n",
    "gpar = read(file, \"gpar\")"
   ]
  },
  {
   "cell_type": "code",
   "execution_count": 3,
   "id": "bdac6786-b104-4300-ab4d-d7d4dba34129",
   "metadata": {},
   "outputs": [],
   "source": [
    "# Parameters\n",
    "#IJulia.qtconsole()\n",
    "N = length(gs) #number of atoms\n",
    "M = 1\n",
    "kappa_sym, n, Δ, i, q, gamma_par, etap, gamma_perp =\n",
    "    cnumbers(\"κ ñ Δ_c I(t) Q(t) γ_{∥} η_p γ_{⊥}\")\n",
    "\n",
    "wf, G, kappa_f = cnumbers(\"Δ_f G κ_f\")\n",
    "\n",
    "\n",
    "g(j) = cnumbers(Symbol(\"g_{$j}\"))[1]\n",
    "Δs(j) = cnumbers(Symbol(\"Δ_{$j}\"))[1]\n",
    "\n",
    "# Hilbertspace\n",
    "hf = FockSpace(:cavity)\n",
    "hfilter = FockSpace(:cavity)\n",
    "ha = ⊗([NLevelSpace(Symbol(:atom, i), 2) for i = 1:N]...)\n",
    "h = hf ⊗ ha;"
   ]
  },
  {
   "cell_type": "code",
   "execution_count": 4,
   "id": "ca800c6d-e81e-427a-9131-80b1a9291e88",
   "metadata": {},
   "outputs": [],
   "source": [
    "p = (\n",
    "    kappa_sym => kappa,\n",
    "    Δ => deltac,\n",
    "    gamma_par => gpar,\n",
    "    gamma_perp => gperp,\n",
    "    i => 1,\n",
    "    q => 0,\n",
    "    n => 0,\n",
    "    etap => 0,\n",
    "    [g(i) => gs[i] for i = 1:N]...,\n",
    "    [Δs(i) => 2 * pi * spins[i] for i = 1:N]...,\n",
    ");"
   ]
  },
  {
   "cell_type": "code",
   "execution_count": 5,
   "id": "1544b5ca-c08a-4b2e-803e-59e39a1762a7",
   "metadata": {},
   "outputs": [],
   "source": [
    "# Operators\n",
    "a = Destroy(h, :a, 1)\n",
    "sigma(i, j, k) = Transition(h, Symbol(\"σ_{$k}\"), i, j, k + 1)\n",
    "sigmaz(k) = sigma(2, 2, k) - sigma(1, 1, k)\n",
    "sigmap(k) = sigma(2, 1, k);\n",
    "sigmam(k) = sigma(1, 2, k);"
   ]
  },
  {
   "cell_type": "code",
   "execution_count": 6,
   "id": "245ba34b-3a4a-44d2-a893-08151b5105f3",
   "metadata": {},
   "outputs": [],
   "source": [
    "H = Δ * a'a + 1im * i * (a' - a) + q * (a' + a)\n",
    "for j = 1:N\n",
    "    H += Δs(i) / 2 * sigmaz(j) + 1im * g(i) * (a' * sigmam(j) - a * sigmap(j))\n",
    "end\n",
    "#filter resonator\n",
    "#H += wf*b'b+G*(a'b+b'a)"
   ]
  },
  {
   "cell_type": "code",
   "execution_count": 7,
   "id": "451432f5-cbec-4ee3-b27c-eddb42b950b6",
   "metadata": {},
   "outputs": [],
   "source": [
    "# Collapse operators\n",
    "\n",
    "rates = Any[2*(n+1)*kappa, 2*n*kappa]\n",
    "rates = append!(rates, [gamma_par * (n + 1) for i = 1:N])\n",
    "rates = append!(rates, [n * gamma_par + etap for i = 1:N])\n",
    "rates = append!(rates, [gamma_perp / 2 for i = 1:N])\n",
    "#filter resonator\n",
    "#rates = append!(rates, [2*kappa_f])\n",
    "\n",
    "\n",
    "\n",
    "J = Any[a, a']\n",
    "J = append!(J, [sigmam(i) for i = 1:N])\n",
    "J = append!(J, [sigmap(i) for i = 1:N])\n",
    "J = append!(J, [sigmaz(i) for i = 1:N])\n",
    "#filter resonator\n",
    "#J = append!(J, [b]);"
   ]
  },
  {
   "cell_type": "code",
   "execution_count": null,
   "id": "8f52cf4a-933e-4ae8-976c-74ae2e6ce8ea",
   "metadata": {},
   "outputs": [],
   "source": [
    "eqns = meanfield(a, H, J; rates = rates, order = M);"
   ]
  },
  {
   "cell_type": "code",
   "execution_count": null,
   "id": "d9870d57-8714-40ff-9d12-67be15288fe5",
   "metadata": {},
   "outputs": [],
   "source": [
    "@named sys = ODESystem(eqns)\n",
    "\n",
    "u0 = zeros(ComplexF64, length(eqns))\n",
    "prob = ODEProblem(sys, u0, (0.0, 15.0), p)\n",
    "sol = solve(prob, RK4())"
   ]
  },
  {
   "cell_type": "code",
   "execution_count": null,
   "id": "fb32c652-0b3c-479c-8c29-f44dafda1571",
   "metadata": {},
   "outputs": [],
   "source": []
  }
 ],
 "metadata": {
  "kernelspec": {
   "display_name": "Julia 1.7.2",
   "language": "julia",
   "name": "julia-1.7"
  },
  "language_info": {
   "file_extension": ".jl",
   "mimetype": "application/julia",
   "name": "julia",
   "version": "1.7.2"
  }
 },
 "nbformat": 4,
 "nbformat_minor": 5
}
