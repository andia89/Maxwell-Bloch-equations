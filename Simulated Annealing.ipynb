{
 "cells": [
  {
   "cell_type": "code",
   "execution_count": 1,
   "metadata": {},
   "outputs": [],
   "source": [
    "%matplotlib inline\n",
    "import numpy as np\n",
    "from scipy import integrate\n",
    "from scipy.special import gamma\n",
    "from scipy.optimize import fsolve, basinhopping\n",
    "import matplotlib.pyplot as plt\n",
    "import qutip.ipynbtools\n",
    "from ipywidgets import FloatProgress\n",
    "import qutip.parallel\n",
    "from scipy import signal\n",
    "import scipy.io\n",
    "import gc\n",
    "import matplotlib.colors as colors\n",
    "from IPython.display import clear_output, Javascript, Markdown\n",
    "import datetime\n",
    "import math\n",
    "import uuid\n",
    "import os\n",
    "import time\n",
    "import ipyparallel\n",
    "import qutip.ui\n",
    "import random\n",
    "import signal\n",
    "#%qtconsole"
   ]
  },
  {
   "cell_type": "code",
   "execution_count": 3,
   "metadata": {},
   "outputs": [
    {
     "name": "stdout",
     "output_type": "stream",
     "text": [
      "11.550732441417814\n"
     ]
    }
   ],
   "source": [
    "gcoll = 10.7*np.pi #HWHM\n",
    "q = 1.39\n",
    "quali = 949\n",
    "fr = 3.4892e3;\n",
    "kappa = np.pi*fr/quali #HWHM\n",
    "delta = 0*2*np.pi\n",
    "deltac = 0*2*np.pi\n",
    "gperp = 2*np.pi*0.09 #HWHM\n",
    "gpar = 2*np.pi*.001#0.001 #HWHM\n",
    "gammaq = 2*np.pi*9.4 #FWHM\n",
    "nbins = 701#701#5000#20\n",
    "#g0 = gcoll/sqrt(nspins)\n",
    "print(kappa)"
   ]
  },
  {
   "cell_type": "code",
   "execution_count": 5,
   "metadata": {},
   "outputs": [],
   "source": [
    "def odeintz(func, z0, t, **kwargs):\n",
    "    \"\"\"An odeint-like function for complex valued differential equations.\"\"\"\n",
    "\n",
    "    # Disallow Jacobian-related arguments.\n",
    "    _unsupported_odeint_args = ['Dfun', 'col_deriv', 'ml', 'mu']\n",
    "    bad_args = [arg for arg in kwargs if arg in _unsupported_odeint_args]\n",
    "    if len(bad_args) > 0:\n",
    "        raise ValueError(\"The odeint argument %r is not supported by \"\n",
    "                         \"odeintz.\" % (bad_args[0],))\n",
    "\n",
    "    # Make sure z0 is a numpy array of type np.complex128.\n",
    "    z0 = np.array(z0, dtype=np.complex128, ndmin=1)\n",
    "\n",
    "    def realfunc(x, t, *args):\n",
    "        z = x.view(np.complex128)\n",
    "        dzdt = func(z, t, *args)\n",
    "        # func might return a python list, so convert its return\n",
    "        # value to an array with type np.complex128, and then return\n",
    "        # a np.float64 view of that array.\n",
    "        return np.asarray(dzdt, dtype=np.complex128).view(np.float64)\n",
    "\n",
    "    result = integrate.odeint(realfunc, z0.view(np.float64), t, **kwargs)\n",
    "\n",
    "    if kwargs.get('full_output', False):\n",
    "        z = result[0].view(np.complex128)\n",
    "        infodict = result[1]\n",
    "        return z, infodict\n",
    "    else:\n",
    "        z = result.view(np.complex128)\n",
    "        return z"
   ]
  },
  {
   "cell_type": "code",
   "execution_count": 6,
   "metadata": {},
   "outputs": [],
   "source": [
    "def tsallis(f, q, width):\n",
    "    delta = (width)/2*np.sqrt(2*q-2)/np.sqrt(2**q-2)/np.sqrt(2)\n",
    "    norm = np.sqrt(q-1)*gamma(1/(q-1))/(np.sqrt(2*np.pi)*delta*gamma((3-q)/(2*(q-1))))\n",
    "    val = (1+(q-1)*f**2/delta**2/2)**(1/(1-q))\n",
    "    return norm*val"
   ]
  },
  {
   "cell_type": "code",
   "execution_count": 7,
   "metadata": {},
   "outputs": [],
   "source": [
    "def find_nearest(array,value):\n",
    "    idx = (np.abs(array-value)).argmin()\n",
    "    return idx, array[idx]\n",
    "\n",
    "def find_nearest_sorted(array,value):\n",
    "    \"\"\"much faster for sorted arrays\"\"\"\n",
    "    idx = np.searchsorted(array, value, side=\"left\")\n",
    "    if idx > 0 and (idx == len(array) or math.fabs(value - array[idx-1]) < math.fabs(value - array[idx])):\n",
    "        return idx-1\n",
    "    else:\n",
    "        return idx\n",
    "\n",
    "def cauchy(x, pos, fwhm, ampl):\n",
    "    return 1/((x-pos)**2+0.25*fwhm**2)*0.25*fwhm**2*ampl\n"
   ]
  },
  {
   "cell_type": "code",
   "execution_count": 8,
   "metadata": {},
   "outputs": [
    {
     "data": {
      "text/plain": [
       "[<matplotlib.lines.Line2D at 0x7fe23cd84518>]"
      ]
     },
     "execution_count": 8,
     "metadata": {},
     "output_type": "execute_result"
    },
    {
     "data": {
      "image/png": "[encoded data removed]",
      "text/plain": [
       "<Figure size 432x288 with 1 Axes>"
      ]
     },
     "metadata": {},
     "output_type": "display_data"
    }
   ],
   "source": [
    "holes = False #set to true if you want to include holes in your simulation\n",
    "inhomo = True #do you want inhomogneous broadening\n",
    "\n",
    "f = np.linspace(-gammaq/2, gammaq/2, nbins )\n",
    "pdf = tsallis(f, q, gammaq/2/np.pi)\n",
    "\n",
    "\n",
    "if holes:\n",
    "    frequency_exclude = gcoll/2/np.pi\n",
    "    exclude_width = 0.2 #FWHM\n",
    "\n",
    "    indf, freq = find_nearest(f, frequency_exclude)\n",
    "    scale = pdf[indf]\n",
    "\n",
    "    toex = cauchy(f, frequency_exclude, exclude_width, -scale)+cauchy(f, -frequency_exclude, exclude_width, -scale)\n",
    "    #toex2 = cauchy(f, 0, exclude_width, -pdf[int(len(f)/2)])\n",
    "    pdf = pdf+toex\n",
    "\n",
    "pdf = np.clip(pdf, 0, max(pdf) )   \n",
    "    \n",
    "spdf = sum(pdf)\n",
    "pdf = pdf/spdf    \n",
    "\n",
    "if not inhomo:\n",
    "    pdf = np.zeros(np.shape(pdf))\n",
    "    pdf[int(nbins/2)] = 1\n",
    "    \n",
    "spins = f #draw samples according to distribution\n",
    "gs = np.sqrt(pdf)*gcoll\n",
    "plt.plot(f, pdf)\n"
   ]
  },
  {
   "cell_type": "code",
   "execution_count": 9,
   "metadata": {},
   "outputs": [],
   "source": [
    "def func(a, eta, deltdrive):\n",
    "    spins2 = 2*np.pi*(spins)+deltdrive\n",
    "    sn = a*gs**2*gpar*(gperp-1j*spins2 )\n",
    "    sd = gpar*gperp**2+4*np.abs(a)**2*gs**2*gperp+gpar*spins2**2\n",
    "    s = sn/sd\n",
    "    \n",
    "    ret = 1j*a*deltdrive + eta + a*kappa + np.sum(s)\n",
    "    return ret.real, ret.imag\n",
    "\n",
    "def a_steady(eta, deltadrive, init):\n",
    "\n",
    "    def equations(x):\n",
    "        ar, ai = x\n",
    "        return func(ar+1j*ai, eta, deltadrive)\n",
    "    ar, ai = fsolve(equations, init)\n",
    "\n",
    "    return ar, ai"
   ]
  },
  {
   "cell_type": "code",
   "execution_count": 10,
   "metadata": {},
   "outputs": [
    {
     "data": {
      "text/plain": [
       "[<matplotlib.lines.Line2D at 0x7fe23cd27630>]"
      ]
     },
     "execution_count": 10,
     "metadata": {},
     "output_type": "execute_result"
    },
    {
     "data": {
      "image/png": "[encoded data removed]",
      "text/plain": [
       "<Figure size 432x288 with 1 Axes>"
      ]
     },
     "metadata": {},
     "output_type": "display_data"
    }
   ],
   "source": [
    "initsteady = (0.1,0.1)\n",
    "fstart = 50\n",
    "deltaarr = np.linspace(-fstart*2*np.pi,fstart*2*np.pi, 2000)\n",
    "etasteady = 0.00001\n",
    "losasteady = np.zeros(np.shape(deltaarr))\n",
    "losareal = np.zeros(np.shape(deltaarr))\n",
    "losaimag = np.zeros(np.shape(deltaarr))\n",
    "\n",
    "newinit = initsteady\n",
    "for i, delt in enumerate(deltaarr):\n",
    "    ar, ai = a_steady(etasteady, delt, newinit)\n",
    "    newinit = (ar, ai)\n",
    "    losasteady[i] = ai**2+ar**2\n",
    "    losareal[i] = ar\n",
    "    losaimag[i] = ai\n",
    "\n",
    "fig = plt.figure()\n",
    "plt.plot(deltaarr/2/np.pi, 10*np.log10(losasteady/0.0000000001))\n",
    "#deltaarr[find(losasteady == max(losasteady))]/2/pi"
   ]
  },
  {
   "cell_type": "code",
   "execution_count": 11,
   "metadata": {},
   "outputs": [],
   "source": [
    "#this is as optimized as possible using numpy slicing so calling this function SHOULD be very fast\n",
    "ret = np.zeros(nbins*2+1, dtype=complex)\n",
    "\n",
    "#@jit\n",
    "def mbes(Y, t, eta):\n",
    "    ret[0] = -kappa*Y[0]-1j*deltac*Y[0]+np.sum(gs*Y[1::2])+eta\n",
    "    ret[1::2] = -(gperp+1j*spins*2*np.pi)*Y[1::2]+gs*Y[2::2]*Y[0]\n",
    "    ret[2::2] = -gpar*(1+Y[2::2])-2*gs*(Y[1::2]*np.conj(Y[0])+np.conj(Y[1::2])*Y[0])\n",
    "    return ret\n",
    "\n",
    "#%%timeit gives\n",
    "#10000 loops, best of 3: 45 µs per loop\n",
    "#for 800 spins it becomes ~70µs. This is probably not the bottleneck\n",
    "\n",
    "\n",
    "#this function is a lot slower, so be careful when using it\n",
    "#@jit\n",
    "def mbes_soc(Y, t, ilist, qlist, tlist):\n",
    "    idx = find_nearest_sorted(tlist, t)\n",
    "    ret[0] = -kappa*Y[0]-1j*deltac*Y[0]+np.sum(gs*Y[1::2])+ilist[idx]-1j*qlist[idx]\n",
    "    ret[1::2] = -(gperp+1j*spins*2*np.pi)*Y[1::2]+gs*Y[2::2]*Y[0]\n",
    "    ret[2::2] = -gpar*(1+Y[2::2])-2*gs*(Y[1::2]*np.conj(Y[0])+np.conj(Y[1::2])*Y[0])\n",
    "    return ret\n"
   ]
  },
  {
   "cell_type": "code",
   "execution_count": 12,
   "metadata": {},
   "outputs": [],
   "source": [
    "def do_calculation(drive, tlistpump, tlistafter, init):\n",
    "\n",
    "    #this should be very fast as well because scipy uses fortran \n",
    "    asolpump, infodict = odeintz(mbes, init, tlistpump, args=(drive,), full_output=True)\n",
    "    init2 = asolpump[-1,:]\n",
    "    asoldecay = odeintz(mbes, init2, tlistafter, args=(0,))\n",
    "    \n",
    "    #this is necessary because we are clustering the spins\n",
    "    asolpump[:,2::2] = asolpump[:,2::2]*pdf\n",
    "    asolpump[:,1::2] = asolpump[:,1::2]*pdf\n",
    "    asoldecay[:,2::2] = asoldecay[:,2::2]*pdf\n",
    "    asoldecay[:,1::2] = asoldecay[:,1::2]*pdf\n",
    "    return asolpump, asoldecay, infodict\n",
    "    #solution is that the first entry is the cavity, and then the first spin (sigma-, sigmaz) then the second etc...\n",
    "    \n",
    "def do_calculation_stimulated(drivepump, driveprobe, tlistpump, tlistwait, tlistprobe, tlistafter, init):\n",
    "    #this should be very fast as well because scipy uses fortran \n",
    "    asolpump, infodict = odeintz(mbes, init, tlistpump, args=(drivepump,), full_output=True)\n",
    "    init2 = asolpump[-1,:]\n",
    "    asolwait = odeintz(mbes, init2, tlistwait, args=(0,))\n",
    "    init3 = asolwait[-1,:]\n",
    "    asolprobe = odeintz(mbes, init3, tlistprobe, args=(driveprobe,))\n",
    "    init4 = asolprobe[-1,:]\n",
    "    asoldecay = odeintz(mbes, init4, tlistafter, args=(0,))\n",
    "    \n",
    "    #this is necessary because we are clustering the spins\n",
    "    asolpump[:,2::2] = asolpump[:,2::2]*pdf\n",
    "    asolpump[:,1::2] = asolpump[:,1::2]*pdf\n",
    "    asoldecay[:,2::2] = asoldecay[:,2::2]*pdf\n",
    "    asoldecay[:,1::2] = asoldecay[:,1::2]*pdf\n",
    "    asolwait[:, 2::2] = asolwait[:, 2::2]*pdf\n",
    "    asolwait[:, 1::2] = asolwait[:, 1::2]*pdf\n",
    "    asolprobe[:, 1::2] = asolprobe[:, 1::2]*pdf\n",
    "    asolprobe[:, 2::2] = asolprobe[:, 2::2]*pdf\n",
    "    return asolpump, asolwait, asolprobe, asoldecay, infodict\n",
    "    \n",
    "def do_calculation_soc(ilist, qlist, tlistpump, tlistafter, init):\n",
    "    \"\"\"this method is if you want to use shaped drive, which means that the drive-lists as i and q channels\n",
    "    shape should be given as first arguments\n",
    "    \n",
    "    factor is the number by which one has to multiply tlistpump, to get a all integer list as 0,1,2,3...numsteps-1\n",
    "    \"\"\"\n",
    "    #this should be very fast as well because scipy uses fortran \n",
    "    asolpump, infodict = odeintz(mbes_soc, init, tlistpump, args=(ilist, qlist, tlistpump), full_output=True)\n",
    "    init2 = asolpump[-1,:]\n",
    "    asoldecay = odeintz(mbes, init2, tlistafter, args=(0,))\n",
    "\n",
    "    asolpump[:,2::2] = asolpump[:,2::2]*pdf\n",
    "    asolpump[:,1::2] = asolpump[:,1::2]*pdf\n",
    "    asoldecay[:,2::2] = asoldecay[:,2::2]*pdf\n",
    "    asoldecay[:,1::2] = asoldecay[:,1::2]*pdf\n",
    "    \n",
    "    return asolpump, asoldecay, infodict\n",
    "    #solution is that the first entry is the cavity, and then the first spin (sigma-, sigmaz) then the second etc...\n",
    "    \n",
    "def do_calculation_soc_pump_only(ilist, qlist, tlist, init):\n",
    "    \"\"\"this method is if you want to use shaped drive, which means that the drive-lists as i and q channels\n",
    "    shape should be given as first arguments\n",
    "    \n",
    "    it doesn't use a decay afterwards such that it is better for genetic algorithm\n",
    "    \n",
    "    factor is the number by which one has to multiply tlistpump, to get a all integer list as 0,1,2,3...numsteps-1\n",
    "    \"\"\"\n",
    "    #this should be very fast as well because scipy uses fortran\n",
    "    asol, infodict = odeintz(mbes_soc, init, tlist, args=(ilist, qlist, tlist), full_output=True)\n",
    "    \n",
    "    asol[:,2::2] = asol[:,2::2]*pdf\n",
    "    asol[:,1::2] = asol[:,1::2]*pdf\n",
    "    \n",
    "    return asol, infodict\n",
    "    #solution is that the first entry is the cavity, and then the first spin (sigma-, sigmaz) then the second etc..."
   ]
  },
  {
   "cell_type": "markdown",
   "metadata": {
    "collapsed": true
   },
   "source": [
    "## SOC pulses"
   ]
  },
  {
   "cell_type": "code",
   "execution_count": 13,
   "metadata": {},
   "outputs": [],
   "source": [
    "def pulse_rwa(t, args):\n",
    "    wgrund = args[0]\n",
    "    fcomps = args[1]\n",
    "    pulse = 0\n",
    "    for i in range(len(fcomps)):\n",
    "        pulse = pulse+(fcomps[i])*np.sin((i+1)*wgrund*t)\n",
    "    return pulse"
   ]
  },
  {
   "cell_type": "markdown",
   "metadata": {},
   "source": [
    "Calibrate power"
   ]
  },
  {
   "cell_type": "code",
   "execution_count": 14,
   "metadata": {},
   "outputs": [],
   "source": [
    "pumptime = 200e-3\n",
    "decaytime = 300e-3\n",
    "dt = 0.5e-3\n",
    "numsteps = int(pumptime/dt)\n",
    "tlist = np.arange(0,pumptime+dt,dt)\n",
    "tlistdecay = np.arange(0, decaytime+dt, dt)\n",
    "\n",
    "# test time it takes to calculate\n",
    "\n",
    "\n",
    "init = np.ones(nbins*2+1)*(-1)\n",
    "init[0] = 0\n",
    "init[1::2] = 0\n",
    "\n",
    "pulsei = np.ones((len(tlist)))\n",
    "\n",
    "\n",
    "pin = np.arange(-45, 0,1)\n",
    "aref = 2*np.pi*50\n",
    "\n",
    "alos = np.zeros((len(pin), len(tlist)+len(tlistdecay)))\n",
    "szlos = np.zeros(np.shape(alos))\n",
    "\n",
    "for ctr, p in enumerate(pin):\n",
    "    dr = aref*10**(p/20.)\n",
    "    asolpump, asoldecay, infodict = do_calculation(dr, tlist, tlistdecay, init)\n",
    "    alos[ctr, : ] = np.hstack((abs(asolpump[:,0])**2, abs(asoldecay[:,0])**2))\n",
    "    szlos[ctr, :] = np.hstack((np.real(np.sum(asolpump[:, 2::2], axis=1)), np.real(np.sum(asoldecay[:, 2::2], axis=1))))"
   ]
  },
  {
   "cell_type": "code",
   "execution_count": 15,
   "metadata": {},
   "outputs": [
    {
     "data": {
      "text/plain": [
       "[<matplotlib.lines.Line2D at 0x7fe2358f8048>]"
      ]
     },
     "execution_count": 15,
     "metadata": {},
     "output_type": "execute_result"
    },
    {
     "data": {
      "image/png": "[encoded data removed]",
      "text/plain": [
       "<Figure size 1080x360 with 2 Axes>"
      ]
     },
     "metadata": {},
     "output_type": "display_data"
    },
    {
     "data": {
      "image/png": "[encoded data removed]",
      "text/plain": [
       "<Figure size 432x288 with 1 Axes>"
      ]
     },
     "metadata": {},
     "output_type": "display_data"
    }
   ],
   "source": [
    "tplot = np.linspace(0, 1000*(pumptime+decaytime), len(tlist)+len(tlistdecay))\n",
    "\n",
    "fig, (ax1, ax2) = plt.subplots(1,2, figsize=(15,5))\n",
    "\n",
    "ax1.pcolor(tplot, pin, alos, norm=colors.LogNorm())\n",
    "ax1.set_xlabel('Time (ns)')\n",
    "ax1.set_ylabel('Input power (dB)');\n",
    "\n",
    "ax2.pcolor(tplot, pin, szlos)\n",
    "ax2.set_xlabel('Time (ns)')\n",
    "ax2.set_ylabel('Input power (dB)');\n",
    "\n",
    "f = plt.figure()\n",
    "idx = min(range(len(tplot)), key=lambda i: abs(tplot[i]-pumptime*1000))\n",
    "plt.plot(pin, szlos[:, idx])"
   ]
  },
  {
   "cell_type": "code",
   "execution_count": 16,
   "metadata": {},
   "outputs": [],
   "source": [
    "def calculate_fitness(fcomps, timelist=[], wgrund=1):\n",
    "    fcompsi = fcomps[:,0]\n",
    "    fcompsq = fcomps[:,1]\n",
    "    pulsei = pulse_rwa(timelist, [wgrund, fcompsi])\n",
    "    pulseq = pulse_rwa(timelist, [wgrund, fcompsq])\n",
    "    init = np.ones(nbins*2+1)*(-1)\n",
    "    init[0] = 0\n",
    "    init[1::2] = 0\n",
    "    solution, infodict = do_calculation_soc_pump_only(pulsei, pulseq, timelist, init)\n",
    "    return -(np.real(np.sum(solution[:, 2::2], axis=1)[-1]))"
   ]
  },
  {
   "cell_type": "code",
   "execution_count": 17,
   "metadata": {},
   "outputs": [],
   "source": [
    "class SimulatedAnnealing:\n",
    "    def __init__(self):\n",
    "        self.tp = np.linspace(0,pumptime,numsteps)\n",
    "        \n",
    "        self.number_fcp = 8\n",
    "        self.max_ampl = 2*np.pi*50/self.number_fcp\n",
    "        self.wgrund = np.pi/self.tp[-1]\n",
    "        self.average_fitness = []\n",
    "        self.best_fitness = []\n",
    "        \n",
    "        self.stepsize = self.max_ampl*0.1\n",
    "        self.temp = 5\n",
    "        self.number_tries = 50 #number of tries per cycle\n",
    "        self.dT = 0.99\n",
    "        \n",
    "        \n",
    "        \n",
    "    def main(self):\n",
    "        populationPulse = np.zeros((numsteps, 2))\n",
    "        populationFourier = np.zeros((self.number_fcp, 2))\n",
    "        populationFitness = np.zeros((1))\n",
    "        populationSolution = np.zeros((numsteps, 2*nbins+1), dtype=complex)\n",
    "        \n",
    "        frand = np.random.uniform(-self.max_ampl, self.max_ampl, (self.number_fcp, 2))\n",
    "        populationFourier[:, :] = frand\n",
    "        energy = calculate_fitness(populationFourier, self.tp, self.wgrund)\n",
    "        disp1 = display(Markdown(\"\"), display_id='0')\n",
    "        while self.temp>0:\n",
    "            for i in range(self.number_tries):\n",
    "                \n",
    "                newfcomps = populationFourier + self.stepsize*np.random.uniform(-1, 1, (self.number_fcp, 2))\n",
    "                newfcomps = np.clip(newfcomps, -self.max_ampl, self.max_ampl)\n",
    "                \n",
    "                energynew = calculate_fitness(newfcomps, self.tp, self.wgrund)\n",
    "\n",
    "                if energynew < energy:\n",
    "                    populationFourier = newfcomps\n",
    "                    energy = energynew\n",
    "                else:\n",
    "                    prop = min(1, np.exp(-(energynew-energy)/self.temp))\n",
    "                    if np.random.uniform() < prop:\n",
    "                        populationFourier = newfcomps\n",
    "                        energy = energynew\n",
    "                disp1.update(Markdown(\"Temp: %.3f, Inversion: %f, Step: %d\"%(self.temp, -energy, i)))\n",
    "\n",
    "            self.temp *= self.dT\n",
    "        return populationFourier\n",
    "        "
   ]
  },
  {
   "cell_type": "code",
   "execution_count": 18,
   "metadata": {},
   "outputs": [],
   "source": [
    "metropo = SimulatedAnnealing()\n",
    "res = metropo.main()"
   ]
  }
 ],
 "metadata": {
  "kernelspec": {
   "display_name": "Python 3",
   "language": "python",
   "name": "python3"
  },
  "language_info": {
   "codemirror_mode": {
    "name": "ipython",
    "version": 3
   },
   "file_extension": ".py",
   "mimetype": "text/x-python",
   "name": "python",
   "nbconvert_exporter": "python",
   "pygments_lexer": "ipython3",
   "version": "3.8.2"
  }
 },
 "nbformat": 4,
 "nbformat_minor": 1
}
