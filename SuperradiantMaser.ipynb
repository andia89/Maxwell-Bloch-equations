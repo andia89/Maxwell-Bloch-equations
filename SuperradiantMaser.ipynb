{
 "cells": [
  {
   "cell_type": "code",
   "execution_count": 1,
   "metadata": {},
   "outputs": [],
   "source": [
    "%load_ext autoreload\n",
    "%autoreload 2\n",
    "%matplotlib inline\n",
    "from _do_calculation import solve_mbes_general, solve_mbes, solve_mbes_without_cavity, get_pulses_from_cavity_field, solve_mbes_wait, solve_mbes_only_decay, solve_obes\n",
    "from _mbes import mbes, mbes_soc, mbes_soc_no_cavity, mbes_soc_det, obes_soc, mbes_masing\n",
    "import matplotlib\n",
    "# matplotlib.use('NbAgg')\n",
    "import numpy as np\n",
    "from scipy.stats import logistic\n",
    "from scipy.optimize import basinhopping\n",
    "from scipy.special import erf\n",
    "from scipy import interpolate\n",
    "from IPython.display import clear_output, Javascript, Markdown\n",
    "import matplotlib.colors as colors\n",
    "import matplotlib.pyplot as plt\n",
    "import scipy.io\n",
    "import gc\n",
    "import datetime\n",
    "import time\n",
    "import random\n",
    "import matplotlib\n",
    "from _create_pdf import create_spins, create_spins_inhomo_g\n",
    "from _helper_functions import get_thermal_photons, tsallis, cauchy, find_nearest, odeintz, find_nearest_sorted_left, fsolvez\n",
    "from _steady_state import a_steady, a_steady_maser, a_steady_maser_temp, sz_steady_maser_from_a2, sz_steady_maser_from_a2_temp,  a2_steady_maser, ada_steady_maser_cumulant_with_filter_cav, funcada_maser_cumulant_with_filter\n",
    "from importlib import reload\n",
    "import _spin_params as spin_pars\n",
    "import _sys_helpers\n",
    "_sys_helpers.copy_connection_file()\n",
    "# matplotlib.pyplot.switch_backend('nbagg')"
   ]
  },
  {
   "cell_type": "code",
   "execution_count": 2,
   "metadata": {},
   "outputs": [
    {
     "name": "stdout",
     "output_type": "stream",
     "text": [
      "3.751201656087927\n"
     ]
    }
   ],
   "source": [
    "# %qtconsole\n",
    "gcoll = spin_pars.gcoll\n",
    "q = spin_pars.q\n",
    "quali = spin_pars.quali\n",
    "fr = spin_pars.fr\n",
    "kappa = np.pi*fr/quali  # HWHM\n",
    "delta = spin_pars.delta  # detuning cavity to spin central frequency ws-wc\n",
    "deltac = spin_pars.deltac  # detuning drive to cavity wc-wp\n",
    "gperp = spin_pars.gperp  # HWHM\n",
    "gpar = spin_pars.gpar  # 0.001 #HWHM\n",
    "gammaq = spin_pars.gammaq\n",
    "nbins = 701  # spin_pars.nbins  # 701#5000#20\n",
    "g_number = spin_pars.g_number  # how many bins for inhomogeneous coupling\n",
    "#g0 = gcoll/sqrt(nspins)\n",
    "print(kappa)"
   ]
  },
  {
   "cell_type": "code",
   "execution_count": 3,
   "metadata": {},
   "outputs": [],
   "source": [
    "def pulse_rwa(t, args):\n",
    "    wgrund = args[0]\n",
    "    fcomps = args[1]\n",
    "    pulse = 0\n",
    "    for i in range(len(fcomps)):\n",
    "        pulse = pulse+(fcomps[i])*np.sin((i+1)*wgrund*t)\n",
    "    return pulse\n",
    "\n",
    "\n",
    "def pulse_rwa_gauss(t, args):\n",
    "    wgrund = args[0]\n",
    "    fcomps = args[1]\n",
    "    nfcomps = len(fcomps)\n",
    "    tend = np.pi/wgrund\n",
    "\n",
    "    width = 2*tend/(nfcomps+5)\n",
    "    t0 = 3*width/2\n",
    "    pulse = 0\n",
    "    for i in range(len(fcomps)):\n",
    "        pulse += fcomps[i]*np.exp(-4*(t-t0)**2*np.log(2)/width**2)\n",
    "        t0 += 0.5*width\n",
    "    pulse *= logistic.cdf(t, loc=0.01, scale=.002) * \\\n",
    "        (1-logistic.cdf(t, loc=tend-0.01, scale=.002))\n",
    "    pulse *= 0.46971947398573455\n",
    "    return pulse\n",
    "\n",
    "\n",
    "def pulse_rwa_gauss_const(t, args):\n",
    "    wgrund = args[0]\n",
    "    fcomps = args[1]\n",
    "    maxampl = args[2]\n",
    "    tend = np.pi/wgrund\n",
    "\n",
    "    spline = 0\n",
    "    for i in range(len(fcomps)):\n",
    "        spline += (fcomps[i])*np.sin((i+1)*wgrund*t)\n",
    "    pulsei = 0\n",
    "    pulseq = 0\n",
    "    pulse = 0\n",
    "    pulse = maxampl*logistic.cdf(t, loc=0.02, scale=0.004) * \\\n",
    "        (1-logistic.cdf(t, loc=tend-0.02, scale=0.004))\n",
    "\n",
    "    pulsei = pulse*np.cos(spline)\n",
    "    pulseq = pulse*np.sin(spline)\n",
    "\n",
    "    return pulsei, pulseq"
   ]
  },
  {
   "cell_type": "code",
   "execution_count": 4,
   "metadata": {},
   "outputs": [],
   "source": [
    "def g_inhomo_function(x, sigma):\n",
    "    return np.exp(-x**2/sigma**2)\n",
    "\n",
    "\n",
    "x_start = 5\n",
    "x_stop = 20  # µm\n",
    "x = np.linspace(x_start, x_stop, g_number)\n",
    "sigma = 5\n",
    "g_temp = g_inhomo_function(x, sigma)\n",
    "g_list = g_temp/np.sum(g_temp)"
   ]
  },
  {
   "cell_type": "code",
   "execution_count": 5,
   "metadata": {},
   "outputs": [
    {
     "data": {
      "image/png": "[encoded data removed]",
      "text/plain": [
       "<Figure size 432x288 with 1 Axes>"
      ]
     },
     "metadata": {
      "needs_background": "light"
     },
     "output_type": "display_data"
    },
    {
     "name": "stdout",
     "output_type": "stream",
     "text": [
      "28.464147186343517\n",
      "Cooperativity is: 9.228580\n"
     ]
    }
   ],
   "source": [
    "plt.close('all')\n",
    "matplotlib.interactive(False)\n",
    "spins, gs, pdf = create_spins_inhomo_g(\n",
    "    gcoll, g_list, q, delta, gammaq, nbins, holes=False, inhomo=True, hyperfine=True)\n",
    "plt.figure()\n",
    "plt.plot(spins[:len(pdf)], pdf/max(pdf))\n",
    "plt.xlabel('$\\Delta f$ (MHz)')\n",
    "plt.ylabel('weight')\n",
    "plt.show()\n",
    "# %qtconsole\n",
    "print(gcoll)\n",
    "coop = gcoll**2/kappa*np.sum(pdf/(gperp+1j*2*np.pi*spins))\n",
    "print(\"Cooperativity is: %f\" % coop.real)"
   ]
  },
  {
   "cell_type": "code",
   "execution_count": 6,
   "metadata": {},
   "outputs": [
    {
     "data": {
      "image/png": "[encoded data removed]",
      "text/plain": [
       "<Figure size 432x288 with 1 Axes>"
      ]
     },
     "metadata": {
      "needs_background": "light"
     },
     "output_type": "display_data"
    }
   ],
   "source": [
    "plt.close('all')\n",
    "matplotlib.interactive(False)\n",
    "\n",
    "initsteady = (0.001, 0.001)\n",
    "fstart = 50\n",
    "deltaarr = np.linspace(-fstart*2*np.pi, fstart*2*np.pi, 2000)\n",
    "etasteady = 0.00001\n",
    "losasteady = np.zeros(np.shape(deltaarr))\n",
    "losareal = np.zeros(np.shape(deltaarr))\n",
    "losaimag = np.zeros(np.shape(deltaarr))\n",
    "\n",
    "newinit = initsteady\n",
    "for i, delt in enumerate(deltaarr):\n",
    "\n",
    "    ar, ai = a_steady(etasteady, delt, gs, spins, gpar, gperp, kappa, newinit)\n",
    "    newinit = (ar, ai)\n",
    "    losasteady[i] = ai**2+ar**2\n",
    "    losareal[i] = ar\n",
    "    losaimag[i] = ai\n",
    "\n",
    "fig = plt.figure()\n",
    "plt.xlabel('$\\Delta f$ (MHz)')\n",
    "plt.ylabel('|A|² (dB)')\n",
    "plt.plot(deltaarr/2/np.pi, 10*np.log10(losasteady/0.0000000001))\n",
    "plt.show()\n",
    "#deltaarr[find(losasteady == max(losasteady))]/2/pi"
   ]
  },
  {
   "cell_type": "markdown",
   "metadata": {},
   "source": [
    "# Optical Pumping"
   ]
  },
  {
   "cell_type": "code",
   "execution_count": 7,
   "metadata": {},
   "outputs": [
    {
     "name": "stderr",
     "output_type": "stream",
     "text": [
      "/usr/local/lib/python3.10/dist-packages/scipy/optimize/_minpack_py.py:175: RuntimeWarning: The iteration is not making good progress, as measured by the \n",
      "  improvement from the last ten iterations.\n",
      "  warnings.warn(msg, RuntimeWarning)\n"
     ]
    }
   ],
   "source": [
    "pump_initsteady = (0.5, 0.5)\n",
    "\n",
    "pump_ratio = 1\n",
    "\n",
    "pump_len = 10\n",
    "iter_len = 10\n",
    "\n",
    "pump_array = np.linspace(0.005, 1e-6, pump_len)*2*np.pi\n",
    "to_iterate = 'quality'\n",
    "\n",
    "if to_iterate == 'quality':\n",
    "    # *2*np.pi #qaulity factor\n",
    "    iterate_array = np.linspace(200, 2000, iter_len)\n",
    "    iterate_scale_value = 1\n",
    "    iterate_label = 'Quality Factor'\n",
    "    iterate_unit = ''\n",
    "\n",
    "elif to_iterate == 'temperature':\n",
    "    iterate_array = np.linspace(0.01, 10, iter_len)  # temperature\n",
    "    iterate_scale_value = 1\n",
    "    iterate_label = 'Temperature (K)'\n",
    "    iterate_unit = \"K\"\n",
    "\n",
    "elif to_iterate == 'coupling':\n",
    "    iterate_array = np.linspace(0.1, 5, iter_len)*2*np.pi  # coupling\n",
    "    iterate_scale_value = 2*np.pi\n",
    "    iterate_label = 'Coupling (MHz)'\n",
    "    iterate_unit = \"MHz\"\n",
    "\n",
    "elif to_iterate == 'linewidth':\n",
    "    iterate_array = np.linspace(1, 80, iter_len)*2*np.pi  # linewidth\n",
    "    iterate_scale_value = 2*np.pi\n",
    "    iterate_label = 'Linewidth (MHz)'\n",
    "    iterate_unit = \"MHz\"\n",
    "\n",
    "\n",
    "losa2steady_maser = np.zeros((len(iterate_array), len(pump_array)))\n",
    "losszsteady_maser = np.zeros(losa2steady_maser.shape)\n",
    "coop_maser = np.zeros(losa2steady_maser.shape)\n",
    "coop_pump_maser = np.zeros(losa2steady_maser.shape)\n",
    "etasteady = 1e-12\n",
    "\n",
    "nbar = 0\n",
    "kappa_loop = np.pi*fr/quali\n",
    "gcoll_loop = gcoll\n",
    "gammaq_loop = gammaq\n",
    "\n",
    "newinit = pump_initsteady\n",
    "for i, iterval in enumerate(iterate_array):\n",
    "\n",
    "    if to_iterate == 'quality':\n",
    "        kappa_loop = np.pi*fr/iterval\n",
    "    elif to_iterate == 'temperature':\n",
    "        nbar = get_thermal_photons(fr, iterval)\n",
    "    elif to_iterate == 'coupling':\n",
    "        gcoll_loop = iterval\n",
    "    elif to_iterate == 'linewidth':\n",
    "        gammaq_loop = iterval\n",
    "\n",
    "    spins_loop, gs_loop, pdf_loop = create_spins_inhomo_g(\n",
    "        gcoll_loop, g_list, q, delta, gammaq_loop, nbins, holes=False, inhomo=True, hyperfine=True)\n",
    "\n",
    "    for j, pump in enumerate(pump_array):\n",
    "        pump_up = pump_ratio*pump\n",
    "        pump_down = (1-pump_ratio)*pump\n",
    "        ar, ai = a_steady_maser_temp(nbar, pump_up, etasteady, deltac, gs_loop, spins_loop,\n",
    "                                     gpar+pump_down, gperp, kappa_loop, newinit)\n",
    "        newinit = (ar, ai)\n",
    "        coop = np.real(\n",
    "            gcoll_loop**2/kappa_loop*np.sum(pdf_loop/(gperp+1j*2*np.pi*spins_loop)))\n",
    "        coop_maser[i, j] = coop\n",
    "        coop_pump_maser[i, j] = ((2*nbar+coop+1)/(coop-1))*(gpar+pump_down) / \\\n",
    "            pump_up\n",
    "        a2 = ar**2+ai**2\n",
    "        losa2steady_maser[i, j] = a2\n",
    "        losszsteady_maser[i, j] = np.sum(sz_steady_maser_from_a2_temp(a2, nbar, pump_up, etasteady, deltac, gcoll_loop, spins_loop,\n",
    "                                                                      gpar+pump_down, gperp, kappa_loop)*pdf)\n",
    "    newinit = pump_initsteady\n",
    "\n",
    "sumval = np.sum(pdf_loop/(gperp+1j*2*np.pi*spins_loop))\n",
    "if to_iterate == 'quality':\n",
    "    kappa_asymp = gcoll**2*sumval * \\\n",
    "        (1-2*pump_ratio)/(2*nbar*(pump_ratio-1)-1)\n",
    "    asymp = np.pi*fr/kappa_asymp\n",
    "elif to_iterate == 'temperature':\n",
    "    asymp = np.nan\n",
    "elif to_iterate == 'linewidth':\n",
    "    asymp = np.nan\n",
    "elif to_iterate == 'coupling':\n",
    "    asymp = 1/2/np.pi*np.sqrt(kappa+2*kappa*nbar-2*kappa*nbar *\n",
    "                              pump_ratio)/np.sqrt(2*pump_ratio*sumval-sumval)"
   ]
  },
  {
   "cell_type": "code",
   "execution_count": 8,
   "metadata": {},
   "outputs": [
    {
     "name": "stdout",
     "output_type": "stream",
     "text": [
      "minimum value is: 281.104 \n"
     ]
    },
    {
     "name": "stderr",
     "output_type": "stream",
     "text": [
      "/usr/local/lib/python3.10/dist-packages/matplotlib/cbook/__init__.py:1298: ComplexWarning: Casting complex values to real discards the imaginary part\n",
      "  return np.asarray(x, float)\n"
     ]
    },
    {
     "data": {
      "image/png": "[encoded data removed]",
      "text/plain": [
       "<Figure size 432x288 with 2 Axes>"
      ]
     },
     "metadata": {
      "needs_background": "light"
     },
     "output_type": "display_data"
    },
    {
     "data": {
      "image/png": "[encoded data removed]",
      "text/plain": [
       "<Figure size 432x288 with 2 Axes>"
      ]
     },
     "metadata": {
      "needs_background": "light"
     },
     "output_type": "display_data"
    }
   ],
   "source": [
    "plt.close('all')\n",
    "matplotlib.interactive(False)\n",
    "fig = plt.figure()\n",
    "# plt.yscale('log')\n",
    "# plt.xscale('log')\n",
    "plt.xlabel('Pump (MHz)')\n",
    "#plt.ylabel('$\\mathrm{g_{coll}}$ (MHz)')\n",
    "plt.ylabel(iterate_label)\n",
    "\n",
    "\n",
    "c = plt.pcolor(pump_array/2/np.pi, iterate_array/iterate_scale_value,\n",
    "               10*np.log10(losa2steady_maser), cmap='Spectral')\n",
    "\n",
    "# plt.plot([0, pump_array[-1]/2/np.pi],\n",
    "#         [quali, quali], 'k-')\n",
    "cb = fig.colorbar(c)\n",
    "cb.set_label(\"Amplitude (dB)\")\n",
    "\n",
    "idxs = np.where(coop_pump_maser < 0)\n",
    "coop_pump_maser[idxs] = np.inf\n",
    "\n",
    "plt.contour(pump_array/2/np.pi, iterate_array/iterate_scale_value,\n",
    "            coop_pump_maser, levels=(1,), colors='lawngreen', linestyles='--')\n",
    "\n",
    "plt.plot([pump_array[0]/2/np.pi, pump_array[-1]/2/np.pi],\n",
    "         [asymp, asymp], 'k--')\n",
    "\n",
    "# plt.savefig('/home/andreas/pump_vs_quali_amp.png')\n",
    "\n",
    "fig = plt.figure()\n",
    "plt.xlabel('Pump (MHz)')\n",
    "#plt.ylabel('$\\mathrm{g_{coll}}$ (MHz)')\n",
    "plt.ylabel(iterate_label)\n",
    "c = plt.pcolormesh(pump_array/2/np.pi, iterate_array/iterate_scale_value,\n",
    "                   losszsteady_maser, cmap='Spectral', vmin=-1, vmax=1)\n",
    "# plt.yscale('log')\n",
    "# plt.xscale('log')\n",
    "#level = 0.2\n",
    "# cs = plt.contour(pump_array/2/np.pi, quali_array,\n",
    "#                 losszsteady_maser, levels=(-level, level), colors='k', linestyles='-')\n",
    "#labels = plt.clabel(cs, (level, -level), inline=True, fontsize=8)\n",
    "#\n",
    "#[l.set_rotation(0) for l in labels]\n",
    "cb = fig.colorbar(c)\n",
    "cb.set_label(\"Inversion\")\n",
    "plt.contour(pump_array/2/np.pi, iterate_array/iterate_scale_value,\n",
    "            coop_pump_maser, levels=(1,), colors='navy', linestyles='--')\n",
    "\n",
    "plt.plot([pump_array[0]/2/np.pi, pump_array[-1]/2/np.pi],\n",
    "         [asymp, asymp], 'k--')\n",
    "\n",
    "# plt.plot([pump_array[0], pump_array[-1]/2/np.pi],\n",
    "#         [quali, quali], 'k-')\n",
    "# plt.savefig('/home/andreas/pump_vs_quali_inv.png')\n",
    "if not np.isnan(asymp):\n",
    "    print(\"minimum value is: %.3f %s\" % (asymp.real, iterate_unit))\n",
    "plt.show()"
   ]
  },
  {
   "cell_type": "code",
   "execution_count": null,
   "metadata": {},
   "outputs": [
    {
     "name": "stderr",
     "output_type": "stream",
     "text": [
      "/tmp/ipykernel_1416989/3128603902.py:5: ComplexWarning: Casting complex values to real discards the imaginary part\n",
      "  initcum[2:].real = 4*pump_up/gs_loop\n"
     ]
    },
    {
     "name": "stdout",
     "output_type": "stream",
     "text": [
      "Calculating 1 from 100\r"
     ]
    },
    {
     "name": "stderr",
     "output_type": "stream",
     "text": [
      "/tmp/ipykernel_1416989/3128603902.py:47: ComplexWarning: Casting complex values to real discards the imaginary part\n",
      "  losszsteady_maser_cum[i, j] = np.sum(-((gpar+pump_down)-pump_up+4*gs_loop*(ret[2:].real))/(\n"
     ]
    },
    {
     "name": "stdout",
     "output_type": "stream",
     "text": [
      "Calculating 19 from 100\r"
     ]
    }
   ],
   "source": [
    "losa2steady_maser_cum = np.zeros((len(iterate_array), len(pump_array)))\n",
    "losszsteady_maser_cum = np.zeros(losa2steady_maser_cum.shape)\n",
    "\n",
    "initcum = np.ones(nbins+2, dtype=np.complex128)\n",
    "initcum[2:].real = 4*pump_up/gs_loop\n",
    "initcum[2:].imag = 0\n",
    "\n",
    "initcum[0] = 0\n",
    "initcum[1] = 0\n",
    "newinit = initcum\n",
    "\n",
    "newinit = initcum\n",
    "\n",
    "deltaf0 = 0\n",
    "g_f = 0.1\n",
    "kappa_f = 0.1\n",
    "\n",
    "nbar = 0\n",
    "kappa_loop = np.pi*fr/quali\n",
    "gcoll_loop = gcoll\n",
    "gammaq_loop = gammaq\n",
    "\n",
    "ctr = 0\n",
    "for i, iterval in enumerate(iterate_array):\n",
    "\n",
    "    if to_iterate == 'quality':\n",
    "        kappa_loop = np.pi*fr/iterval\n",
    "    elif to_iterate == 'temperature':\n",
    "        nbar = get_thermal_photons(fr, iterval)\n",
    "    elif to_iterate == 'coupling':\n",
    "        gcoll_loop = iterval\n",
    "    elif to_iterate == 'linewidth':\n",
    "        gammaq_loop = iterval\n",
    "\n",
    "    spins_loop, gs_loop, pdf_loop = create_spins_inhomo_g(\n",
    "        gcoll_loop, g_list, q, delta, gammaq_loop, nbins, holes=False, inhomo=True, hyperfine=True)\n",
    "\n",
    "    for j, pump in enumerate(pump_array):\n",
    "        print(\"Calculating %d from %d\" % (ctr+1, pump_len*iter_len), end=\"\\r\")\n",
    "        pump_up = pump_ratio*pump\n",
    "        pump_down = (1-pump_ratio)*pump\n",
    "        ret, infodict, ier, message = ada_steady_maser_cumulant_with_filter_cav(nbar, pump_up, deltac, gs_loop,\n",
    "                                                                                spins_loop, gpar+pump_down, gperp, kappa_loop, kappa_f, g_f, deltaf0, newinit)\n",
    "        newinit = ret\n",
    "\n",
    "        losa2steady_maser_cum[i, j] = ret[0].real\n",
    "        losszsteady_maser_cum[i, j] = np.sum(-((gpar+pump_down)-pump_up+4*gs_loop*(ret[2:].real))/(\n",
    "            (gpar+pump_down)+2*nbar*(gpar+pump_down)+pump_up)*pdf)\n",
    "\n",
    "        ctr += 1"
   ]
  },
  {
   "cell_type": "code",
   "execution_count": 21,
   "metadata": {},
   "outputs": [
    {
     "name": "stdout",
     "output_type": "stream",
     "text": [
      "minimum value is: 283.780 \n"
     ]
    },
    {
     "data": {
      "image/png": "[encoded data removed]",
      "text/plain": [
       "<Figure size 432x288 with 2 Axes>"
      ]
     },
     "metadata": {
      "needs_background": "light"
     },
     "output_type": "display_data"
    },
    {
     "data": {
      "image/png": "[encoded data removed]",
      "text/plain": [
       "<Figure size 432x288 with 2 Axes>"
      ]
     },
     "metadata": {
      "needs_background": "light"
     },
     "output_type": "display_data"
    }
   ],
   "source": [
    "plt.close('all')\n",
    "matplotlib.interactive(False)\n",
    "fig = plt.figure()\n",
    "# plt.yscale('log')\n",
    "# plt.xscale('log')\n",
    "plt.xlabel('Pump (MHz)')\n",
    "#plt.ylabel('$\\mathrm{g_{coll}}$ (MHz)')\n",
    "plt.ylabel(iterate_label)\n",
    "\n",
    "\n",
    "c = plt.pcolor(pump_array/2/np.pi, iterate_array/iterate_scale_value,\n",
    "               10*np.log10((abs(losa2steady_maser_cum))), cmap='Spectral')\n",
    "\n",
    "# plt.plot([0, pump_array[-1]/2/np.pi],\n",
    "#         [quali, quali], 'k-')\n",
    "cb = fig.colorbar(c)\n",
    "cb.set_label(\"Amplitude (dB)\")\n",
    "\n",
    "idxs = np.where(coop_pump_maser < 0)\n",
    "coop_pump_maser[idxs] = np.inf\n",
    "\n",
    "plt.contour(pump_array/2/np.pi, iterate_array/iterate_scale_value,\n",
    "            coop_pump_maser, levels=(1,), colors='lawngreen', linestyles='--')\n",
    "\n",
    "plt.plot([pump_array[0]/2/np.pi, pump_array[-1]/2/np.pi],\n",
    "         [asymp, asymp], 'k--')\n",
    "\n",
    "# plt.savefig('/home/andreas/pump_vs_quali_amp.png')\n",
    "\n",
    "fig = plt.figure()\n",
    "plt.xlabel('Pump (MHz)')\n",
    "#plt.ylabel('$\\mathrm{g_{coll}}$ (MHz)')\n",
    "plt.ylabel(iterate_label)\n",
    "c = plt.pcolormesh(pump_array/2/np.pi, iterate_array/iterate_scale_value,\n",
    "                   losszsteady_maser_cum-1, cmap='Spectral')\n",
    "# plt.yscale('log')\n",
    "# plt.xscale('log')\n",
    "#level = 0.2\n",
    "# cs = plt.contour(pump_array/2/np.pi, quali_array,\n",
    "#                 losszsteady_maser, levels=(-level, level), colors='k', linestyles='-')\n",
    "#labels = plt.clabel(cs, (level, -level), inline=True, fontsize=8)\n",
    "#\n",
    "#[l.set_rotation(0) for l in labels]\n",
    "cb = fig.colorbar(c)\n",
    "cb.set_label(\"Inversion\")\n",
    "plt.contour(pump_array/2/np.pi, iterate_array/iterate_scale_value,\n",
    "            coop_pump_maser, levels=(1,), colors='navy', linestyles='--')\n",
    "\n",
    "plt.plot([pump_array[0]/2/np.pi, pump_array[-1]/2/np.pi],\n",
    "         [asymp, asymp], 'k--')\n",
    "\n",
    "# plt.plot([pump_array[0], pump_array[-1]/2/np.pi],\n",
    "#         [quali, quali], 'k-')\n",
    "# plt.savefig('/home/andreas/pump_vs_quali_inv.png')\n",
    "if not np.isnan(asymp):\n",
    "    print(\"minimum value is: %.3f %s\" % (asymp.real, iterate_unit))\n",
    "plt.show()\n",
    "# %qtconsole"
   ]
  },
  {
   "cell_type": "code",
   "execution_count": 22,
   "metadata": {},
   "outputs": [
    {
     "name": "stdout",
     "output_type": "stream",
     "text": [
      "Calculating 100 from 100\r"
     ]
    }
   ],
   "source": [
    "deltaarr_cum = np.linspace(0, 1000e-6, 100)*2*np.pi\n",
    "a2_spec = np.zeros(len(deltaarr_cum))\n",
    "\n",
    "pump0 = pump_array[0]\n",
    "iterate0 = iterate_array[-1]\n",
    "\n",
    "\n",
    "nbar = 0\n",
    "kappa_loop = np.pi*fr/quali\n",
    "gcoll_loop = gcoll\n",
    "gammaq_loop = gammaq\n",
    "\n",
    "ctr = 0\n",
    "for i, det in enumerate(deltaarr_cum):\n",
    "\n",
    "    if to_iterate == 'quality':\n",
    "        kappa_loop = np.pi*fr/iterate0\n",
    "    elif to_iterate == 'temperature':\n",
    "        nbar = get_thermal_photons(fr, iterate0)\n",
    "    elif to_iterate == 'coupling':\n",
    "        gcoll_loop = iterate0\n",
    "    elif to_iterate == 'linewidth':\n",
    "        gammaq_loop = iterate0\n",
    "\n",
    "    print(\"Calculating %d from %d\" % (ctr+1, len(deltaarr_cum)), end=\"\\r\")\n",
    "    ret, infodict, ier, message = ada_steady_maser_cumulant_with_filter_cav(nbar, pump_up, deltac, gs_loop,\n",
    "                                                                            spins_loop, gpar+pump_down, gperp, kappa_loop, kappa_f, g_f, det, newinit)\n",
    "    a2_spec[i] = ret[0].real\n",
    "    newinit = ret\n",
    "    ctr += 1"
   ]
  },
  {
   "cell_type": "code",
   "execution_count": 34,
   "metadata": {},
   "outputs": [
    {
     "data": {
      "image/png": "[encoded data removed]",
      "text/plain": [
       "<Figure size 432x288 with 1 Axes>"
      ]
     },
     "metadata": {
      "needs_background": "light"
     },
     "output_type": "display_data"
    }
   ],
   "source": [
    "plt.close('all')\n",
    "matplotlib.interactive(False)\n",
    "fig = plt.figure()\n",
    "\n",
    "plt.plot(deltaarr_cum/2/np.pi, a2_spec)\n",
    "plt.xlabel(\"Detuning (Hz)\")\n",
    "plt.ylabel(\"Number photons\")\n",
    "plt.show()"
   ]
  },
  {
   "cell_type": "code",
   "execution_count": null,
   "metadata": {},
   "outputs": [],
   "source": []
  }
 ],
 "metadata": {
  "kernelspec": {
   "display_name": "Python 3 (ipykernel)",
   "language": "python",
   "name": "python3"
  },
  "language_info": {
   "codemirror_mode": {
    "name": "ipython",
    "version": 3
   },
   "file_extension": ".py",
   "mimetype": "text/x-python",
   "name": "python",
   "nbconvert_exporter": "python",
   "pygments_lexer": "ipython3",
   "version": "3.10.4"
  },
  "toc-autonumbering": false,
  "toc-showcode": true,
  "toc-showmarkdowntxt": true
 },
 "nbformat": 4,
 "nbformat_minor": 4
}
