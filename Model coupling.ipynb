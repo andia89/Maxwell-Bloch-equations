{
 "cells": [
  {
   "cell_type": "code",
   "execution_count": 1,
   "metadata": {},
   "outputs": [
    {
     "name": "stdout",
     "output_type": "stream",
     "text": [
      "Importing Jupyter notebook from _create_pdf.ipynb\n",
      "Importing Jupyter notebook from _helper_functions.ipynb\n",
      "Importing Jupyter notebook from _steady_state.ipynb\n"
     ]
    }
   ],
   "source": [
    "%matplotlib inline\n",
    "import numpy as np\n",
    "import matplotlib.pyplot as plt\n",
    "import scipy.io\n",
    "import matplotlib.colors as colors\n",
    "import h5py\n",
    "import nbimporter\n",
    "from _create_pdf import create_spins;\n",
    "from _helper_functions import tsallis, cauchy, find_nearest_index;\n",
    "from _steady_state import a_steady;\n",
    "#%qtconsole"
   ]
  },
  {
   "cell_type": "code",
   "execution_count": 2,
   "metadata": {},
   "outputs": [
    {
     "name": "stdout",
     "output_type": "stream",
     "text": [
      "11.33619992429376\n"
     ]
    }
   ],
   "source": [
    "gcoll = 2*np.pi #HWHM\n",
    "q = 1.39\n",
    "quali = 914\n",
    "fr = 3.2981e3;\n",
    "kappa = np.pi*fr/quali #HWHM\n",
    "delta = 0*2*np.pi #detuning cavity to spin central frequency ws-wc\n",
    "deltac = 0*2*np.pi #detuning drive to cavity wc-wp\n",
    "gperp = 2*np.pi*0.09 #HWHM\n",
    "gpar = 2*np.pi*.001#0.001 #HWHM\n",
    "gammaq = 2*np.pi*2 #FWHM\n",
    "nbins = 701#701#5000#20\n",
    "#g0 = gcoll/sqrt(nspins)\n",
    "print(kappa)"
   ]
  },
  {
   "cell_type": "code",
   "execution_count": 11,
   "metadata": {},
   "outputs": [],
   "source": [
    "spins, gs, pdf = create_spins(gcoll, q, delta, gammaq, nbins, holes=False, inhomo=True, hyperfine=True)\n",
    "\n",
    "plt.figure()\n",
    "plt.plot(spins, pdf/max(pdf))\n",
    "plt.xlabel('$\\Delta f$ (MHz)')\n",
    "plt.ylabel('$\\\\rho(\\omega_s)$');\n",
    "%qtconsole"
   ]
  },
  {
   "cell_type": "code",
   "execution_count": 4,
   "metadata": {},
   "outputs": [],
   "source": [
    "initsteady = (0.1,0.1)\n",
    "fstart = 25\n",
    "deltaarr = np.linspace(-fstart*2*np.pi,fstart*2*np.pi, 2000)\n",
    "etasteady = 0.00000001\n",
    "\n",
    "losasteady = np.zeros(np.shape(deltaarr))\n",
    "\n",
    "\n",
    "newinit = initsteady\n",
    "for i, delt in enumerate(deltaarr):\n",
    "    ar, ai = a_steady(etasteady, delt, gs, spins, gpar, gperp, kappa, newinit)\n",
    "    newinit = (ar, ai)\n",
    "    losasteady[i] = ai**2+ar**2\n",
    "\n",
    "\n",
    "fig = plt.figure()\n",
    "plt.plot(deltaarr/2/np.pi, losasteady)\n",
    "plt.grid(True)\n",
    "#deltaarr[find(losasteady == max(losasteady))]/2/pi"
   ]
  },
  {
   "cell_type": "code",
   "execution_count": 5,
   "metadata": {},
   "outputs": [],
   "source": [
    "filepath = '/mnt/measure/2016/20181214_MeasurementRun111/referenceVnaTrace.mat'\n",
    "exp = {}\n",
    "data = scipy.io.loadmat(filepath)['referenceVnaTrace']\n",
    "#exp = dict(f['/data/referenceTrace'])\n",
    "imagpart = data[0][0][10]\n",
    "realpart = data[0][0][9]\n",
    "freqstart = float(data[0][0][0])\n",
    "freqstop = float(data[0][0][1])\n",
    "numpoints = int(data[0][0][2])\n",
    "\n",
    "freqs = (np.linspace(freqstart, freqstop, numpoints)-(freqstart+freqstop)/2)*1e-6\n",
    "\n",
    "power = np.squeeze(imagpart**2+realpart**2)"
   ]
  },
  {
   "cell_type": "markdown",
   "metadata": {},
   "source": [
    "### Fit Coupling"
   ]
  },
  {
   "cell_type": "code",
   "execution_count": 6,
   "metadata": {},
   "outputs": [
    {
     "name": "stdout",
     "output_type": "stream",
     "text": [
      "Finished first iteration\n",
      "Finished second interation\n"
     ]
    }
   ],
   "source": [
    "def fitfunc(freqs, g, ampl, offset, freqoff):\n",
    "    newinit = (0.01,0.01)\n",
    "    losasteady = np.zeros(np.shape(freqs))\n",
    "    gs = np.sqrt(pdf)*g\n",
    "    for i, delt in enumerate(freqs):\n",
    "        ar, ai = a_steady(etasteady, delt*2*np.pi, gs, spins + freqoff, gpar, gperp, kappa, newinit)\n",
    "        newinit = (ar, ai)\n",
    "        losasteady[i] = ai**2+ar**2\n",
    "    losasteady *= ampl/max(abs(losasteady))\n",
    "    losasteady += offset\n",
    "    return losasteady\n",
    "\n",
    "def fitfunc2(freqs, g, ampl, offset, freqoff, gammaq, q):\n",
    "    newinit = (0.01, 0.01)\n",
    "    losasteady = np.zeros(np.shape(freqs))\n",
    "    spins, gs, pdf = create_spins(g, q, freqoff*2*pi, gammaq, nbins, holes=False, inhomo=True, hyperfine=True)\n",
    "    \n",
    "    for i, delt in enumerate(freqs):\n",
    "        ar, ai = a_steady(etasteady, delt*2*np.pi, gs, spins, gpar, gperp, kappa, newinit)\n",
    "        newinit = (ar, ai)\n",
    "        losasteady[i] = ai**2+ar**2\n",
    "    losasteady *= ampl/max(abs(losasteady))\n",
    "    losasteady += offset\n",
    "    return losasteady\n",
    "\n",
    "p0 = [1.90476693e+01, 9.88492617e-03, 1.90652967e-05, 2.08134119e-01]\n",
    "popt, pcov = scipy.optimize.curve_fit(fitfunc, freqs, power.ravel(), p0=p0)\n",
    "pn = array([ popt[0], popt[1], popt[2],  popt[3],\n",
    "        1.43769887e+01,  2.1])\n",
    "print(\"Finished first iteration\")\n",
    "popt2, pcov2 = scipy.optimize.curve_fit(fitfunc2, freqs, power.ravel(), p0=pn)\n",
    "print(\"Finished second interation\")"
   ]
  },
  {
   "cell_type": "code",
   "execution_count": 7,
   "metadata": {},
   "outputs": [
    {
     "name": "stdout",
     "output_type": "stream",
     "text": [
      "Coupling: 2.98 MHz\n",
      "Linewidth: 2.06 MHz\n",
      "q-value: 2.140330\n",
      "Frequency offset: -0.06 MHz\n"
     ]
    }
   ],
   "source": [
    "plt.figure(figsize=(12, 8))\n",
    "plt.plot(freqs, power)\n",
    "plt.plot(freqs, fitfunc2(freqs, *popt2))\n",
    "plt.grid(True)\n",
    "plt.xlabel('\\$\\Delta f\\$ (MHz)')\n",
    "plt.ylabel('\\$|T|^2\\$ (a.u.)')\n",
    "print('Coupling: %.2f MHz'%(popt2[0]/2/np.pi))\n",
    "print('Linewidth: %.2f MHz'%(popt2[-2]/2/np.pi))\n",
    "print('q-value: %f'%popt2[-1])\n",
    "print('Frequency offset: %.2f MHz'%popt2[-3])"
   ]
  },
  {
   "cell_type": "code",
   "execution_count": 8,
   "metadata": {},
   "outputs": [
    {
     "name": "stdout",
     "output_type": "stream",
     "text": [
      "Coupling, q-value, linewidth\n",
      "18.743690874148896 2.140330342194155 12.926998569271158\n"
     ]
    }
   ],
   "source": [
    "print('Coupling, q-value, linewidth')\n",
    "print(popt2[0], popt2[-1], popt2[-2])"
   ]
  },
  {
   "cell_type": "code",
   "execution_count": null,
   "metadata": {},
   "outputs": [],
   "source": []
  }
 ],
 "metadata": {
  "kernelspec": {
   "display_name": "Python 3",
   "language": "python",
   "name": "python3"
  },
  "language_info": {
   "codemirror_mode": {
    "name": "ipython",
    "version": 3
   },
   "file_extension": ".py",
   "mimetype": "text/x-python",
   "name": "python",
   "nbconvert_exporter": "python",
   "pygments_lexer": "ipython3",
   "version": "3.5.2"
  }
 },
 "nbformat": 4,
 "nbformat_minor": 1
}
