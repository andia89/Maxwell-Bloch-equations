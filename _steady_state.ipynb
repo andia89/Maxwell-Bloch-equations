{
 "cells": [
  {
   "cell_type": "code",
   "execution_count": 1,
   "metadata": {},
   "outputs": [],
   "source": [
    "%matplotlib inline\n",
    "import numpy as np\n",
    "from scipy.optimize import fsolve"
   ]
  },
  {
   "cell_type": "code",
   "execution_count": 52,
   "metadata": {},
   "outputs": [],
   "source": [
    "def funca(a, eta, deltac, g, spins, gpar, gperp, kappa):\n",
    "\n",
    "    spins2 = 2*np.pi*(spins)\n",
    "\n",
    "    s1 = 2*a*g**2*gpar\n",
    "    s2 = gpar+2*gperp+2*1j*(deltac+spins2)\n",
    "    s3 = 8*(gpar+2*gperp)*np.abs(a)**2*g**2\n",
    "    s4 = ((gpar+2*gperp)**2+4*spins2*(2*deltac+spins2))\n",
    "    \n",
    "    s = -s1/(s2*(gpar+s3/s4))\n",
    "    \n",
    "    ret = -1j*a*deltac + eta - a*kappa + np.sum(s)\n",
    "    return ret.real, ret.imag\n",
    "\n",
    "\n",
    "def funcsz(sz, eta, deltac, g, spins, gpar, gperp, kappa):\n",
    "    ret = np.empty(len(spins))\n",
    "    \n",
    "    s1 = 8*(gpar+2*gperp)*eta**2*g**2\n",
    "    s2 = deltac-1j*kappa+1j*np.sum((2*g**2*sz)/(gpar+2*gperp+2*1j*spins))\n",
    "    s3 = (gpar+2*gperp)**2+4*deltac**2+4*spins*(2*deltac+spins)\n",
    "    \n",
    "    ret = gpar+ (gpar - s1/(s2**2+s3))*sz\n",
    "    return ret.real\n"
   ]
  },
  {
   "cell_type": "code",
   "execution_count": 53,
   "metadata": {},
   "outputs": [],
   "source": [
    "def a_steady(eta, deltac, g, spins, gpar, gperp, kappa, init):\n",
    "    # make sure that spins are already detuned correctly from cavity\n",
    "    #deltac: wc-wp\n",
    "    def equations(x):\n",
    "        ar, ai = x\n",
    "        return funca(ar+1j*ai, eta, deltac, g, spins, gpar, gperp, kappa)\n",
    "    ar, ai = fsolve(equations, init)\n",
    "\n",
    "    return ar, ai\n",
    "\n",
    "def sz_steady(eta, deltac, g, spins, gpar, gperp, kappa, init, pdf):\n",
    "    # make sure that spins are already detuned correctly from cavity\n",
    "    #deltac: wc-wp\n",
    "    def equations(x):\n",
    "        sz = x\n",
    "        return funcsz(sz, eta, deltac, g, spins, gpar, gperp, kappa)\n",
    "    sz = fsolve(equations, init)\n",
    "\n",
    "    return sz*pdf"
   ]
  },
  {
   "cell_type": "code",
   "execution_count": null,
   "metadata": {},
   "outputs": [],
   "source": []
  }
 ],
 "metadata": {
  "kernelspec": {
   "display_name": "Python 3",
   "language": "python",
   "name": "python3"
  },
  "language_info": {
   "codemirror_mode": {
    "name": "ipython",
    "version": 3
   },
   "file_extension": ".py",
   "mimetype": "text/x-python",
   "name": "python",
   "nbconvert_exporter": "python",
   "pygments_lexer": "ipython3",
   "version": "3.5.2"
  }
 },
 "nbformat": 4,
 "nbformat_minor": 1
}
