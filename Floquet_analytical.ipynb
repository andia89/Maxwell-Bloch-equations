{
 "cells": [
  {
   "cell_type": "code",
   "execution_count": 1,
   "id": "97d57f13-c2d8-4412-8919-687bcf326c6c",
   "metadata": {},
   "outputs": [],
   "source": [
    "import numpy as np\n",
    "from scipy.linalg import expm\n",
    "import matplotlib.pyplot as plt"
   ]
  },
  {
   "cell_type": "code",
   "execution_count": 81,
   "id": "1b786119-2bd1-4e50-9498-70672e6456df",
   "metadata": {},
   "outputs": [],
   "source": [
    "number_spins = 20\n",
    "gcoll = 2*np.pi*5\n",
    "deltspins = 2*np.pi * \\\n",
    "    np.array([1, -2, 3.2, 0.2, -0.23, 1, 1, 1,\n",
    "             1, 1, 1, 1, 1, 1, 1, 1, 1, 1, 1, 1])\n",
    "deltac = 0*2*np.pi\n",
    "dt = 0.0001\n",
    "tend = 0.250\n",
    "wgrund = 2*np.pi/tend\n",
    "tlist = np.arange(0, tend+dt, dt)\n",
    "deltapuls = np.sin(tlist*wgrund)-0.2*np.sin(2*tlist *\n",
    "                                            wgrund)+2*np.sin(3*tlist*wgrund)"
   ]
  },
  {
   "cell_type": "code",
   "execution_count": 83,
   "id": "f93ac4d6-0aa7-4b86-8d11-f87e111b80d1",
   "metadata": {},
   "outputs": [],
   "source": [
    "ham = np.zeros((number_spins+1, number_spins+1))\n",
    "ham[0, 1::] = gcoll/np.sqrt(number_spins)\n",
    "ham[1::, 0] = gcoll/np.sqrt(number_spins)\n",
    "ham[0, 0] = deltac\n",
    "hamtarget = ham.copy()\n",
    "for i in range(number_spins):\n",
    "    ham[i+1, i+1] = deltspins[i]"
   ]
  },
  {
   "cell_type": "code",
   "execution_count": 97,
   "id": "0c8307a2-7887-4fc0-bc1a-63d179c488eb",
   "metadata": {},
   "outputs": [
    {
     "name": "stderr",
     "output_type": "stream",
     "text": [
      "/tmp/xpython_13807/3269617369.py:5: RuntimeWarning: overflow encountered in matmul\n",
      "  utarget_num = np.matmul(utarget_num, 1+1j*dt*hamtarget)\n",
      "/tmp/xpython_13807/3269617369.py:5: RuntimeWarning: invalid value encountered in matmul\n",
      "  utarget_num = np.matmul(utarget_num, 1+1j*dt*hamtarget)\n"
     ]
    }
   ],
   "source": [
    "utarget_exact = expm(-1j*hamtarget*tend)\n",
    "utarget_num = np.identity(number_spins+1)\n",
    "ureal_num = np.identity(number_spins+1)\n",
    "for i, t in enumerate(deltapuls):\n",
    "    utarget_num = np.matmul(utarget_num, 1+1j*dt*hamtarget)"
   ]
  }
 ],
 "metadata": {
  "kernelspec": {
   "display_name": "Python 3.9 (XPython)",
   "language": "python",
   "name": "xpython"
  },
  "language_info": {
   "file_extension": ".py",
   "mimetype": "text/x-python",
   "name": "python",
   "version": "3.9.4"
  }
 },
 "nbformat": 4,
 "nbformat_minor": 5
}
