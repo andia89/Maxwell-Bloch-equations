{
 "cells": [
  {
   "cell_type": "code",
   "execution_count": 1,
   "metadata": {},
   "outputs": [
    {
     "name": "stdout",
     "output_type": "stream",
     "text": [
      "Importing Jupyter notebook from _helper_functions.ipynb\n"
     ]
    }
   ],
   "source": [
    "%matplotlib inline\n",
    "import numpy as np\n",
    "import nbimporter\n",
    "from _helper_functions import find_nearest_sorted, find_nearest_sorted"
   ]
  },
  {
   "cell_type": "code",
   "execution_count": 2,
   "metadata": {},
   "outputs": [],
   "source": [
    "#this is as optimized as possible using numpy slicing so calling this function SHOULD be very fast\n",
    "\n",
    "#@jit\n",
    "def mbes(Y, t, eta, kappa, deltac, gs, gperp, spins, gpar):\n",
    "    ret = np.empty(len(Y), dtype=complex)\n",
    "    ret[0] = -kappa*Y[0]-1j*deltac*Y[0]+np.sum(gs*Y[1::2])+eta\n",
    "    ret[1::2] = -(gperp+gpar/2 + 1j*(spins*2*np.pi+deltac))*Y[1::2]+gs*Y[2::2]*Y[0]\n",
    "    ret[2::2] = -gpar*(1+Y[2::2])-2*gs*(Y[1::2]*np.conj(Y[0])+np.conj(Y[1::2])*Y[0])\n",
    "    return ret\n",
    "\n",
    "#%%timeit gives\n",
    "#10000 loops, best of 3: 45 µs per loop\n",
    "#for 800 spins it becomes ~70µs. This is probably not the bottleneck\n",
    "\n",
    "\n",
    "#this function is a lot slower, so be careful when using it\n",
    "#@jit\n",
    "def mbes_soc(Y, t, ilist, qlist, tlist, kappa, deltac, gs, gperp, spins, gpar):\n",
    "    ret = np.empty(len(Y), dtype=complex)\n",
    "    idx = find_nearest_sorted(tlist, t)\n",
    "    ret[0] = -kappa*Y[0]-1j*deltac*Y[0]+np.sum(gs*Y[1::2])+ilist[idx]-1j*qlist[idx]\n",
    "    ret[1::2] = -(gperp+gpar/2 +1j*(spins*2*np.pi+deltac))*Y[1::2]+gs*Y[2::2]*Y[0]\n",
    "    ret[2::2] = -gpar*(1+Y[2::2])-2*gs*(Y[1::2]*np.conj(Y[0])+np.conj(Y[1::2])*Y[0])\n",
    "    return ret\n",
    "\n",
    "def mbes_soc_func(Y, t, func, func_args, kappa, deltac, gs, gperp, spins, gpar):\n",
    "    pi, pq = func(t, *func_args)\n",
    "    ret = np.empty(len(Y), dtype=complex)\n",
    "    ret[0] = -kappa*Y[0]-1j*deltac*Y[0]+np.sum(gs*Y[1::2])+pi-1j*pq\n",
    "    ret[1::2] = -(gperp+gpar/2 +1j*(spins*2*np.pi+deltac))*Y[1::2]+gs*Y[2::2]*Y[0]\n",
    "    ret[2::2] = -gpar*(1+Y[2::2])-2*gs*(Y[1::2]*np.conj(Y[0])+np.conj(Y[1::2])*Y[0])\n",
    "    return ret\n",
    "\n",
    "def mbes_simulate_losses(Y, t, eta, kappain, kappa, deltac, gs, gperp, spins, gpar):\n",
    "    ret = np.empty(len(Y), dtype=complex)\n",
    "    ret[0] = -kappa*Y[0]-1j*deltac*Y[0]+np.sum(gs*Y[1::2])+np.sqrt(2*kappain)*eta\n",
    "    ret[1::2] = -(gperp+gpar/2 + 1j*(spins*2*np.pi+deltac))*Y[1::2]+gs*Y[2::2]*Y[0]\n",
    "    ret[2::2] = -gpar*(1+Y[2::2])-2*gs*(Y[1::2]*np.conj(Y[0])+np.conj(Y[1::2])*Y[0])\n",
    "    return ret\n"
   ]
  },
  {
   "cell_type": "code",
   "execution_count": null,
   "metadata": {},
   "outputs": [],
   "source": []
  }
 ],
 "metadata": {
  "kernelspec": {
   "display_name": "Python 3",
   "language": "python",
   "name": "python3"
  },
  "language_info": {
   "codemirror_mode": {
    "name": "ipython",
    "version": 3
   },
   "file_extension": ".py",
   "mimetype": "text/x-python",
   "name": "python",
   "nbconvert_exporter": "python",
   "pygments_lexer": "ipython3",
   "version": "3.5.2"
  }
 },
 "nbformat": 4,
 "nbformat_minor": 1
}
