{
 "cells": [
  {
   "cell_type": "code",
   "execution_count": 1,
   "metadata": {},
   "outputs": [
    {
     "name": "stdout",
     "output_type": "stream",
     "text": [
      "Importing Jupyter notebook from _helper_functions.ipynb\n"
     ]
    }
   ],
   "source": [
    "%matplotlib inline\n",
    "import numpy as np\n",
    "from scipy.special import gamma\n",
    "import nbimporter\n",
    "from _helper_functions import cauchy, tsallis, find_nearest"
   ]
  },
  {
   "cell_type": "code",
   "execution_count": 2,
   "metadata": {},
   "outputs": [],
   "source": [
    "def create_spins(gcoll, q, delta, gammaq, nbins, holes=False, inhomo=True, hyperfine=True):\n",
    "    \n",
    "    #delta: ws- wc \n",
    "    \n",
    "    hfcoupl = 2.3\n",
    "\n",
    "    f = np.linspace(-gammaq/2, gammaq/2, nbins )\n",
    "    if hyperfine:\n",
    "        pdf = tsallis(f, q, gammaq/2/np.pi) + tsallis(f-hfcoupl, q, gammaq/2/np.pi)+tsallis(f+hfcoupl, q, gammaq/2/np.pi)\n",
    "    else:\n",
    "        pdf = tsallis(f, q, gammaq/2/np.pi)\n",
    "\n",
    "    if holes:\n",
    "        frequency_exclude = gcoll/2/np.pi\n",
    "        exclude_width = 0.2 #FWHM\n",
    "\n",
    "        indf = find_nearest(f, frequency_exclude)\n",
    "        scale = pdf[indf]\n",
    "\n",
    "        toex = cauchy(f, frequency_exclude, exclude_width, -scale)+cauchy(f, -frequency_exclude, exclude_width, -scale)\n",
    "        #toex2 = cauchy(f, 0, exclude_width, -pdf[int(len(f)/2)])\n",
    "        pdf = pdf+toex\n",
    "\n",
    "    pdf = np.clip(pdf, 0, max(pdf) )   \n",
    "\n",
    "    spdf = sum(pdf)\n",
    "    pdf = pdf/spdf    \n",
    "    \n",
    "    f += delta/2/np.pi\n",
    "    \n",
    "    if not inhomo:\n",
    "        pdf = np.zeros(np.shape(pdf))\n",
    "        pdf[int(nbins/2)] = 1\n",
    "\n",
    "    spins = f #draw samples according to distribution\n",
    "    gs = np.sqrt(pdf)*gcoll\n",
    "    \n",
    "    return spins, gs, pdf"
   ]
  },
  {
   "cell_type": "code",
   "execution_count": null,
   "metadata": {},
   "outputs": [],
   "source": []
  }
 ],
 "metadata": {
  "kernelspec": {
   "display_name": "Python 3",
   "language": "python",
   "name": "python3"
  },
  "language_info": {
   "codemirror_mode": {
    "name": "ipython",
    "version": 3
   },
   "file_extension": ".py",
   "mimetype": "text/x-python",
   "name": "python",
   "nbconvert_exporter": "python",
   "pygments_lexer": "ipython3",
   "version": "3.5.2"
  }
 },
 "nbformat": 4,
 "nbformat_minor": 1
}
