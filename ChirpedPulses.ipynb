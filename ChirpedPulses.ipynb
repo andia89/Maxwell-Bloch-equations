{
 "cells": [
  {
   "cell_type": "code",
   "execution_count": 4,
   "metadata": {},
   "outputs": [],
   "source": [
    "%matplotlib inline\n",
    "import matplotlib\n",
    "# matplotlib.use('NbAgg')\n",
    "import numpy as np\n",
    "from scipy.stats import logistic\n",
    "from scipy.optimize import basinhopping\n",
    "from scipy.special import erf\n",
    "from scipy import interpolate\n",
    "from IPython.display import clear_output, Javascript, Markdown\n",
    "import matplotlib.colors as colors\n",
    "import matplotlib.pyplot as plt\n",
    "import scipy.io\n",
    "import gc\n",
    "import datetime\n",
    "import time\n",
    "import random\n",
    "import matplotlib\n",
    "from _create_pdf import create_spins, create_spins_inhomo_g\n",
    "from _helper_functions import tsallis, cauchy, find_nearest, odeintz, find_nearest_sorted_left\n",
    "from _steady_state import a_steady\n",
    "import _spin_params as spin_pars\n",
    "from _mbes import mbes, mbes_soc, mbes_soc_no_cavity, mbes_soc_det, obes_soc\n",
    "from _do_calculation import solve_mbes_general, solve_mbes, solve_mbes_without_cavity, get_pulses_from_cavity_field, solve_mbes_wait, solve_mbes_only_decay, solve_obes\n",
    "# matplotlib.pyplot.switch_backend('nbagg')\n",
    "# %qtconsole"
   ]
  },
  {
   "cell_type": "code",
   "execution_count": 5,
   "metadata": {},
   "outputs": [],
   "source": [
    "q = spin_pars.q\n",
    "delta = spin_pars.delta  # detuning cavity to spin central frequency ws-wc\n",
    "gperp = spin_pars.gperp  # HWHM\n",
    "gpar = spin_pars.gpar  # 0.001 #HWHM\n",
    "gammaq = spin_pars.gammaq\n",
    "nbins = spin_pars.nbins  # 701#5000#20\n",
    "g_number = spin_pars.g_number  # how many bins for inhomogeneous coupling\n",
    "#g0 = gcoll/sqrt(nspins)"
   ]
  },
  {
   "cell_type": "code",
   "execution_count": 144,
   "metadata": {},
   "outputs": [],
   "source": [
    "def pulse_chirped(t, args, ichannel=True):\n",
    "    tau = args[0]\n",
    "    tend = args[1]\n",
    "    t0 = tend/2\n",
    "    alpha = args[2]\n",
    "    if ichannel:\n",
    "        return np.cos(np.abs(t-t0)**2*alpha)*np.exp(-(t-t0)**2/(2*tau**2))\n",
    "    else:\n",
    "        return np.sin(np.abs(t-t0)**2*alpha)*np.exp(-(t-t0)**2/(2*tau**2))"
   ]
  },
  {
   "cell_type": "code",
   "execution_count": 7,
   "metadata": {},
   "outputs": [],
   "source": [
    "def g_inhomo_function(x, sigma):\n",
    "    return np.exp(-x**2/sigma**2)\n",
    "\n",
    "\n",
    "x_start = 5\n",
    "x_stop = 20  # µm\n",
    "x = np.linspace(x_start, x_stop, g_number)\n",
    "sigma = 5\n",
    "g_temp = g_inhomo_function(x, sigma)\n",
    "g_list = g_temp/np.sum(g_temp)"
   ]
  },
  {
   "cell_type": "code",
   "execution_count": 167,
   "metadata": {},
   "outputs": [
    {
     "data": {
      "text/plain": [
       "Text(0, 0.5, 'weight')"
      ]
     },
     "execution_count": 167,
     "metadata": {},
     "output_type": "execute_result"
    },
    {
     "data": {
      "image/png": "[encoded data removed]",
      "text/plain": [
       "<Figure size 432x288 with 1 Axes>"
      ]
     },
     "metadata": {
      "needs_background": "light"
     },
     "output_type": "display_data"
    }
   ],
   "source": [
    "spins, pdf = create_spins_nocav(\n",
    "    q, delta, gammaq, nbins, holes=False, inhomo=True, hyperfine=True)\n",
    "plt.figure()\n",
    "plt.plot(spins[:len(pdf)], pdf*nbins)\n",
    "plt.xlabel('$\\Delta f$ (MHz)')\n",
    "plt.ylabel('weight')\n",
    "# %qtconsole"
   ]
  },
  {
   "cell_type": "markdown",
   "metadata": {},
   "source": [
    "# SOC pulses"
   ]
  },
  {
   "cell_type": "code",
   "execution_count": 168,
   "metadata": {},
   "outputs": [],
   "source": [
    "pumptime = 600e-3  # 5*np.pi/gcoll\n",
    "decaytime = 2000e-3\n",
    "dt = 0.004\n",
    "numsteps = int(pumptime/dt)\n",
    "tlist = np.arange(0, pumptime+dt, dt)\n",
    "tlistdecay = np.arange(0, decaytime+dt, dt)\n",
    "\n",
    "\n",
    "# test time it takes to calculate\n",
    "\n",
    "\n",
    "init = np.zeros(len(spins)*2)\n",
    "init[1::2] = -1"
   ]
  },
  {
   "cell_type": "markdown",
   "metadata": {},
   "source": [
    "### Calibrate power"
   ]
  },
  {
   "cell_type": "code",
   "execution_count": 177,
   "metadata": {},
   "outputs": [],
   "source": [
    "# pin = np.arange(-30, 0, 1)\n",
    "aref = 20\n",
    "\n",
    "szlos = np.zeros((len(pin), len(tlist)+len(tlistdecay)))\n",
    "szall = np.zeros((len(pin), len(tlist)+len(tlistdecay), nbins))\n",
    "small = np.zeros(np.shape(szall))\n",
    "smlos = np.zeros(np.shape(szlos))\n",
    "for ctr, p in enumerate(pin):\n",
    "    dr = aref*10**(p/20.)\n",
    "    solpump, soldecay, infodict = solve_obes(\n",
    "        obes, init, pdf, tlist, tlistdecay, dr, 1, gperp, spins, gpar)\n",
    "    szlos[ctr, :] = np.hstack((np.real(np.sum(solpump[:, 1::2], axis=1)), np.real(\n",
    "        np.sum(soldecay[:, 1::2], axis=1))))\n",
    "    szall[ctr, :, :] = np.vstack(\n",
    "        (np.real(solpump[:, 1::2]), np.real(soldecay[:, 1::2])))\n",
    "    small[ctr, :, :] = np.vstack(\n",
    "        (np.real(solpump[:, ::2]), np.real(soldecay[:, ::2])))\n",
    "    smlos[ctr, :] = np.hstack((np.real(np.sum(solpump[:, ::2], axis=1)), np.real(\n",
    "        np.sum(soldecay[:, ::2], axis=1))))"
   ]
  },
  {
   "cell_type": "code",
   "execution_count": 178,
   "metadata": {},
   "outputs": [
    {
     "data": {
      "image/png": "[encoded data removed]",
      "text/plain": [
       "<Figure size 432x288 with 1 Axes>"
      ]
     },
     "metadata": {
      "needs_background": "light"
     },
     "output_type": "display_data"
    }
   ],
   "source": [
    "tplot = np.linspace(0, 1000*(pumptime+decaytime), len(tlist)+len(tlistdecay))\n",
    "#fig, (ax2) = plt.subplots(1,1, figsize=(15,5))\n",
    "fig = plt.figure()\n",
    "plt.pcolor(tplot, pin, szlos, shading=\"auto\")\n",
    "plt.xlabel('Time (ns)')\n",
    "plt.ylabel('Input power (dB)');"
   ]
  },
  {
   "cell_type": "code",
   "execution_count": 181,
   "metadata": {},
   "outputs": [],
   "source": [
    "tend = 400e-3\n",
    "tp = np.arange(0, tend+dt, dt)\n",
    "tplot2 = np.linspace(0, 1000*(pumptime+decaytime), len(tp)+len(tlistdecay))\n",
    "\n",
    "\n",
    "dtf = 0.0001\n",
    "tpf = np.arange(0, pumptime+dtf, dtf)\n",
    "\n",
    "tau = tend/6\n",
    "alpha = 8*gammaq/tend/2  # sweeps from -8 linewidth to 8* linewidth\n",
    "\n",
    "# %qtconsole\n",
    "pulsei = pulse_chirped(tp, (tau, tend, alpha), True)\n",
    "pulseq = pulse_chirped(tp, (tau, tend, alpha), False)\n",
    "\n",
    "scale = 80\n",
    "solutionpump2, soldecay, infodict = solve_obes(\n",
    "    obes_soc, init, pdf, tp, tlistdecay, scale*pulsei, scale*pulseq, tp, 1, gperp, spins, gpar)"
   ]
  },
  {
   "cell_type": "code",
   "execution_count": 182,
   "metadata": {},
   "outputs": [
    {
     "data": {
      "text/plain": [
       "[<matplotlib.lines.Line2D at 0x7fd5e6484670>]"
      ]
     },
     "execution_count": 182,
     "metadata": {},
     "output_type": "execute_result"
    },
    {
     "data": {
      "image/png": "[encoded data removed]",
      "text/plain": [
       "<Figure size 432x288 with 1 Axes>"
      ]
     },
     "metadata": {
      "needs_background": "light"
     },
     "output_type": "display_data"
    }
   ],
   "source": [
    "plt.plot(tp, np.sum(np.real(solutionpump2[:, 1::2]), axis=1))"
   ]
  },
  {
   "cell_type": "code",
   "execution_count": null,
   "metadata": {},
   "outputs": [],
   "source": []
  }
 ],
 "metadata": {
  "kernelspec": {
   "display_name": "Python 3",
   "language": "python",
   "name": "python3"
  },
  "language_info": {
   "codemirror_mode": {
    "name": "ipython",
    "version": 3
   },
   "file_extension": ".py",
   "mimetype": "text/x-python",
   "name": "python",
   "nbconvert_exporter": "python",
   "pygments_lexer": "ipython3",
   "version": "3.9.5"
  }
 },
 "nbformat": 4,
 "nbformat_minor": 4
}
